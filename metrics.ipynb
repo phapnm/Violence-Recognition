{
 "cells": [
  {
   "cell_type": "code",
   "execution_count": 1,
   "metadata": {},
   "outputs": [],
   "source": [
    "import pandas as pd\n",
    "import numpy as np\n",
    "\n",
    "from sklearn.metrics import confusion_matrix, precision_recall_fscore_support\n",
    "\n",
    "import matplotlib.pyplot as plt\n",
    "import itertools"
   ]
  },
  {
   "cell_type": "code",
   "execution_count": 2,
   "metadata": {},
   "outputs": [],
   "source": [
    "def plot_confusion_matrix(cm, classes, normalize=False, title='Confusion matrix', cmap=plt.cm.Blues):\n",
    "    if normalize:\n",
    "        cm = cm.astype('float') / cm.sum(axis=1)[:, np.newaxis]\n",
    "        print(\"Normalized confusion matrix\")\n",
    "    else:\n",
    "        print('Confusion matrix, without normalization')\n",
    "\n",
    "    print(cm)\n",
    "    plt.imshow(cm, interpolation='nearest', cmap=cmap)\n",
    "    plt.title(title)\n",
    "    plt.colorbar()\n",
    "    tick_marks = np.arange(len(classes))\n",
    "    plt.xticks(tick_marks, classes, rotation=45)\n",
    "    plt.yticks(tick_marks, classes)\n",
    "\n",
    "    fmt = '.2f' if normalize else 'd'\n",
    "    thresh = cm.max() / 2.\n",
    "    for i, j in itertools.product(range(cm.shape[0]), range(cm.shape[1])):\n",
    "        plt.text(j, i, format(cm[i, j], fmt), horizontalalignment=\"center\", color=\"white\" if cm[i, j] > thresh else \"black\")\n",
    "\n",
    "    plt.tight_layout()\n",
    "    plt.ylabel('True label')\n",
    "    plt.xlabel('Predicted label')"
   ]
  },
  {
   "cell_type": "code",
   "execution_count": 9,
   "metadata": {},
   "outputs": [],
   "source": [
    "labels = ['Non Violence', 'Violence']"
   ]
  },
  {
   "cell_type": "code",
   "execution_count": 4,
   "metadata": {},
   "outputs": [
    {
     "data": {
      "text/html": [
       "<div>\n",
       "<style scoped>\n",
       "    .dataframe tbody tr th:only-of-type {\n",
       "        vertical-align: middle;\n",
       "    }\n",
       "\n",
       "    .dataframe tbody tr th {\n",
       "        vertical-align: top;\n",
       "    }\n",
       "\n",
       "    .dataframe thead th {\n",
       "        text-align: right;\n",
       "    }\n",
       "</style>\n",
       "<table border=\"1\" class=\"dataframe\">\n",
       "  <thead>\n",
       "    <tr style=\"text-align: right;\">\n",
       "      <th></th>\n",
       "      <th>Unnamed: 0</th>\n",
       "      <th>full_name</th>\n",
       "      <th>file_name</th>\n",
       "      <th>true_label</th>\n",
       "      <th>pred_label_orig</th>\n",
       "      <th>pred_label</th>\n",
       "    </tr>\n",
       "  </thead>\n",
       "  <tbody>\n",
       "    <tr>\n",
       "      <th>0</th>\n",
       "      <td>0</td>\n",
       "      <td>443_RWF_train0.avi 0</td>\n",
       "      <td>443_RWF_train0.avi</td>\n",
       "      <td>0</td>\n",
       "      <td>[0.9497355  0.05026454]</td>\n",
       "      <td>0</td>\n",
       "    </tr>\n",
       "    <tr>\n",
       "      <th>1</th>\n",
       "      <td>1</td>\n",
       "      <td>12_RWF_train0.avi 0</td>\n",
       "      <td>12_RWF_train0.avi</td>\n",
       "      <td>0</td>\n",
       "      <td>[0.98816484 0.01183521]</td>\n",
       "      <td>0</td>\n",
       "    </tr>\n",
       "    <tr>\n",
       "      <th>2</th>\n",
       "      <td>2</td>\n",
       "      <td>637_RWF_train0.avi 0</td>\n",
       "      <td>637_RWF_train0.avi</td>\n",
       "      <td>0</td>\n",
       "      <td>[0.32105327 0.6789468 ]</td>\n",
       "      <td>1</td>\n",
       "    </tr>\n",
       "    <tr>\n",
       "      <th>3</th>\n",
       "      <td>3</td>\n",
       "      <td>339_RWF_train0.avi 0</td>\n",
       "      <td>339_RWF_train0.avi</td>\n",
       "      <td>0</td>\n",
       "      <td>[0.9183778 0.0816223]</td>\n",
       "      <td>0</td>\n",
       "    </tr>\n",
       "    <tr>\n",
       "      <th>4</th>\n",
       "      <td>4</td>\n",
       "      <td>546_RWF_train0.avi 0</td>\n",
       "      <td>546_RWF_train0.avi</td>\n",
       "      <td>0</td>\n",
       "      <td>[0.99766046 0.00233963]</td>\n",
       "      <td>0</td>\n",
       "    </tr>\n",
       "    <tr>\n",
       "      <th>...</th>\n",
       "      <td>...</td>\n",
       "      <td>...</td>\n",
       "      <td>...</td>\n",
       "      <td>...</td>\n",
       "      <td>...</td>\n",
       "      <td>...</td>\n",
       "    </tr>\n",
       "    <tr>\n",
       "      <th>195</th>\n",
       "      <td>195</td>\n",
       "      <td>687_RWF_train1.avi 1</td>\n",
       "      <td>687_RWF_train1.avi</td>\n",
       "      <td>1</td>\n",
       "      <td>[0.0309114 0.9690887]</td>\n",
       "      <td>1</td>\n",
       "    </tr>\n",
       "    <tr>\n",
       "      <th>196</th>\n",
       "      <td>196</td>\n",
       "      <td>435_RWF_train1.avi 1</td>\n",
       "      <td>435_RWF_train1.avi</td>\n",
       "      <td>1</td>\n",
       "      <td>[0.9973768  0.00262317]</td>\n",
       "      <td>0</td>\n",
       "    </tr>\n",
       "    <tr>\n",
       "      <th>197</th>\n",
       "      <td>197</td>\n",
       "      <td>273_RWF_train1.avi 1</td>\n",
       "      <td>273_RWF_train1.avi</td>\n",
       "      <td>1</td>\n",
       "      <td>[7.1250106e-05 9.9992877e-01]</td>\n",
       "      <td>1</td>\n",
       "    </tr>\n",
       "    <tr>\n",
       "      <th>198</th>\n",
       "      <td>198</td>\n",
       "      <td>248_RWF_train1.avi 1</td>\n",
       "      <td>248_RWF_train1.avi</td>\n",
       "      <td>1</td>\n",
       "      <td>[9.1588503e-04 9.9908423e-01]</td>\n",
       "      <td>1</td>\n",
       "    </tr>\n",
       "    <tr>\n",
       "      <th>199</th>\n",
       "      <td>199</td>\n",
       "      <td>688_RWF_train1.avi 1</td>\n",
       "      <td>688_RWF_train1.avi</td>\n",
       "      <td>1</td>\n",
       "      <td>[0.0263124 0.9736876]</td>\n",
       "      <td>1</td>\n",
       "    </tr>\n",
       "  </tbody>\n",
       "</table>\n",
       "<p>200 rows × 6 columns</p>\n",
       "</div>"
      ],
      "text/plain": [
       "     Unnamed: 0             full_name           file_name  true_label  \\\n",
       "0             0  443_RWF_train0.avi 0  443_RWF_train0.avi           0   \n",
       "1             1   12_RWF_train0.avi 0   12_RWF_train0.avi           0   \n",
       "2             2  637_RWF_train0.avi 0  637_RWF_train0.avi           0   \n",
       "3             3  339_RWF_train0.avi 0  339_RWF_train0.avi           0   \n",
       "4             4  546_RWF_train0.avi 0  546_RWF_train0.avi           0   \n",
       "..          ...                   ...                 ...         ...   \n",
       "195         195  687_RWF_train1.avi 1  687_RWF_train1.avi           1   \n",
       "196         196  435_RWF_train1.avi 1  435_RWF_train1.avi           1   \n",
       "197         197  273_RWF_train1.avi 1  273_RWF_train1.avi           1   \n",
       "198         198  248_RWF_train1.avi 1  248_RWF_train1.avi           1   \n",
       "199         199  688_RWF_train1.avi 1  688_RWF_train1.avi           1   \n",
       "\n",
       "                   pred_label_orig  pred_label  \n",
       "0          [0.9497355  0.05026454]           0  \n",
       "1          [0.98816484 0.01183521]           0  \n",
       "2          [0.32105327 0.6789468 ]           1  \n",
       "3            [0.9183778 0.0816223]           0  \n",
       "4          [0.99766046 0.00233963]           0  \n",
       "..                             ...         ...  \n",
       "195          [0.0309114 0.9690887]           1  \n",
       "196        [0.9973768  0.00262317]           0  \n",
       "197  [7.1250106e-05 9.9992877e-01]           1  \n",
       "198  [9.1588503e-04 9.9908423e-01]           1  \n",
       "199          [0.0263124 0.9736876]           1  \n",
       "\n",
       "[200 rows x 6 columns]"
      ]
     },
     "execution_count": 4,
     "metadata": {},
     "output_type": "execute_result"
    }
   ],
   "source": [
    "df = pd.read_csv('rwf_test_pred.csv')\n",
    "df"
   ]
  },
  {
   "cell_type": "code",
   "execution_count": 5,
   "metadata": {},
   "outputs": [],
   "source": [
    "true_label = df['true_label'].tolist()\n",
    "pred_label = df['pred_label'].tolist()"
   ]
  },
  {
   "cell_type": "code",
   "execution_count": 6,
   "metadata": {},
   "outputs": [],
   "source": [
    "cm = confusion_matrix(true_label, pred_label)"
   ]
  },
  {
   "cell_type": "code",
   "execution_count": 18,
   "metadata": {},
   "outputs": [
    {
     "data": {
      "text/plain": [
       "(array([0.85849057, 0.91489362]),\n",
       " array([0.91919192, 0.85148515]),\n",
       " array([0.88780488, 0.88205128]),\n",
       " array([ 99, 101]))"
      ]
     },
     "execution_count": 18,
     "metadata": {},
     "output_type": "execute_result"
    }
   ],
   "source": [
    "precision_recall_fscore_support(true_label, pred_label)"
   ]
  },
  {
   "cell_type": "code",
   "execution_count": 15,
   "metadata": {},
   "outputs": [
    {
     "data": {
      "text/plain": [
       "(0.885, 0.885, 0.885, None)"
      ]
     },
     "execution_count": 15,
     "metadata": {},
     "output_type": "execute_result"
    }
   ],
   "source": [
    "precision_recall_fscore_support(true_label, pred_label, average='micro')"
   ]
  },
  {
   "cell_type": "code",
   "execution_count": 16,
   "metadata": {},
   "outputs": [
    {
     "data": {
      "text/plain": [
       "(0.8866920915295062, 0.8853385338533853, 0.8849280800500313, None)"
      ]
     },
     "execution_count": 16,
     "metadata": {},
     "output_type": "execute_result"
    }
   ],
   "source": [
    "precision_recall_fscore_support(true_label, pred_label, average='macro')"
   ]
  },
  {
   "cell_type": "code",
   "execution_count": 17,
   "metadata": {},
   "outputs": [
    {
     "data": {
      "text/plain": [
       "(0.8869741067844239, 0.885, 0.8848993120700439, None)"
      ]
     },
     "execution_count": 17,
     "metadata": {},
     "output_type": "execute_result"
    }
   ],
   "source": [
    "precision_recall_fscore_support(true_label, pred_label, average='weighted')"
   ]
  },
  {
   "cell_type": "code",
   "execution_count": 8,
   "metadata": {},
   "outputs": [
    {
     "name": "stdout",
     "output_type": "stream",
     "text": [
      "Confusion matrix, without normalization\n",
      "[[91  8]\n",
      " [15 86]]\n"
     ]
    },
    {
     "data": {
      "image/png": "[encoded data removed]",
      "text/plain": [
       "<Figure size 432x288 with 2 Axes>"
      ]
     },
     "metadata": {
      "needs_background": "light"
     },
     "output_type": "display_data"
    }
   ],
   "source": [
    "plot_confusion_matrix(cm, labels)"
   ]
  },
  {
   "cell_type": "code",
   "execution_count": 49,
   "metadata": {},
   "outputs": [
    {
     "data": {
      "text/html": [
       "<div>\n",
       "<style scoped>\n",
       "    .dataframe tbody tr th:only-of-type {\n",
       "        vertical-align: middle;\n",
       "    }\n",
       "\n",
       "    .dataframe tbody tr th {\n",
       "        vertical-align: top;\n",
       "    }\n",
       "\n",
       "    .dataframe thead th {\n",
       "        text-align: right;\n",
       "    }\n",
       "</style>\n",
       "<table border=\"1\" class=\"dataframe\">\n",
       "  <thead>\n",
       "    <tr style=\"text-align: right;\">\n",
       "      <th></th>\n",
       "      <th>Unnamed: 0</th>\n",
       "      <th>full_name</th>\n",
       "      <th>file_name</th>\n",
       "      <th>true_label</th>\n",
       "      <th>pred_label_orig</th>\n",
       "      <th>pred_label</th>\n",
       "    </tr>\n",
       "  </thead>\n",
       "  <tbody>\n",
       "    <tr>\n",
       "      <th>0</th>\n",
       "      <td>0</td>\n",
       "      <td>443_RWF_train0.avi 0</td>\n",
       "      <td>443_RWF_train0.avi</td>\n",
       "      <td>0</td>\n",
       "      <td>[0.9497355  0.05026454]</td>\n",
       "      <td>0</td>\n",
       "    </tr>\n",
       "    <tr>\n",
       "      <th>1</th>\n",
       "      <td>1</td>\n",
       "      <td>12_RWF_train0.avi 0</td>\n",
       "      <td>12_RWF_train0.avi</td>\n",
       "      <td>0</td>\n",
       "      <td>[0.98816484 0.01183521]</td>\n",
       "      <td>0</td>\n",
       "    </tr>\n",
       "    <tr>\n",
       "      <th>2</th>\n",
       "      <td>2</td>\n",
       "      <td>637_RWF_train0.avi 0</td>\n",
       "      <td>637_RWF_train0.avi</td>\n",
       "      <td>0</td>\n",
       "      <td>[0.32105327 0.6789468 ]</td>\n",
       "      <td>1</td>\n",
       "    </tr>\n",
       "    <tr>\n",
       "      <th>3</th>\n",
       "      <td>3</td>\n",
       "      <td>339_RWF_train0.avi 0</td>\n",
       "      <td>339_RWF_train0.avi</td>\n",
       "      <td>0</td>\n",
       "      <td>[0.9183778 0.0816223]</td>\n",
       "      <td>0</td>\n",
       "    </tr>\n",
       "    <tr>\n",
       "      <th>4</th>\n",
       "      <td>4</td>\n",
       "      <td>546_RWF_train0.avi 0</td>\n",
       "      <td>546_RWF_train0.avi</td>\n",
       "      <td>0</td>\n",
       "      <td>[0.99766046 0.00233963]</td>\n",
       "      <td>0</td>\n",
       "    </tr>\n",
       "    <tr>\n",
       "      <th>...</th>\n",
       "      <td>...</td>\n",
       "      <td>...</td>\n",
       "      <td>...</td>\n",
       "      <td>...</td>\n",
       "      <td>...</td>\n",
       "      <td>...</td>\n",
       "    </tr>\n",
       "    <tr>\n",
       "      <th>195</th>\n",
       "      <td>195</td>\n",
       "      <td>687_RWF_train1.avi 1</td>\n",
       "      <td>687_RWF_train1.avi</td>\n",
       "      <td>1</td>\n",
       "      <td>[0.0309114 0.9690887]</td>\n",
       "      <td>1</td>\n",
       "    </tr>\n",
       "    <tr>\n",
       "      <th>196</th>\n",
       "      <td>196</td>\n",
       "      <td>435_RWF_train1.avi 1</td>\n",
       "      <td>435_RWF_train1.avi</td>\n",
       "      <td>1</td>\n",
       "      <td>[0.9973768  0.00262317]</td>\n",
       "      <td>0</td>\n",
       "    </tr>\n",
       "    <tr>\n",
       "      <th>197</th>\n",
       "      <td>197</td>\n",
       "      <td>273_RWF_train1.avi 1</td>\n",
       "      <td>273_RWF_train1.avi</td>\n",
       "      <td>1</td>\n",
       "      <td>[7.1250106e-05 9.9992877e-01]</td>\n",
       "      <td>1</td>\n",
       "    </tr>\n",
       "    <tr>\n",
       "      <th>198</th>\n",
       "      <td>198</td>\n",
       "      <td>248_RWF_train1.avi 1</td>\n",
       "      <td>248_RWF_train1.avi</td>\n",
       "      <td>1</td>\n",
       "      <td>[9.1588503e-04 9.9908423e-01]</td>\n",
       "      <td>1</td>\n",
       "    </tr>\n",
       "    <tr>\n",
       "      <th>199</th>\n",
       "      <td>199</td>\n",
       "      <td>688_RWF_train1.avi 1</td>\n",
       "      <td>688_RWF_train1.avi</td>\n",
       "      <td>1</td>\n",
       "      <td>[0.0263124 0.9736876]</td>\n",
       "      <td>1</td>\n",
       "    </tr>\n",
       "  </tbody>\n",
       "</table>\n",
       "<p>200 rows × 6 columns</p>\n",
       "</div>"
      ],
      "text/plain": [
       "     Unnamed: 0             full_name           file_name  true_label  \\\n",
       "0             0  443_RWF_train0.avi 0  443_RWF_train0.avi           0   \n",
       "1             1   12_RWF_train0.avi 0   12_RWF_train0.avi           0   \n",
       "2             2  637_RWF_train0.avi 0  637_RWF_train0.avi           0   \n",
       "3             3  339_RWF_train0.avi 0  339_RWF_train0.avi           0   \n",
       "4             4  546_RWF_train0.avi 0  546_RWF_train0.avi           0   \n",
       "..          ...                   ...                 ...         ...   \n",
       "195         195  687_RWF_train1.avi 1  687_RWF_train1.avi           1   \n",
       "196         196  435_RWF_train1.avi 1  435_RWF_train1.avi           1   \n",
       "197         197  273_RWF_train1.avi 1  273_RWF_train1.avi           1   \n",
       "198         198  248_RWF_train1.avi 1  248_RWF_train1.avi           1   \n",
       "199         199  688_RWF_train1.avi 1  688_RWF_train1.avi           1   \n",
       "\n",
       "                   pred_label_orig  pred_label  \n",
       "0          [0.9497355  0.05026454]           0  \n",
       "1          [0.98816484 0.01183521]           0  \n",
       "2          [0.32105327 0.6789468 ]           1  \n",
       "3            [0.9183778 0.0816223]           0  \n",
       "4          [0.99766046 0.00233963]           0  \n",
       "..                             ...         ...  \n",
       "195          [0.0309114 0.9690887]           1  \n",
       "196        [0.9973768  0.00262317]           0  \n",
       "197  [7.1250106e-05 9.9992877e-01]           1  \n",
       "198  [9.1588503e-04 9.9908423e-01]           1  \n",
       "199          [0.0263124 0.9736876]           1  \n",
       "\n",
       "[200 rows x 6 columns]"
      ]
     },
     "execution_count": 49,
     "metadata": {},
     "output_type": "execute_result"
    }
   ],
   "source": [
    "df2 = pd.read_csv('dataset2_test_pred.csv')\n",
    "df2"
   ]
  },
  {
   "cell_type": "code",
   "execution_count": 51,
   "metadata": {},
   "outputs": [],
   "source": [
    "cm2 = confusion_matrix(true_label2, pred_label2)"
   ]
  },
  {
   "cell_type": "code",
   "execution_count": 52,
   "metadata": {},
   "outputs": [
    {
     "name": "stdout",
     "output_type": "stream",
     "text": [
      "Confusion matrix, without normalization\n",
      "[[91  8]\n",
      " [15 86]]\n"
     ]
    },
    {
     "data": {
      "image/png": "[encoded data removed]",
      "text/plain": [
       "<Figure size 432x288 with 2 Axes>"
      ]
     },
     "metadata": {
      "needs_background": "light"
     },
     "output_type": "display_data"
    }
   ],
   "source": [
    "plot_confusion_matrix(cm2, labels)"
   ]
  },
  {
   "cell_type": "code",
   "execution_count": 12,
   "metadata": {},
   "outputs": [
    {
     "data": {
      "text/html": [
       "<div>\n",
       "<style scoped>\n",
       "    .dataframe tbody tr th:only-of-type {\n",
       "        vertical-align: middle;\n",
       "    }\n",
       "\n",
       "    .dataframe tbody tr th {\n",
       "        vertical-align: top;\n",
       "    }\n",
       "\n",
       "    .dataframe thead th {\n",
       "        text-align: right;\n",
       "    }\n",
       "</style>\n",
       "<table border=\"1\" class=\"dataframe\">\n",
       "  <thead>\n",
       "    <tr style=\"text-align: right;\">\n",
       "      <th></th>\n",
       "      <th>Unnamed: 0</th>\n",
       "      <th>full_name</th>\n",
       "      <th>file_name</th>\n",
       "      <th>true_label</th>\n",
       "      <th>pred_label_orig</th>\n",
       "      <th>pred_label</th>\n",
       "    </tr>\n",
       "  </thead>\n",
       "  <tbody>\n",
       "    <tr>\n",
       "      <th>0</th>\n",
       "      <td>0</td>\n",
       "      <td>651_VioKag_0.mp4 0</td>\n",
       "      <td>651_VioKag_0.mp4</td>\n",
       "      <td>0</td>\n",
       "      <td>[0.9982632  0.00173695]</td>\n",
       "      <td>0</td>\n",
       "    </tr>\n",
       "    <tr>\n",
       "      <th>1</th>\n",
       "      <td>1</td>\n",
       "      <td>125_VioKag_0.mp4 0</td>\n",
       "      <td>125_VioKag_0.mp4</td>\n",
       "      <td>0</td>\n",
       "      <td>[9.9999624e-01 3.8088965e-06]</td>\n",
       "      <td>0</td>\n",
       "    </tr>\n",
       "    <tr>\n",
       "      <th>2</th>\n",
       "      <td>2</td>\n",
       "      <td>733_VioKag_0.mp4 0</td>\n",
       "      <td>733_VioKag_0.mp4</td>\n",
       "      <td>0</td>\n",
       "      <td>[0.9970187  0.00298139]</td>\n",
       "      <td>0</td>\n",
       "    </tr>\n",
       "    <tr>\n",
       "      <th>3</th>\n",
       "      <td>3</td>\n",
       "      <td>161_VioKag_0.mp4 0</td>\n",
       "      <td>161_VioKag_0.mp4</td>\n",
       "      <td>0</td>\n",
       "      <td>[0.02880068 0.97119933]</td>\n",
       "      <td>1</td>\n",
       "    </tr>\n",
       "    <tr>\n",
       "      <th>4</th>\n",
       "      <td>4</td>\n",
       "      <td>50_VioKag_0.mp4 0</td>\n",
       "      <td>50_VioKag_0.mp4</td>\n",
       "      <td>0</td>\n",
       "      <td>[0.8405567 0.1594434]</td>\n",
       "      <td>0</td>\n",
       "    </tr>\n",
       "    <tr>\n",
       "      <th>...</th>\n",
       "      <td>...</td>\n",
       "      <td>...</td>\n",
       "      <td>...</td>\n",
       "      <td>...</td>\n",
       "      <td>...</td>\n",
       "      <td>...</td>\n",
       "    </tr>\n",
       "    <tr>\n",
       "      <th>325</th>\n",
       "      <td>325</td>\n",
       "      <td>391_VioKag_1.mp4 1</td>\n",
       "      <td>391_VioKag_1.mp4</td>\n",
       "      <td>1</td>\n",
       "      <td>[0.16411194 0.83588815]</td>\n",
       "      <td>1</td>\n",
       "    </tr>\n",
       "    <tr>\n",
       "      <th>326</th>\n",
       "      <td>326</td>\n",
       "      <td>763_VioKag_1.mp4 1</td>\n",
       "      <td>763_VioKag_1.mp4</td>\n",
       "      <td>1</td>\n",
       "      <td>[0.04074828 0.9592517 ]</td>\n",
       "      <td>1</td>\n",
       "    </tr>\n",
       "    <tr>\n",
       "      <th>327</th>\n",
       "      <td>327</td>\n",
       "      <td>105_VioKag_1.mp4 1</td>\n",
       "      <td>105_VioKag_1.mp4</td>\n",
       "      <td>1</td>\n",
       "      <td>[0.01055076 0.9894494 ]</td>\n",
       "      <td>1</td>\n",
       "    </tr>\n",
       "    <tr>\n",
       "      <th>328</th>\n",
       "      <td>328</td>\n",
       "      <td>151_VioKag_1.mp4 1</td>\n",
       "      <td>151_VioKag_1.mp4</td>\n",
       "      <td>1</td>\n",
       "      <td>[0.00588849 0.99411154]</td>\n",
       "      <td>1</td>\n",
       "    </tr>\n",
       "    <tr>\n",
       "      <th>329</th>\n",
       "      <td>329</td>\n",
       "      <td>846_VioKag_1.mp4 1</td>\n",
       "      <td>846_VioKag_1.mp4</td>\n",
       "      <td>1</td>\n",
       "      <td>[1.3376810e-05 9.9998677e-01]</td>\n",
       "      <td>1</td>\n",
       "    </tr>\n",
       "  </tbody>\n",
       "</table>\n",
       "<p>330 rows × 6 columns</p>\n",
       "</div>"
      ],
      "text/plain": [
       "     Unnamed: 0           full_name         file_name  true_label  \\\n",
       "0             0  651_VioKag_0.mp4 0  651_VioKag_0.mp4           0   \n",
       "1             1  125_VioKag_0.mp4 0  125_VioKag_0.mp4           0   \n",
       "2             2  733_VioKag_0.mp4 0  733_VioKag_0.mp4           0   \n",
       "3             3  161_VioKag_0.mp4 0  161_VioKag_0.mp4           0   \n",
       "4             4   50_VioKag_0.mp4 0   50_VioKag_0.mp4           0   \n",
       "..          ...                 ...               ...         ...   \n",
       "325         325  391_VioKag_1.mp4 1  391_VioKag_1.mp4           1   \n",
       "326         326  763_VioKag_1.mp4 1  763_VioKag_1.mp4           1   \n",
       "327         327  105_VioKag_1.mp4 1  105_VioKag_1.mp4           1   \n",
       "328         328  151_VioKag_1.mp4 1  151_VioKag_1.mp4           1   \n",
       "329         329  846_VioKag_1.mp4 1  846_VioKag_1.mp4           1   \n",
       "\n",
       "                   pred_label_orig  pred_label  \n",
       "0          [0.9982632  0.00173695]           0  \n",
       "1    [9.9999624e-01 3.8088965e-06]           0  \n",
       "2          [0.9970187  0.00298139]           0  \n",
       "3          [0.02880068 0.97119933]           1  \n",
       "4            [0.8405567 0.1594434]           0  \n",
       "..                             ...         ...  \n",
       "325        [0.16411194 0.83588815]           1  \n",
       "326        [0.04074828 0.9592517 ]           1  \n",
       "327        [0.01055076 0.9894494 ]           1  \n",
       "328        [0.00588849 0.99411154]           1  \n",
       "329  [1.3376810e-05 9.9998677e-01]           1  \n",
       "\n",
       "[330 rows x 6 columns]"
      ]
     },
     "execution_count": 12,
     "metadata": {},
     "output_type": "execute_result"
    }
   ],
   "source": [
    "df_kaggle_test = pd.read_csv('kaggle_test.csv')\n",
    "df_kaggle_test"
   ]
  },
  {
   "cell_type": "code",
   "execution_count": 13,
   "metadata": {},
   "outputs": [],
   "source": [
    "true_label_kaggle_test = df_kaggle_test['true_label'].tolist()\n",
    "pred_label_kaggle_test = df_kaggle_test['pred_label'].tolist()"
   ]
  },
  {
   "cell_type": "code",
   "execution_count": 14,
   "metadata": {},
   "outputs": [],
   "source": [
    "cm_kaggle_test = confusion_matrix(true_label_kaggle_test, pred_label_kaggle_test)"
   ]
  },
  {
   "cell_type": "code",
   "execution_count": 56,
   "metadata": {},
   "outputs": [
    {
     "name": "stdout",
     "output_type": "stream",
     "text": [
      "Confusion matrix, without normalization\n",
      "[[150  27]\n",
      " [ 12 141]]\n"
     ]
    },
    {
     "data": {
      "image/png": "[encoded data removed]",
      "text/plain": [
       "<Figure size 432x288 with 2 Axes>"
      ]
     },
     "metadata": {
      "needs_background": "light"
     },
     "output_type": "display_data"
    }
   ],
   "source": [
    "plot_confusion_matrix(cm_kaggle_test, labels)"
   ]
  },
  {
   "cell_type": "code",
   "execution_count": 3,
   "metadata": {},
   "outputs": [
    {
     "data": {
      "text/html": [
       "<div>\n",
       "<style scoped>\n",
       "    .dataframe tbody tr th:only-of-type {\n",
       "        vertical-align: middle;\n",
       "    }\n",
       "\n",
       "    .dataframe tbody tr th {\n",
       "        vertical-align: top;\n",
       "    }\n",
       "\n",
       "    .dataframe thead th {\n",
       "        text-align: right;\n",
       "    }\n",
       "</style>\n",
       "<table border=\"1\" class=\"dataframe\">\n",
       "  <thead>\n",
       "    <tr style=\"text-align: right;\">\n",
       "      <th></th>\n",
       "      <th>Unnamed: 0</th>\n",
       "      <th>full_name</th>\n",
       "      <th>file_name</th>\n",
       "      <th>true_label</th>\n",
       "      <th>pred_label_orig</th>\n",
       "      <th>pred_label</th>\n",
       "    </tr>\n",
       "  </thead>\n",
       "  <tbody>\n",
       "    <tr>\n",
       "      <th>0</th>\n",
       "      <td>0</td>\n",
       "      <td>443_RWF_train0.avi 0</td>\n",
       "      <td>443_RWF_train0.avi</td>\n",
       "      <td>0</td>\n",
       "      <td>[9.9970287e-01 2.9717354e-04]</td>\n",
       "      <td>0</td>\n",
       "    </tr>\n",
       "    <tr>\n",
       "      <th>1</th>\n",
       "      <td>1</td>\n",
       "      <td>12_RWF_train0.avi 0</td>\n",
       "      <td>12_RWF_train0.avi</td>\n",
       "      <td>0</td>\n",
       "      <td>[0.94528353 0.05471651]</td>\n",
       "      <td>0</td>\n",
       "    </tr>\n",
       "    <tr>\n",
       "      <th>2</th>\n",
       "      <td>2</td>\n",
       "      <td>637_RWF_train0.avi 0</td>\n",
       "      <td>637_RWF_train0.avi</td>\n",
       "      <td>0</td>\n",
       "      <td>[0.3450982 0.6549019]</td>\n",
       "      <td>1</td>\n",
       "    </tr>\n",
       "    <tr>\n",
       "      <th>3</th>\n",
       "      <td>3</td>\n",
       "      <td>339_RWF_train0.avi 0</td>\n",
       "      <td>339_RWF_train0.avi</td>\n",
       "      <td>0</td>\n",
       "      <td>[0.992487   0.00751306]</td>\n",
       "      <td>0</td>\n",
       "    </tr>\n",
       "    <tr>\n",
       "      <th>4</th>\n",
       "      <td>4</td>\n",
       "      <td>546_RWF_train0.avi 0</td>\n",
       "      <td>546_RWF_train0.avi</td>\n",
       "      <td>0</td>\n",
       "      <td>[0.9989471  0.00105298]</td>\n",
       "      <td>0</td>\n",
       "    </tr>\n",
       "    <tr>\n",
       "      <th>...</th>\n",
       "      <td>...</td>\n",
       "      <td>...</td>\n",
       "      <td>...</td>\n",
       "      <td>...</td>\n",
       "      <td>...</td>\n",
       "      <td>...</td>\n",
       "    </tr>\n",
       "    <tr>\n",
       "      <th>525</th>\n",
       "      <td>525</td>\n",
       "      <td>391_VioKag_1.mp4 1</td>\n",
       "      <td>391_VioKag_1.mp4</td>\n",
       "      <td>1</td>\n",
       "      <td>[0.00224742 0.9977526 ]</td>\n",
       "      <td>1</td>\n",
       "    </tr>\n",
       "    <tr>\n",
       "      <th>526</th>\n",
       "      <td>526</td>\n",
       "      <td>763_VioKag_1.mp4 1</td>\n",
       "      <td>763_VioKag_1.mp4</td>\n",
       "      <td>1</td>\n",
       "      <td>[4.3956472e-05 9.9995619e-01]</td>\n",
       "      <td>1</td>\n",
       "    </tr>\n",
       "    <tr>\n",
       "      <th>527</th>\n",
       "      <td>527</td>\n",
       "      <td>105_VioKag_1.mp4 1</td>\n",
       "      <td>105_VioKag_1.mp4</td>\n",
       "      <td>1</td>\n",
       "      <td>[6.5649465e-06 9.9999350e-01]</td>\n",
       "      <td>1</td>\n",
       "    </tr>\n",
       "    <tr>\n",
       "      <th>528</th>\n",
       "      <td>528</td>\n",
       "      <td>151_VioKag_1.mp4 1</td>\n",
       "      <td>151_VioKag_1.mp4</td>\n",
       "      <td>1</td>\n",
       "      <td>[6.0259817e-06 9.9999410e-01]</td>\n",
       "      <td>1</td>\n",
       "    </tr>\n",
       "    <tr>\n",
       "      <th>529</th>\n",
       "      <td>529</td>\n",
       "      <td>846_VioKag_1.mp4 1</td>\n",
       "      <td>846_VioKag_1.mp4</td>\n",
       "      <td>1</td>\n",
       "      <td>[3.0563710e-06 9.9999696e-01]</td>\n",
       "      <td>1</td>\n",
       "    </tr>\n",
       "  </tbody>\n",
       "</table>\n",
       "<p>530 rows × 6 columns</p>\n",
       "</div>"
      ],
      "text/plain": [
       "     Unnamed: 0             full_name           file_name  true_label  \\\n",
       "0             0  443_RWF_train0.avi 0  443_RWF_train0.avi           0   \n",
       "1             1   12_RWF_train0.avi 0   12_RWF_train0.avi           0   \n",
       "2             2  637_RWF_train0.avi 0  637_RWF_train0.avi           0   \n",
       "3             3  339_RWF_train0.avi 0  339_RWF_train0.avi           0   \n",
       "4             4  546_RWF_train0.avi 0  546_RWF_train0.avi           0   \n",
       "..          ...                   ...                 ...         ...   \n",
       "525         525    391_VioKag_1.mp4 1    391_VioKag_1.mp4           1   \n",
       "526         526    763_VioKag_1.mp4 1    763_VioKag_1.mp4           1   \n",
       "527         527    105_VioKag_1.mp4 1    105_VioKag_1.mp4           1   \n",
       "528         528    151_VioKag_1.mp4 1    151_VioKag_1.mp4           1   \n",
       "529         529    846_VioKag_1.mp4 1    846_VioKag_1.mp4           1   \n",
       "\n",
       "                   pred_label_orig  pred_label  \n",
       "0    [9.9970287e-01 2.9717354e-04]           0  \n",
       "1          [0.94528353 0.05471651]           0  \n",
       "2            [0.3450982 0.6549019]           1  \n",
       "3          [0.992487   0.00751306]           0  \n",
       "4          [0.9989471  0.00105298]           0  \n",
       "..                             ...         ...  \n",
       "525        [0.00224742 0.9977526 ]           1  \n",
       "526  [4.3956472e-05 9.9995619e-01]           1  \n",
       "527  [6.5649465e-06 9.9999350e-01]           1  \n",
       "528  [6.0259817e-06 9.9999410e-01]           1  \n",
       "529  [3.0563710e-06 9.9999696e-01]           1  \n",
       "\n",
       "[530 rows x 6 columns]"
      ]
     },
     "execution_count": 3,
     "metadata": {},
     "output_type": "execute_result"
    }
   ],
   "source": [
    "df_dataset3_test = pd.read_csv('dataset3_test_pred.csv')\n",
    "df_dataset3_test"
   ]
  },
  {
   "cell_type": "code",
   "execution_count": 4,
   "metadata": {},
   "outputs": [
    {
     "data": {
      "text/plain": [
       "530"
      ]
     },
     "execution_count": 4,
     "metadata": {},
     "output_type": "execute_result"
    }
   ],
   "source": [
    "true_label_ds3 = df_dataset3_test['true_label'].tolist()\n",
    "pred_label_ds3 = df_dataset3_test['pred_label'].tolist()\n",
    "len(true_label_ds3)"
   ]
  },
  {
   "cell_type": "code",
   "execution_count": 23,
   "metadata": {},
   "outputs": [
    {
     "data": {
      "text/plain": [
       "array([[265,  12],\n",
       "       [ 15, 238]])"
      ]
     },
     "execution_count": 23,
     "metadata": {},
     "output_type": "execute_result"
    }
   ],
   "source": [
    "cm_ds3 = confusion_matrix(true_label_ds3, pred_label_ds3)\n",
    "cm_ds3"
   ]
  },
  {
   "cell_type": "code",
   "execution_count": 7,
   "metadata": {},
   "outputs": [
    {
     "data": {
      "text/plain": [
       "(0.9492142857142857, 0.9486950814058019, 0.948924049955206, None)"
      ]
     },
     "execution_count": 7,
     "metadata": {},
     "output_type": "execute_result"
    }
   ],
   "source": [
    "precision_recall_fscore_support(true_label_ds3, pred_label_ds3, average='macro')"
   ]
  },
  {
   "cell_type": "code",
   "execution_count": 10,
   "metadata": {},
   "outputs": [
    {
     "name": "stdout",
     "output_type": "stream",
     "text": [
      "Confusion matrix, without normalization\n",
      "[[265  12]\n",
      " [ 15 238]]\n"
     ]
    },
    {
     "data": {
      "image/png": "[encoded data removed]",
      "text/plain": [
       "<Figure size 432x288 with 2 Axes>"
      ]
     },
     "metadata": {
      "needs_background": "light"
     },
     "output_type": "display_data"
    }
   ],
   "source": [
    "plot_confusion_matrix(cm_ds3, labels)"
   ]
  },
  {
   "cell_type": "code",
   "execution_count": 11,
   "metadata": {},
   "outputs": [
    {
     "data": {
      "text/html": [
       "<div>\n",
       "<style scoped>\n",
       "    .dataframe tbody tr th:only-of-type {\n",
       "        vertical-align: middle;\n",
       "    }\n",
       "\n",
       "    .dataframe tbody tr th {\n",
       "        vertical-align: top;\n",
       "    }\n",
       "\n",
       "    .dataframe thead th {\n",
       "        text-align: right;\n",
       "    }\n",
       "</style>\n",
       "<table border=\"1\" class=\"dataframe\">\n",
       "  <thead>\n",
       "    <tr style=\"text-align: right;\">\n",
       "      <th></th>\n",
       "      <th>Unnamed: 0</th>\n",
       "      <th>full_name</th>\n",
       "      <th>file_name</th>\n",
       "      <th>true_label</th>\n",
       "      <th>pred_label_orig</th>\n",
       "      <th>pred_label</th>\n",
       "    </tr>\n",
       "  </thead>\n",
       "  <tbody>\n",
       "    <tr>\n",
       "      <th>0</th>\n",
       "      <td>0</td>\n",
       "      <td>443_RWF_train0.avi 0</td>\n",
       "      <td>443_RWF_train0.avi</td>\n",
       "      <td>0</td>\n",
       "      <td>[0.9497355  0.05026454]</td>\n",
       "      <td>0</td>\n",
       "    </tr>\n",
       "    <tr>\n",
       "      <th>1</th>\n",
       "      <td>1</td>\n",
       "      <td>12_RWF_train0.avi 0</td>\n",
       "      <td>12_RWF_train0.avi</td>\n",
       "      <td>0</td>\n",
       "      <td>[0.98816484 0.01183521]</td>\n",
       "      <td>0</td>\n",
       "    </tr>\n",
       "    <tr>\n",
       "      <th>2</th>\n",
       "      <td>2</td>\n",
       "      <td>637_RWF_train0.avi 0</td>\n",
       "      <td>637_RWF_train0.avi</td>\n",
       "      <td>0</td>\n",
       "      <td>[0.32105327 0.6789468 ]</td>\n",
       "      <td>1</td>\n",
       "    </tr>\n",
       "    <tr>\n",
       "      <th>3</th>\n",
       "      <td>3</td>\n",
       "      <td>339_RWF_train0.avi 0</td>\n",
       "      <td>339_RWF_train0.avi</td>\n",
       "      <td>0</td>\n",
       "      <td>[0.9183778 0.0816223]</td>\n",
       "      <td>0</td>\n",
       "    </tr>\n",
       "    <tr>\n",
       "      <th>4</th>\n",
       "      <td>4</td>\n",
       "      <td>546_RWF_train0.avi 0</td>\n",
       "      <td>546_RWF_train0.avi</td>\n",
       "      <td>0</td>\n",
       "      <td>[0.99766046 0.00233963]</td>\n",
       "      <td>0</td>\n",
       "    </tr>\n",
       "    <tr>\n",
       "      <th>...</th>\n",
       "      <td>...</td>\n",
       "      <td>...</td>\n",
       "      <td>...</td>\n",
       "      <td>...</td>\n",
       "      <td>...</td>\n",
       "      <td>...</td>\n",
       "    </tr>\n",
       "    <tr>\n",
       "      <th>525</th>\n",
       "      <td>525</td>\n",
       "      <td>391_VioKag_1.mp4 1</td>\n",
       "      <td>391_VioKag_1.mp4</td>\n",
       "      <td>1</td>\n",
       "      <td>[0.16411194 0.83588815]</td>\n",
       "      <td>1</td>\n",
       "    </tr>\n",
       "    <tr>\n",
       "      <th>526</th>\n",
       "      <td>526</td>\n",
       "      <td>763_VioKag_1.mp4 1</td>\n",
       "      <td>763_VioKag_1.mp4</td>\n",
       "      <td>1</td>\n",
       "      <td>[0.04074828 0.9592517 ]</td>\n",
       "      <td>1</td>\n",
       "    </tr>\n",
       "    <tr>\n",
       "      <th>527</th>\n",
       "      <td>527</td>\n",
       "      <td>105_VioKag_1.mp4 1</td>\n",
       "      <td>105_VioKag_1.mp4</td>\n",
       "      <td>1</td>\n",
       "      <td>[0.01055076 0.9894494 ]</td>\n",
       "      <td>1</td>\n",
       "    </tr>\n",
       "    <tr>\n",
       "      <th>528</th>\n",
       "      <td>528</td>\n",
       "      <td>151_VioKag_1.mp4 1</td>\n",
       "      <td>151_VioKag_1.mp4</td>\n",
       "      <td>1</td>\n",
       "      <td>[0.00588849 0.99411154]</td>\n",
       "      <td>1</td>\n",
       "    </tr>\n",
       "    <tr>\n",
       "      <th>529</th>\n",
       "      <td>529</td>\n",
       "      <td>846_VioKag_1.mp4 1</td>\n",
       "      <td>846_VioKag_1.mp4</td>\n",
       "      <td>1</td>\n",
       "      <td>[1.3376810e-05 9.9998677e-01]</td>\n",
       "      <td>1</td>\n",
       "    </tr>\n",
       "  </tbody>\n",
       "</table>\n",
       "<p>530 rows × 6 columns</p>\n",
       "</div>"
      ],
      "text/plain": [
       "     Unnamed: 0             full_name           file_name  true_label  \\\n",
       "0             0  443_RWF_train0.avi 0  443_RWF_train0.avi           0   \n",
       "1             1   12_RWF_train0.avi 0   12_RWF_train0.avi           0   \n",
       "2             2  637_RWF_train0.avi 0  637_RWF_train0.avi           0   \n",
       "3             3  339_RWF_train0.avi 0  339_RWF_train0.avi           0   \n",
       "4             4  546_RWF_train0.avi 0  546_RWF_train0.avi           0   \n",
       "..          ...                   ...                 ...         ...   \n",
       "525         525    391_VioKag_1.mp4 1    391_VioKag_1.mp4           1   \n",
       "526         526    763_VioKag_1.mp4 1    763_VioKag_1.mp4           1   \n",
       "527         527    105_VioKag_1.mp4 1    105_VioKag_1.mp4           1   \n",
       "528         528    151_VioKag_1.mp4 1    151_VioKag_1.mp4           1   \n",
       "529         529    846_VioKag_1.mp4 1    846_VioKag_1.mp4           1   \n",
       "\n",
       "                   pred_label_orig  pred_label  \n",
       "0          [0.9497355  0.05026454]           0  \n",
       "1          [0.98816484 0.01183521]           0  \n",
       "2          [0.32105327 0.6789468 ]           1  \n",
       "3            [0.9183778 0.0816223]           0  \n",
       "4          [0.99766046 0.00233963]           0  \n",
       "..                             ...         ...  \n",
       "525        [0.16411194 0.83588815]           1  \n",
       "526        [0.04074828 0.9592517 ]           1  \n",
       "527        [0.01055076 0.9894494 ]           1  \n",
       "528        [0.00588849 0.99411154]           1  \n",
       "529  [1.3376810e-05 9.9998677e-01]           1  \n",
       "\n",
       "[530 rows x 6 columns]"
      ]
     },
     "execution_count": 11,
     "metadata": {},
     "output_type": "execute_result"
    }
   ],
   "source": [
    "df_ds3_w_rwf_model = pd.read_csv('dataset3_test_pred_w_rwf_model.csv')\n",
    "df_ds3_w_rwf_model"
   ]
  },
  {
   "cell_type": "code",
   "execution_count": 12,
   "metadata": {},
   "outputs": [
    {
     "data": {
      "text/plain": [
       "530"
      ]
     },
     "execution_count": 12,
     "metadata": {},
     "output_type": "execute_result"
    }
   ],
   "source": [
    "true_label_ds3_w_rwf_model = df_ds3_w_rwf_model['true_label'].tolist()\n",
    "pred_label_ds3_w_rwf_model = df_ds3_w_rwf_model['pred_label'].tolist()\n",
    "len(true_label_ds3)"
   ]
  },
  {
   "cell_type": "code",
   "execution_count": 19,
   "metadata": {},
   "outputs": [
    {
     "data": {
      "text/plain": [
       "array([[241,  36],\n",
       "       [ 27, 226]])"
      ]
     },
     "execution_count": 19,
     "metadata": {},
     "output_type": "execute_result"
    }
   ],
   "source": [
    "cm_ds3_w_rwf_model = confusion_matrix(true_label_ds3_w_rwf_model, pred_label_ds3_w_rwf_model)\n",
    "cm_ds3_w_rwf_model"
   ]
  },
  {
   "cell_type": "code",
   "execution_count": 17,
   "metadata": {},
   "outputs": [
    {
     "data": {
      "text/plain": [
       "(0.8809245755953059, 0.8816583667470499, 0.881036786318696, None)"
      ]
     },
     "execution_count": 17,
     "metadata": {},
     "output_type": "execute_result"
    }
   ],
   "source": [
    "precision_recall_fscore_support(true_label_ds3_w_rwf_model, pred_label_ds3_w_rwf_model, average='macro')"
   ]
  },
  {
   "cell_type": "code",
   "execution_count": 22,
   "metadata": {},
   "outputs": [
    {
     "name": "stdout",
     "output_type": "stream",
     "text": [
      "Confusion matrix, without normalization\n",
      "[[241  36]\n",
      " [ 27 226]]\n"
     ]
    },
    {
     "data": {
      "image/png": "[encoded data removed]",
      "text/plain": [
       "<Figure size 432x288 with 2 Axes>"
      ]
     },
     "metadata": {
      "needs_background": "light"
     },
     "output_type": "display_data"
    }
   ],
   "source": [
    "plot_confusion_matrix(cm_ds3_w_rwf_model, labels)"
   ]
  },
  {
   "cell_type": "code",
   "execution_count": null,
   "metadata": {},
   "outputs": [],
   "source": []
  }
 ],
 "metadata": {
  "kernelspec": {
   "display_name": "mmaction",
   "language": "python",
   "name": "mmaction"
  },
  "language_info": {
   "codemirror_mode": {
    "name": "ipython",
    "version": 3
   },
   "file_extension": ".py",
   "mimetype": "text/x-python",
   "name": "python",
   "nbconvert_exporter": "python",
   "pygments_lexer": "ipython3",
   "version": "3.7.7"
  }
 },
 "nbformat": 4,
 "nbformat_minor": 4
}
