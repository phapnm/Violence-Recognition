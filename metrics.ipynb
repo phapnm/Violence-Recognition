{
 "cells": [
  {
   "cell_type": "code",
   "execution_count": 1,
   "metadata": {},
   "outputs": [],
   "source": [
    "import pandas as pd\n",
    "import numpy as np\n",
    "\n",
    "from sklearn.metrics import confusion_matrix, precision_recall_fscore_support, f1_score\n",
    "\n",
    "import matplotlib.pyplot as plt\n",
    "import itertools"
   ]
  },
  {
   "cell_type": "code",
   "execution_count": 2,
   "metadata": {},
   "outputs": [],
   "source": [
    "def plot_confusion_matrix(cm, classes, normalize=False, title='Confusion matrix', cmap=plt.cm.Blues):\n",
    "    if normalize:\n",
    "        cm = cm.astype('float') / cm.sum(axis=1)[:, np.newaxis]\n",
    "        print(\"Normalized confusion matrix\")\n",
    "    else:\n",
    "        print('Confusion matrix, without normalization')\n",
    "\n",
    "    print(cm)\n",
    "    plt.imshow(cm, interpolation='nearest', cmap=cmap)\n",
    "    plt.title(title)\n",
    "    plt.colorbar()\n",
    "    tick_marks = np.arange(len(classes))\n",
    "    plt.xticks(tick_marks, classes, rotation=45)\n",
    "    plt.yticks(tick_marks, classes)\n",
    "\n",
    "    fmt = '.2f' if normalize else 'd'\n",
    "    thresh = cm.max() / 2.\n",
    "    for i, j in itertools.product(range(cm.shape[0]), range(cm.shape[1])):\n",
    "        plt.text(j, i, format(cm[i, j], fmt), horizontalalignment=\"center\", color=\"white\" if cm[i, j] > thresh else \"black\")\n",
    "\n",
    "    plt.tight_layout()\n",
    "    plt.ylabel('True label')\n",
    "    plt.xlabel('Predicted label')"
   ]
  },
  {
   "cell_type": "code",
   "execution_count": 3,
   "metadata": {},
   "outputs": [],
   "source": [
    "labels = ['Non Violence', 'Violence']"
   ]
  },
  {
   "cell_type": "code",
   "execution_count": 4,
   "metadata": {},
   "outputs": [
    {
     "data": {
      "text/html": [
       "<div>\n",
       "<style scoped>\n",
       "    .dataframe tbody tr th:only-of-type {\n",
       "        vertical-align: middle;\n",
       "    }\n",
       "\n",
       "    .dataframe tbody tr th {\n",
       "        vertical-align: top;\n",
       "    }\n",
       "\n",
       "    .dataframe thead th {\n",
       "        text-align: right;\n",
       "    }\n",
       "</style>\n",
       "<table border=\"1\" class=\"dataframe\">\n",
       "  <thead>\n",
       "    <tr style=\"text-align: right;\">\n",
       "      <th></th>\n",
       "      <th>Unnamed: 0</th>\n",
       "      <th>full_name</th>\n",
       "      <th>file_name</th>\n",
       "      <th>true_label</th>\n",
       "      <th>pred_label_orig</th>\n",
       "      <th>pred_label</th>\n",
       "    </tr>\n",
       "  </thead>\n",
       "  <tbody>\n",
       "    <tr>\n",
       "      <th>0</th>\n",
       "      <td>0</td>\n",
       "      <td>443_RWF_train0.avi 0</td>\n",
       "      <td>443_RWF_train0.avi</td>\n",
       "      <td>0</td>\n",
       "      <td>[0.9497355  0.05026454]</td>\n",
       "      <td>0</td>\n",
       "    </tr>\n",
       "    <tr>\n",
       "      <th>1</th>\n",
       "      <td>1</td>\n",
       "      <td>12_RWF_train0.avi 0</td>\n",
       "      <td>12_RWF_train0.avi</td>\n",
       "      <td>0</td>\n",
       "      <td>[0.98816484 0.01183521]</td>\n",
       "      <td>0</td>\n",
       "    </tr>\n",
       "    <tr>\n",
       "      <th>2</th>\n",
       "      <td>2</td>\n",
       "      <td>637_RWF_train0.avi 0</td>\n",
       "      <td>637_RWF_train0.avi</td>\n",
       "      <td>0</td>\n",
       "      <td>[0.32105327 0.6789468 ]</td>\n",
       "      <td>1</td>\n",
       "    </tr>\n",
       "    <tr>\n",
       "      <th>3</th>\n",
       "      <td>3</td>\n",
       "      <td>339_RWF_train0.avi 0</td>\n",
       "      <td>339_RWF_train0.avi</td>\n",
       "      <td>0</td>\n",
       "      <td>[0.9183778 0.0816223]</td>\n",
       "      <td>0</td>\n",
       "    </tr>\n",
       "    <tr>\n",
       "      <th>4</th>\n",
       "      <td>4</td>\n",
       "      <td>546_RWF_train0.avi 0</td>\n",
       "      <td>546_RWF_train0.avi</td>\n",
       "      <td>0</td>\n",
       "      <td>[0.99766046 0.00233963]</td>\n",
       "      <td>0</td>\n",
       "    </tr>\n",
       "    <tr>\n",
       "      <th>...</th>\n",
       "      <td>...</td>\n",
       "      <td>...</td>\n",
       "      <td>...</td>\n",
       "      <td>...</td>\n",
       "      <td>...</td>\n",
       "      <td>...</td>\n",
       "    </tr>\n",
       "    <tr>\n",
       "      <th>195</th>\n",
       "      <td>195</td>\n",
       "      <td>687_RWF_train1.avi 1</td>\n",
       "      <td>687_RWF_train1.avi</td>\n",
       "      <td>1</td>\n",
       "      <td>[0.0309114 0.9690887]</td>\n",
       "      <td>1</td>\n",
       "    </tr>\n",
       "    <tr>\n",
       "      <th>196</th>\n",
       "      <td>196</td>\n",
       "      <td>435_RWF_train1.avi 1</td>\n",
       "      <td>435_RWF_train1.avi</td>\n",
       "      <td>1</td>\n",
       "      <td>[0.9973768  0.00262317]</td>\n",
       "      <td>0</td>\n",
       "    </tr>\n",
       "    <tr>\n",
       "      <th>197</th>\n",
       "      <td>197</td>\n",
       "      <td>273_RWF_train1.avi 1</td>\n",
       "      <td>273_RWF_train1.avi</td>\n",
       "      <td>1</td>\n",
       "      <td>[7.1250106e-05 9.9992877e-01]</td>\n",
       "      <td>1</td>\n",
       "    </tr>\n",
       "    <tr>\n",
       "      <th>198</th>\n",
       "      <td>198</td>\n",
       "      <td>248_RWF_train1.avi 1</td>\n",
       "      <td>248_RWF_train1.avi</td>\n",
       "      <td>1</td>\n",
       "      <td>[9.1588503e-04 9.9908423e-01]</td>\n",
       "      <td>1</td>\n",
       "    </tr>\n",
       "    <tr>\n",
       "      <th>199</th>\n",
       "      <td>199</td>\n",
       "      <td>688_RWF_train1.avi 1</td>\n",
       "      <td>688_RWF_train1.avi</td>\n",
       "      <td>1</td>\n",
       "      <td>[0.0263124 0.9736876]</td>\n",
       "      <td>1</td>\n",
       "    </tr>\n",
       "  </tbody>\n",
       "</table>\n",
       "<p>200 rows × 6 columns</p>\n",
       "</div>"
      ],
      "text/plain": [
       "     Unnamed: 0             full_name           file_name  true_label  \\\n",
       "0             0  443_RWF_train0.avi 0  443_RWF_train0.avi           0   \n",
       "1             1   12_RWF_train0.avi 0   12_RWF_train0.avi           0   \n",
       "2             2  637_RWF_train0.avi 0  637_RWF_train0.avi           0   \n",
       "3             3  339_RWF_train0.avi 0  339_RWF_train0.avi           0   \n",
       "4             4  546_RWF_train0.avi 0  546_RWF_train0.avi           0   \n",
       "..          ...                   ...                 ...         ...   \n",
       "195         195  687_RWF_train1.avi 1  687_RWF_train1.avi           1   \n",
       "196         196  435_RWF_train1.avi 1  435_RWF_train1.avi           1   \n",
       "197         197  273_RWF_train1.avi 1  273_RWF_train1.avi           1   \n",
       "198         198  248_RWF_train1.avi 1  248_RWF_train1.avi           1   \n",
       "199         199  688_RWF_train1.avi 1  688_RWF_train1.avi           1   \n",
       "\n",
       "                   pred_label_orig  pred_label  \n",
       "0          [0.9497355  0.05026454]           0  \n",
       "1          [0.98816484 0.01183521]           0  \n",
       "2          [0.32105327 0.6789468 ]           1  \n",
       "3            [0.9183778 0.0816223]           0  \n",
       "4          [0.99766046 0.00233963]           0  \n",
       "..                             ...         ...  \n",
       "195          [0.0309114 0.9690887]           1  \n",
       "196        [0.9973768  0.00262317]           0  \n",
       "197  [7.1250106e-05 9.9992877e-01]           1  \n",
       "198  [9.1588503e-04 9.9908423e-01]           1  \n",
       "199          [0.0263124 0.9736876]           1  \n",
       "\n",
       "[200 rows x 6 columns]"
      ]
     },
     "execution_count": 4,
     "metadata": {},
     "output_type": "execute_result"
    }
   ],
   "source": [
    "df = pd.read_csv('rwf_test_pred.csv')\n",
    "df"
   ]
  },
  {
   "cell_type": "code",
   "execution_count": 5,
   "metadata": {},
   "outputs": [],
   "source": [
    "true_label = df['true_label'].tolist()\n",
    "pred_label = df['pred_label'].tolist()"
   ]
  },
  {
   "cell_type": "code",
   "execution_count": 6,
   "metadata": {},
   "outputs": [],
   "source": [
    "cm = confusion_matrix(true_label, pred_label)"
   ]
  },
  {
   "cell_type": "code",
   "execution_count": 18,
   "metadata": {},
   "outputs": [
    {
     "data": {
      "text/plain": [
       "(array([0.85849057, 0.91489362]),\n",
       " array([0.91919192, 0.85148515]),\n",
       " array([0.88780488, 0.88205128]),\n",
       " array([ 99, 101]))"
      ]
     },
     "execution_count": 18,
     "metadata": {},
     "output_type": "execute_result"
    }
   ],
   "source": [
    "precision_recall_fscore_support(true_label, pred_label)"
   ]
  },
  {
   "cell_type": "code",
   "execution_count": 15,
   "metadata": {},
   "outputs": [
    {
     "data": {
      "text/plain": [
       "(0.885, 0.885, 0.885, None)"
      ]
     },
     "execution_count": 15,
     "metadata": {},
     "output_type": "execute_result"
    }
   ],
   "source": [
    "precision_recall_fscore_support(true_label, pred_label, average='micro')"
   ]
  },
  {
   "cell_type": "code",
   "execution_count": 16,
   "metadata": {},
   "outputs": [
    {
     "data": {
      "text/plain": [
       "(0.8866920915295062, 0.8853385338533853, 0.8849280800500313, None)"
      ]
     },
     "execution_count": 16,
     "metadata": {},
     "output_type": "execute_result"
    }
   ],
   "source": [
    "precision_recall_fscore_support(true_label, pred_label, average='macro')"
   ]
  },
  {
   "cell_type": "code",
   "execution_count": 17,
   "metadata": {},
   "outputs": [
    {
     "data": {
      "text/plain": [
       "(0.8869741067844239, 0.885, 0.8848993120700439, None)"
      ]
     },
     "execution_count": 17,
     "metadata": {},
     "output_type": "execute_result"
    }
   ],
   "source": [
    "precision_recall_fscore_support(true_label, pred_label, average='weighted')"
   ]
  },
  {
   "cell_type": "code",
   "execution_count": 8,
   "metadata": {},
   "outputs": [
    {
     "name": "stdout",
     "output_type": "stream",
     "text": [
      "Confusion matrix, without normalization\n",
      "[[91  8]\n",
      " [15 86]]\n"
     ]
    },
    {
     "data": {
      "image/png": "[encoded data removed]",
      "text/plain": [
       "<Figure size 432x288 with 2 Axes>"
      ]
     },
     "metadata": {
      "needs_background": "light"
     },
     "output_type": "display_data"
    }
   ],
   "source": [
    "plot_confusion_matrix(cm, labels)"
   ]
  },
  {
   "cell_type": "code",
   "execution_count": 49,
   "metadata": {},
   "outputs": [
    {
     "data": {
      "text/html": [
       "<div>\n",
       "<style scoped>\n",
       "    .dataframe tbody tr th:only-of-type {\n",
       "        vertical-align: middle;\n",
       "    }\n",
       "\n",
       "    .dataframe tbody tr th {\n",
       "        vertical-align: top;\n",
       "    }\n",
       "\n",
       "    .dataframe thead th {\n",
       "        text-align: right;\n",
       "    }\n",
       "</style>\n",
       "<table border=\"1\" class=\"dataframe\">\n",
       "  <thead>\n",
       "    <tr style=\"text-align: right;\">\n",
       "      <th></th>\n",
       "      <th>Unnamed: 0</th>\n",
       "      <th>full_name</th>\n",
       "      <th>file_name</th>\n",
       "      <th>true_label</th>\n",
       "      <th>pred_label_orig</th>\n",
       "      <th>pred_label</th>\n",
       "    </tr>\n",
       "  </thead>\n",
       "  <tbody>\n",
       "    <tr>\n",
       "      <th>0</th>\n",
       "      <td>0</td>\n",
       "      <td>443_RWF_train0.avi 0</td>\n",
       "      <td>443_RWF_train0.avi</td>\n",
       "      <td>0</td>\n",
       "      <td>[0.9497355  0.05026454]</td>\n",
       "      <td>0</td>\n",
       "    </tr>\n",
       "    <tr>\n",
       "      <th>1</th>\n",
       "      <td>1</td>\n",
       "      <td>12_RWF_train0.avi 0</td>\n",
       "      <td>12_RWF_train0.avi</td>\n",
       "      <td>0</td>\n",
       "      <td>[0.98816484 0.01183521]</td>\n",
       "      <td>0</td>\n",
       "    </tr>\n",
       "    <tr>\n",
       "      <th>2</th>\n",
       "      <td>2</td>\n",
       "      <td>637_RWF_train0.avi 0</td>\n",
       "      <td>637_RWF_train0.avi</td>\n",
       "      <td>0</td>\n",
       "      <td>[0.32105327 0.6789468 ]</td>\n",
       "      <td>1</td>\n",
       "    </tr>\n",
       "    <tr>\n",
       "      <th>3</th>\n",
       "      <td>3</td>\n",
       "      <td>339_RWF_train0.avi 0</td>\n",
       "      <td>339_RWF_train0.avi</td>\n",
       "      <td>0</td>\n",
       "      <td>[0.9183778 0.0816223]</td>\n",
       "      <td>0</td>\n",
       "    </tr>\n",
       "    <tr>\n",
       "      <th>4</th>\n",
       "      <td>4</td>\n",
       "      <td>546_RWF_train0.avi 0</td>\n",
       "      <td>546_RWF_train0.avi</td>\n",
       "      <td>0</td>\n",
       "      <td>[0.99766046 0.00233963]</td>\n",
       "      <td>0</td>\n",
       "    </tr>\n",
       "    <tr>\n",
       "      <th>...</th>\n",
       "      <td>...</td>\n",
       "      <td>...</td>\n",
       "      <td>...</td>\n",
       "      <td>...</td>\n",
       "      <td>...</td>\n",
       "      <td>...</td>\n",
       "    </tr>\n",
       "    <tr>\n",
       "      <th>195</th>\n",
       "      <td>195</td>\n",
       "      <td>687_RWF_train1.avi 1</td>\n",
       "      <td>687_RWF_train1.avi</td>\n",
       "      <td>1</td>\n",
       "      <td>[0.0309114 0.9690887]</td>\n",
       "      <td>1</td>\n",
       "    </tr>\n",
       "    <tr>\n",
       "      <th>196</th>\n",
       "      <td>196</td>\n",
       "      <td>435_RWF_train1.avi 1</td>\n",
       "      <td>435_RWF_train1.avi</td>\n",
       "      <td>1</td>\n",
       "      <td>[0.9973768  0.00262317]</td>\n",
       "      <td>0</td>\n",
       "    </tr>\n",
       "    <tr>\n",
       "      <th>197</th>\n",
       "      <td>197</td>\n",
       "      <td>273_RWF_train1.avi 1</td>\n",
       "      <td>273_RWF_train1.avi</td>\n",
       "      <td>1</td>\n",
       "      <td>[7.1250106e-05 9.9992877e-01]</td>\n",
       "      <td>1</td>\n",
       "    </tr>\n",
       "    <tr>\n",
       "      <th>198</th>\n",
       "      <td>198</td>\n",
       "      <td>248_RWF_train1.avi 1</td>\n",
       "      <td>248_RWF_train1.avi</td>\n",
       "      <td>1</td>\n",
       "      <td>[9.1588503e-04 9.9908423e-01]</td>\n",
       "      <td>1</td>\n",
       "    </tr>\n",
       "    <tr>\n",
       "      <th>199</th>\n",
       "      <td>199</td>\n",
       "      <td>688_RWF_train1.avi 1</td>\n",
       "      <td>688_RWF_train1.avi</td>\n",
       "      <td>1</td>\n",
       "      <td>[0.0263124 0.9736876]</td>\n",
       "      <td>1</td>\n",
       "    </tr>\n",
       "  </tbody>\n",
       "</table>\n",
       "<p>200 rows × 6 columns</p>\n",
       "</div>"
      ],
      "text/plain": [
       "     Unnamed: 0             full_name           file_name  true_label  \\\n",
       "0             0  443_RWF_train0.avi 0  443_RWF_train0.avi           0   \n",
       "1             1   12_RWF_train0.avi 0   12_RWF_train0.avi           0   \n",
       "2             2  637_RWF_train0.avi 0  637_RWF_train0.avi           0   \n",
       "3             3  339_RWF_train0.avi 0  339_RWF_train0.avi           0   \n",
       "4             4  546_RWF_train0.avi 0  546_RWF_train0.avi           0   \n",
       "..          ...                   ...                 ...         ...   \n",
       "195         195  687_RWF_train1.avi 1  687_RWF_train1.avi           1   \n",
       "196         196  435_RWF_train1.avi 1  435_RWF_train1.avi           1   \n",
       "197         197  273_RWF_train1.avi 1  273_RWF_train1.avi           1   \n",
       "198         198  248_RWF_train1.avi 1  248_RWF_train1.avi           1   \n",
       "199         199  688_RWF_train1.avi 1  688_RWF_train1.avi           1   \n",
       "\n",
       "                   pred_label_orig  pred_label  \n",
       "0          [0.9497355  0.05026454]           0  \n",
       "1          [0.98816484 0.01183521]           0  \n",
       "2          [0.32105327 0.6789468 ]           1  \n",
       "3            [0.9183778 0.0816223]           0  \n",
       "4          [0.99766046 0.00233963]           0  \n",
       "..                             ...         ...  \n",
       "195          [0.0309114 0.9690887]           1  \n",
       "196        [0.9973768  0.00262317]           0  \n",
       "197  [7.1250106e-05 9.9992877e-01]           1  \n",
       "198  [9.1588503e-04 9.9908423e-01]           1  \n",
       "199          [0.0263124 0.9736876]           1  \n",
       "\n",
       "[200 rows x 6 columns]"
      ]
     },
     "execution_count": 49,
     "metadata": {},
     "output_type": "execute_result"
    }
   ],
   "source": [
    "df2 = pd.read_csv('dataset2_test_pred.csv')\n",
    "df2"
   ]
  },
  {
   "cell_type": "code",
   "execution_count": 51,
   "metadata": {},
   "outputs": [],
   "source": [
    "cm2 = confusion_matrix(true_label2, pred_label2)"
   ]
  },
  {
   "cell_type": "code",
   "execution_count": 52,
   "metadata": {},
   "outputs": [
    {
     "name": "stdout",
     "output_type": "stream",
     "text": [
      "Confusion matrix, without normalization\n",
      "[[91  8]\n",
      " [15 86]]\n"
     ]
    },
    {
     "data": {
      "image/png": "[encoded data removed]",
      "text/plain": [
       "<Figure size 432x288 with 2 Axes>"
      ]
     },
     "metadata": {
      "needs_background": "light"
     },
     "output_type": "display_data"
    }
   ],
   "source": [
    "plot_confusion_matrix(cm2, labels)"
   ]
  },
  {
   "cell_type": "code",
   "execution_count": 12,
   "metadata": {},
   "outputs": [
    {
     "data": {
      "text/html": [
       "<div>\n",
       "<style scoped>\n",
       "    .dataframe tbody tr th:only-of-type {\n",
       "        vertical-align: middle;\n",
       "    }\n",
       "\n",
       "    .dataframe tbody tr th {\n",
       "        vertical-align: top;\n",
       "    }\n",
       "\n",
       "    .dataframe thead th {\n",
       "        text-align: right;\n",
       "    }\n",
       "</style>\n",
       "<table border=\"1\" class=\"dataframe\">\n",
       "  <thead>\n",
       "    <tr style=\"text-align: right;\">\n",
       "      <th></th>\n",
       "      <th>Unnamed: 0</th>\n",
       "      <th>full_name</th>\n",
       "      <th>file_name</th>\n",
       "      <th>true_label</th>\n",
       "      <th>pred_label_orig</th>\n",
       "      <th>pred_label</th>\n",
       "    </tr>\n",
       "  </thead>\n",
       "  <tbody>\n",
       "    <tr>\n",
       "      <th>0</th>\n",
       "      <td>0</td>\n",
       "      <td>651_VioKag_0.mp4 0</td>\n",
       "      <td>651_VioKag_0.mp4</td>\n",
       "      <td>0</td>\n",
       "      <td>[0.9982632  0.00173695]</td>\n",
       "      <td>0</td>\n",
       "    </tr>\n",
       "    <tr>\n",
       "      <th>1</th>\n",
       "      <td>1</td>\n",
       "      <td>125_VioKag_0.mp4 0</td>\n",
       "      <td>125_VioKag_0.mp4</td>\n",
       "      <td>0</td>\n",
       "      <td>[9.9999624e-01 3.8088965e-06]</td>\n",
       "      <td>0</td>\n",
       "    </tr>\n",
       "    <tr>\n",
       "      <th>2</th>\n",
       "      <td>2</td>\n",
       "      <td>733_VioKag_0.mp4 0</td>\n",
       "      <td>733_VioKag_0.mp4</td>\n",
       "      <td>0</td>\n",
       "      <td>[0.9970187  0.00298139]</td>\n",
       "      <td>0</td>\n",
       "    </tr>\n",
       "    <tr>\n",
       "      <th>3</th>\n",
       "      <td>3</td>\n",
       "      <td>161_VioKag_0.mp4 0</td>\n",
       "      <td>161_VioKag_0.mp4</td>\n",
       "      <td>0</td>\n",
       "      <td>[0.02880068 0.97119933]</td>\n",
       "      <td>1</td>\n",
       "    </tr>\n",
       "    <tr>\n",
       "      <th>4</th>\n",
       "      <td>4</td>\n",
       "      <td>50_VioKag_0.mp4 0</td>\n",
       "      <td>50_VioKag_0.mp4</td>\n",
       "      <td>0</td>\n",
       "      <td>[0.8405567 0.1594434]</td>\n",
       "      <td>0</td>\n",
       "    </tr>\n",
       "    <tr>\n",
       "      <th>...</th>\n",
       "      <td>...</td>\n",
       "      <td>...</td>\n",
       "      <td>...</td>\n",
       "      <td>...</td>\n",
       "      <td>...</td>\n",
       "      <td>...</td>\n",
       "    </tr>\n",
       "    <tr>\n",
       "      <th>325</th>\n",
       "      <td>325</td>\n",
       "      <td>391_VioKag_1.mp4 1</td>\n",
       "      <td>391_VioKag_1.mp4</td>\n",
       "      <td>1</td>\n",
       "      <td>[0.16411194 0.83588815]</td>\n",
       "      <td>1</td>\n",
       "    </tr>\n",
       "    <tr>\n",
       "      <th>326</th>\n",
       "      <td>326</td>\n",
       "      <td>763_VioKag_1.mp4 1</td>\n",
       "      <td>763_VioKag_1.mp4</td>\n",
       "      <td>1</td>\n",
       "      <td>[0.04074828 0.9592517 ]</td>\n",
       "      <td>1</td>\n",
       "    </tr>\n",
       "    <tr>\n",
       "      <th>327</th>\n",
       "      <td>327</td>\n",
       "      <td>105_VioKag_1.mp4 1</td>\n",
       "      <td>105_VioKag_1.mp4</td>\n",
       "      <td>1</td>\n",
       "      <td>[0.01055076 0.9894494 ]</td>\n",
       "      <td>1</td>\n",
       "    </tr>\n",
       "    <tr>\n",
       "      <th>328</th>\n",
       "      <td>328</td>\n",
       "      <td>151_VioKag_1.mp4 1</td>\n",
       "      <td>151_VioKag_1.mp4</td>\n",
       "      <td>1</td>\n",
       "      <td>[0.00588849 0.99411154]</td>\n",
       "      <td>1</td>\n",
       "    </tr>\n",
       "    <tr>\n",
       "      <th>329</th>\n",
       "      <td>329</td>\n",
       "      <td>846_VioKag_1.mp4 1</td>\n",
       "      <td>846_VioKag_1.mp4</td>\n",
       "      <td>1</td>\n",
       "      <td>[1.3376810e-05 9.9998677e-01]</td>\n",
       "      <td>1</td>\n",
       "    </tr>\n",
       "  </tbody>\n",
       "</table>\n",
       "<p>330 rows × 6 columns</p>\n",
       "</div>"
      ],
      "text/plain": [
       "     Unnamed: 0           full_name         file_name  true_label  \\\n",
       "0             0  651_VioKag_0.mp4 0  651_VioKag_0.mp4           0   \n",
       "1             1  125_VioKag_0.mp4 0  125_VioKag_0.mp4           0   \n",
       "2             2  733_VioKag_0.mp4 0  733_VioKag_0.mp4           0   \n",
       "3             3  161_VioKag_0.mp4 0  161_VioKag_0.mp4           0   \n",
       "4             4   50_VioKag_0.mp4 0   50_VioKag_0.mp4           0   \n",
       "..          ...                 ...               ...         ...   \n",
       "325         325  391_VioKag_1.mp4 1  391_VioKag_1.mp4           1   \n",
       "326         326  763_VioKag_1.mp4 1  763_VioKag_1.mp4           1   \n",
       "327         327  105_VioKag_1.mp4 1  105_VioKag_1.mp4           1   \n",
       "328         328  151_VioKag_1.mp4 1  151_VioKag_1.mp4           1   \n",
       "329         329  846_VioKag_1.mp4 1  846_VioKag_1.mp4           1   \n",
       "\n",
       "                   pred_label_orig  pred_label  \n",
       "0          [0.9982632  0.00173695]           0  \n",
       "1    [9.9999624e-01 3.8088965e-06]           0  \n",
       "2          [0.9970187  0.00298139]           0  \n",
       "3          [0.02880068 0.97119933]           1  \n",
       "4            [0.8405567 0.1594434]           0  \n",
       "..                             ...         ...  \n",
       "325        [0.16411194 0.83588815]           1  \n",
       "326        [0.04074828 0.9592517 ]           1  \n",
       "327        [0.01055076 0.9894494 ]           1  \n",
       "328        [0.00588849 0.99411154]           1  \n",
       "329  [1.3376810e-05 9.9998677e-01]           1  \n",
       "\n",
       "[330 rows x 6 columns]"
      ]
     },
     "execution_count": 12,
     "metadata": {},
     "output_type": "execute_result"
    }
   ],
   "source": [
    "df_kaggle_test = pd.read_csv('kaggle_test.csv')\n",
    "df_kaggle_test"
   ]
  },
  {
   "cell_type": "code",
   "execution_count": 13,
   "metadata": {},
   "outputs": [],
   "source": [
    "true_label_kaggle_test = df_kaggle_test['true_label'].tolist()\n",
    "pred_label_kaggle_test = df_kaggle_test['pred_label'].tolist()"
   ]
  },
  {
   "cell_type": "code",
   "execution_count": 14,
   "metadata": {},
   "outputs": [],
   "source": [
    "cm_kaggle_test = confusion_matrix(true_label_kaggle_test, pred_label_kaggle_test)"
   ]
  },
  {
   "cell_type": "code",
   "execution_count": 56,
   "metadata": {},
   "outputs": [
    {
     "name": "stdout",
     "output_type": "stream",
     "text": [
      "Confusion matrix, without normalization\n",
      "[[150  27]\n",
      " [ 12 141]]\n"
     ]
    },
    {
     "data": {
      "image/png": "[encoded data removed]",
      "text/plain": [
       "<Figure size 432x288 with 2 Axes>"
      ]
     },
     "metadata": {
      "needs_background": "light"
     },
     "output_type": "display_data"
    }
   ],
   "source": [
    "plot_confusion_matrix(cm_kaggle_test, labels)"
   ]
  },
  {
   "cell_type": "markdown",
   "metadata": {},
   "source": [
    "# Dataset 3"
   ]
  },
  {
   "cell_type": "code",
   "execution_count": 3,
   "metadata": {},
   "outputs": [
    {
     "data": {
      "text/html": [
       "<div>\n",
       "<style scoped>\n",
       "    .dataframe tbody tr th:only-of-type {\n",
       "        vertical-align: middle;\n",
       "    }\n",
       "\n",
       "    .dataframe tbody tr th {\n",
       "        vertical-align: top;\n",
       "    }\n",
       "\n",
       "    .dataframe thead th {\n",
       "        text-align: right;\n",
       "    }\n",
       "</style>\n",
       "<table border=\"1\" class=\"dataframe\">\n",
       "  <thead>\n",
       "    <tr style=\"text-align: right;\">\n",
       "      <th></th>\n",
       "      <th>Unnamed: 0</th>\n",
       "      <th>full_name</th>\n",
       "      <th>file_name</th>\n",
       "      <th>true_label</th>\n",
       "      <th>pred_label_orig</th>\n",
       "      <th>pred_label</th>\n",
       "    </tr>\n",
       "  </thead>\n",
       "  <tbody>\n",
       "    <tr>\n",
       "      <th>0</th>\n",
       "      <td>0</td>\n",
       "      <td>443_RWF_train0.avi 0</td>\n",
       "      <td>443_RWF_train0.avi</td>\n",
       "      <td>0</td>\n",
       "      <td>[9.9970287e-01 2.9717354e-04]</td>\n",
       "      <td>0</td>\n",
       "    </tr>\n",
       "    <tr>\n",
       "      <th>1</th>\n",
       "      <td>1</td>\n",
       "      <td>12_RWF_train0.avi 0</td>\n",
       "      <td>12_RWF_train0.avi</td>\n",
       "      <td>0</td>\n",
       "      <td>[0.94528353 0.05471651]</td>\n",
       "      <td>0</td>\n",
       "    </tr>\n",
       "    <tr>\n",
       "      <th>2</th>\n",
       "      <td>2</td>\n",
       "      <td>637_RWF_train0.avi 0</td>\n",
       "      <td>637_RWF_train0.avi</td>\n",
       "      <td>0</td>\n",
       "      <td>[0.3450982 0.6549019]</td>\n",
       "      <td>1</td>\n",
       "    </tr>\n",
       "    <tr>\n",
       "      <th>3</th>\n",
       "      <td>3</td>\n",
       "      <td>339_RWF_train0.avi 0</td>\n",
       "      <td>339_RWF_train0.avi</td>\n",
       "      <td>0</td>\n",
       "      <td>[0.992487   0.00751306]</td>\n",
       "      <td>0</td>\n",
       "    </tr>\n",
       "    <tr>\n",
       "      <th>4</th>\n",
       "      <td>4</td>\n",
       "      <td>546_RWF_train0.avi 0</td>\n",
       "      <td>546_RWF_train0.avi</td>\n",
       "      <td>0</td>\n",
       "      <td>[0.9989471  0.00105298]</td>\n",
       "      <td>0</td>\n",
       "    </tr>\n",
       "    <tr>\n",
       "      <th>...</th>\n",
       "      <td>...</td>\n",
       "      <td>...</td>\n",
       "      <td>...</td>\n",
       "      <td>...</td>\n",
       "      <td>...</td>\n",
       "      <td>...</td>\n",
       "    </tr>\n",
       "    <tr>\n",
       "      <th>525</th>\n",
       "      <td>525</td>\n",
       "      <td>391_VioKag_1.mp4 1</td>\n",
       "      <td>391_VioKag_1.mp4</td>\n",
       "      <td>1</td>\n",
       "      <td>[0.00224742 0.9977526 ]</td>\n",
       "      <td>1</td>\n",
       "    </tr>\n",
       "    <tr>\n",
       "      <th>526</th>\n",
       "      <td>526</td>\n",
       "      <td>763_VioKag_1.mp4 1</td>\n",
       "      <td>763_VioKag_1.mp4</td>\n",
       "      <td>1</td>\n",
       "      <td>[4.3956472e-05 9.9995619e-01]</td>\n",
       "      <td>1</td>\n",
       "    </tr>\n",
       "    <tr>\n",
       "      <th>527</th>\n",
       "      <td>527</td>\n",
       "      <td>105_VioKag_1.mp4 1</td>\n",
       "      <td>105_VioKag_1.mp4</td>\n",
       "      <td>1</td>\n",
       "      <td>[6.5649465e-06 9.9999350e-01]</td>\n",
       "      <td>1</td>\n",
       "    </tr>\n",
       "    <tr>\n",
       "      <th>528</th>\n",
       "      <td>528</td>\n",
       "      <td>151_VioKag_1.mp4 1</td>\n",
       "      <td>151_VioKag_1.mp4</td>\n",
       "      <td>1</td>\n",
       "      <td>[6.0259817e-06 9.9999410e-01]</td>\n",
       "      <td>1</td>\n",
       "    </tr>\n",
       "    <tr>\n",
       "      <th>529</th>\n",
       "      <td>529</td>\n",
       "      <td>846_VioKag_1.mp4 1</td>\n",
       "      <td>846_VioKag_1.mp4</td>\n",
       "      <td>1</td>\n",
       "      <td>[3.0563710e-06 9.9999696e-01]</td>\n",
       "      <td>1</td>\n",
       "    </tr>\n",
       "  </tbody>\n",
       "</table>\n",
       "<p>530 rows × 6 columns</p>\n",
       "</div>"
      ],
      "text/plain": [
       "     Unnamed: 0             full_name           file_name  true_label  \\\n",
       "0             0  443_RWF_train0.avi 0  443_RWF_train0.avi           0   \n",
       "1             1   12_RWF_train0.avi 0   12_RWF_train0.avi           0   \n",
       "2             2  637_RWF_train0.avi 0  637_RWF_train0.avi           0   \n",
       "3             3  339_RWF_train0.avi 0  339_RWF_train0.avi           0   \n",
       "4             4  546_RWF_train0.avi 0  546_RWF_train0.avi           0   \n",
       "..          ...                   ...                 ...         ...   \n",
       "525         525    391_VioKag_1.mp4 1    391_VioKag_1.mp4           1   \n",
       "526         526    763_VioKag_1.mp4 1    763_VioKag_1.mp4           1   \n",
       "527         527    105_VioKag_1.mp4 1    105_VioKag_1.mp4           1   \n",
       "528         528    151_VioKag_1.mp4 1    151_VioKag_1.mp4           1   \n",
       "529         529    846_VioKag_1.mp4 1    846_VioKag_1.mp4           1   \n",
       "\n",
       "                   pred_label_orig  pred_label  \n",
       "0    [9.9970287e-01 2.9717354e-04]           0  \n",
       "1          [0.94528353 0.05471651]           0  \n",
       "2            [0.3450982 0.6549019]           1  \n",
       "3          [0.992487   0.00751306]           0  \n",
       "4          [0.9989471  0.00105298]           0  \n",
       "..                             ...         ...  \n",
       "525        [0.00224742 0.9977526 ]           1  \n",
       "526  [4.3956472e-05 9.9995619e-01]           1  \n",
       "527  [6.5649465e-06 9.9999350e-01]           1  \n",
       "528  [6.0259817e-06 9.9999410e-01]           1  \n",
       "529  [3.0563710e-06 9.9999696e-01]           1  \n",
       "\n",
       "[530 rows x 6 columns]"
      ]
     },
     "execution_count": 3,
     "metadata": {},
     "output_type": "execute_result"
    }
   ],
   "source": [
    "df_dataset3_test = pd.read_csv('dataset3_test_pred.csv')\n",
    "df_dataset3_test"
   ]
  },
  {
   "cell_type": "code",
   "execution_count": 4,
   "metadata": {},
   "outputs": [
    {
     "data": {
      "text/plain": [
       "530"
      ]
     },
     "execution_count": 4,
     "metadata": {},
     "output_type": "execute_result"
    }
   ],
   "source": [
    "true_label_ds3 = df_dataset3_test['true_label'].tolist()\n",
    "pred_label_ds3 = df_dataset3_test['pred_label'].tolist()\n",
    "len(true_label_ds3)"
   ]
  },
  {
   "cell_type": "code",
   "execution_count": 23,
   "metadata": {},
   "outputs": [
    {
     "data": {
      "text/plain": [
       "array([[265,  12],\n",
       "       [ 15, 238]])"
      ]
     },
     "execution_count": 23,
     "metadata": {},
     "output_type": "execute_result"
    }
   ],
   "source": [
    "cm_ds3 = confusion_matrix(true_label_ds3, pred_label_ds3)\n",
    "cm_ds3"
   ]
  },
  {
   "cell_type": "code",
   "execution_count": 7,
   "metadata": {},
   "outputs": [
    {
     "data": {
      "text/plain": [
       "(0.9492142857142857, 0.9486950814058019, 0.948924049955206, None)"
      ]
     },
     "execution_count": 7,
     "metadata": {},
     "output_type": "execute_result"
    }
   ],
   "source": [
    "precision_recall_fscore_support(true_label_ds3, pred_label_ds3, average='macro')"
   ]
  },
  {
   "cell_type": "code",
   "execution_count": 10,
   "metadata": {},
   "outputs": [
    {
     "name": "stdout",
     "output_type": "stream",
     "text": [
      "Confusion matrix, without normalization\n",
      "[[265  12]\n",
      " [ 15 238]]\n"
     ]
    },
    {
     "data": {
      "image/png": "[encoded data removed]",
      "text/plain": [
       "<Figure size 432x288 with 2 Axes>"
      ]
     },
     "metadata": {
      "needs_background": "light"
     },
     "output_type": "display_data"
    }
   ],
   "source": [
    "plot_confusion_matrix(cm_ds3, labels)"
   ]
  },
  {
   "cell_type": "markdown",
   "metadata": {},
   "source": [
    "# Dataset 3 with RWF model"
   ]
  },
  {
   "cell_type": "code",
   "execution_count": 11,
   "metadata": {},
   "outputs": [
    {
     "data": {
      "text/html": [
       "<div>\n",
       "<style scoped>\n",
       "    .dataframe tbody tr th:only-of-type {\n",
       "        vertical-align: middle;\n",
       "    }\n",
       "\n",
       "    .dataframe tbody tr th {\n",
       "        vertical-align: top;\n",
       "    }\n",
       "\n",
       "    .dataframe thead th {\n",
       "        text-align: right;\n",
       "    }\n",
       "</style>\n",
       "<table border=\"1\" class=\"dataframe\">\n",
       "  <thead>\n",
       "    <tr style=\"text-align: right;\">\n",
       "      <th></th>\n",
       "      <th>Unnamed: 0</th>\n",
       "      <th>full_name</th>\n",
       "      <th>file_name</th>\n",
       "      <th>true_label</th>\n",
       "      <th>pred_label_orig</th>\n",
       "      <th>pred_label</th>\n",
       "    </tr>\n",
       "  </thead>\n",
       "  <tbody>\n",
       "    <tr>\n",
       "      <th>0</th>\n",
       "      <td>0</td>\n",
       "      <td>443_RWF_train0.avi 0</td>\n",
       "      <td>443_RWF_train0.avi</td>\n",
       "      <td>0</td>\n",
       "      <td>[0.9497355  0.05026454]</td>\n",
       "      <td>0</td>\n",
       "    </tr>\n",
       "    <tr>\n",
       "      <th>1</th>\n",
       "      <td>1</td>\n",
       "      <td>12_RWF_train0.avi 0</td>\n",
       "      <td>12_RWF_train0.avi</td>\n",
       "      <td>0</td>\n",
       "      <td>[0.98816484 0.01183521]</td>\n",
       "      <td>0</td>\n",
       "    </tr>\n",
       "    <tr>\n",
       "      <th>2</th>\n",
       "      <td>2</td>\n",
       "      <td>637_RWF_train0.avi 0</td>\n",
       "      <td>637_RWF_train0.avi</td>\n",
       "      <td>0</td>\n",
       "      <td>[0.32105327 0.6789468 ]</td>\n",
       "      <td>1</td>\n",
       "    </tr>\n",
       "    <tr>\n",
       "      <th>3</th>\n",
       "      <td>3</td>\n",
       "      <td>339_RWF_train0.avi 0</td>\n",
       "      <td>339_RWF_train0.avi</td>\n",
       "      <td>0</td>\n",
       "      <td>[0.9183778 0.0816223]</td>\n",
       "      <td>0</td>\n",
       "    </tr>\n",
       "    <tr>\n",
       "      <th>4</th>\n",
       "      <td>4</td>\n",
       "      <td>546_RWF_train0.avi 0</td>\n",
       "      <td>546_RWF_train0.avi</td>\n",
       "      <td>0</td>\n",
       "      <td>[0.99766046 0.00233963]</td>\n",
       "      <td>0</td>\n",
       "    </tr>\n",
       "    <tr>\n",
       "      <th>...</th>\n",
       "      <td>...</td>\n",
       "      <td>...</td>\n",
       "      <td>...</td>\n",
       "      <td>...</td>\n",
       "      <td>...</td>\n",
       "      <td>...</td>\n",
       "    </tr>\n",
       "    <tr>\n",
       "      <th>525</th>\n",
       "      <td>525</td>\n",
       "      <td>391_VioKag_1.mp4 1</td>\n",
       "      <td>391_VioKag_1.mp4</td>\n",
       "      <td>1</td>\n",
       "      <td>[0.16411194 0.83588815]</td>\n",
       "      <td>1</td>\n",
       "    </tr>\n",
       "    <tr>\n",
       "      <th>526</th>\n",
       "      <td>526</td>\n",
       "      <td>763_VioKag_1.mp4 1</td>\n",
       "      <td>763_VioKag_1.mp4</td>\n",
       "      <td>1</td>\n",
       "      <td>[0.04074828 0.9592517 ]</td>\n",
       "      <td>1</td>\n",
       "    </tr>\n",
       "    <tr>\n",
       "      <th>527</th>\n",
       "      <td>527</td>\n",
       "      <td>105_VioKag_1.mp4 1</td>\n",
       "      <td>105_VioKag_1.mp4</td>\n",
       "      <td>1</td>\n",
       "      <td>[0.01055076 0.9894494 ]</td>\n",
       "      <td>1</td>\n",
       "    </tr>\n",
       "    <tr>\n",
       "      <th>528</th>\n",
       "      <td>528</td>\n",
       "      <td>151_VioKag_1.mp4 1</td>\n",
       "      <td>151_VioKag_1.mp4</td>\n",
       "      <td>1</td>\n",
       "      <td>[0.00588849 0.99411154]</td>\n",
       "      <td>1</td>\n",
       "    </tr>\n",
       "    <tr>\n",
       "      <th>529</th>\n",
       "      <td>529</td>\n",
       "      <td>846_VioKag_1.mp4 1</td>\n",
       "      <td>846_VioKag_1.mp4</td>\n",
       "      <td>1</td>\n",
       "      <td>[1.3376810e-05 9.9998677e-01]</td>\n",
       "      <td>1</td>\n",
       "    </tr>\n",
       "  </tbody>\n",
       "</table>\n",
       "<p>530 rows × 6 columns</p>\n",
       "</div>"
      ],
      "text/plain": [
       "     Unnamed: 0             full_name           file_name  true_label  \\\n",
       "0             0  443_RWF_train0.avi 0  443_RWF_train0.avi           0   \n",
       "1             1   12_RWF_train0.avi 0   12_RWF_train0.avi           0   \n",
       "2             2  637_RWF_train0.avi 0  637_RWF_train0.avi           0   \n",
       "3             3  339_RWF_train0.avi 0  339_RWF_train0.avi           0   \n",
       "4             4  546_RWF_train0.avi 0  546_RWF_train0.avi           0   \n",
       "..          ...                   ...                 ...         ...   \n",
       "525         525    391_VioKag_1.mp4 1    391_VioKag_1.mp4           1   \n",
       "526         526    763_VioKag_1.mp4 1    763_VioKag_1.mp4           1   \n",
       "527         527    105_VioKag_1.mp4 1    105_VioKag_1.mp4           1   \n",
       "528         528    151_VioKag_1.mp4 1    151_VioKag_1.mp4           1   \n",
       "529         529    846_VioKag_1.mp4 1    846_VioKag_1.mp4           1   \n",
       "\n",
       "                   pred_label_orig  pred_label  \n",
       "0          [0.9497355  0.05026454]           0  \n",
       "1          [0.98816484 0.01183521]           0  \n",
       "2          [0.32105327 0.6789468 ]           1  \n",
       "3            [0.9183778 0.0816223]           0  \n",
       "4          [0.99766046 0.00233963]           0  \n",
       "..                             ...         ...  \n",
       "525        [0.16411194 0.83588815]           1  \n",
       "526        [0.04074828 0.9592517 ]           1  \n",
       "527        [0.01055076 0.9894494 ]           1  \n",
       "528        [0.00588849 0.99411154]           1  \n",
       "529  [1.3376810e-05 9.9998677e-01]           1  \n",
       "\n",
       "[530 rows x 6 columns]"
      ]
     },
     "execution_count": 11,
     "metadata": {},
     "output_type": "execute_result"
    }
   ],
   "source": [
    "df_ds3_w_rwf_model = pd.read_csv('dataset3_test_pred_w_rwf_model.csv')\n",
    "df_ds3_w_rwf_model"
   ]
  },
  {
   "cell_type": "code",
   "execution_count": 12,
   "metadata": {},
   "outputs": [
    {
     "data": {
      "text/plain": [
       "530"
      ]
     },
     "execution_count": 12,
     "metadata": {},
     "output_type": "execute_result"
    }
   ],
   "source": [
    "true_label_ds3_w_rwf_model = df_ds3_w_rwf_model['true_label'].tolist()\n",
    "pred_label_ds3_w_rwf_model = df_ds3_w_rwf_model['pred_label'].tolist()\n",
    "len(true_label_ds3)"
   ]
  },
  {
   "cell_type": "code",
   "execution_count": 19,
   "metadata": {},
   "outputs": [
    {
     "data": {
      "text/plain": [
       "array([[241,  36],\n",
       "       [ 27, 226]])"
      ]
     },
     "execution_count": 19,
     "metadata": {},
     "output_type": "execute_result"
    }
   ],
   "source": [
    "cm_ds3_w_rwf_model = confusion_matrix(true_label_ds3_w_rwf_model, pred_label_ds3_w_rwf_model)\n",
    "cm_ds3_w_rwf_model"
   ]
  },
  {
   "cell_type": "code",
   "execution_count": 17,
   "metadata": {},
   "outputs": [
    {
     "data": {
      "text/plain": [
       "(0.8809245755953059, 0.8816583667470499, 0.881036786318696, None)"
      ]
     },
     "execution_count": 17,
     "metadata": {},
     "output_type": "execute_result"
    }
   ],
   "source": [
    "precision_recall_fscore_support(true_label_ds3_w_rwf_model, pred_label_ds3_w_rwf_model, average='macro')"
   ]
  },
  {
   "cell_type": "code",
   "execution_count": 22,
   "metadata": {},
   "outputs": [
    {
     "name": "stdout",
     "output_type": "stream",
     "text": [
      "Confusion matrix, without normalization\n",
      "[[241  36]\n",
      " [ 27 226]]\n"
     ]
    },
    {
     "data": {
      "image/png": "[encoded data removed]",
      "text/plain": [
       "<Figure size 432x288 with 2 Axes>"
      ]
     },
     "metadata": {
      "needs_background": "light"
     },
     "output_type": "display_data"
    }
   ],
   "source": [
    "plot_confusion_matrix(cm_ds3_w_rwf_model, labels)"
   ]
  },
  {
   "cell_type": "markdown",
   "metadata": {},
   "source": [
    "# Dataset 3 v2"
   ]
  },
  {
   "cell_type": "code",
   "execution_count": 29,
   "metadata": {},
   "outputs": [
    {
     "data": {
      "text/html": [
       "<div>\n",
       "<style scoped>\n",
       "    .dataframe tbody tr th:only-of-type {\n",
       "        vertical-align: middle;\n",
       "    }\n",
       "\n",
       "    .dataframe tbody tr th {\n",
       "        vertical-align: top;\n",
       "    }\n",
       "\n",
       "    .dataframe thead th {\n",
       "        text-align: right;\n",
       "    }\n",
       "</style>\n",
       "<table border=\"1\" class=\"dataframe\">\n",
       "  <thead>\n",
       "    <tr style=\"text-align: right;\">\n",
       "      <th></th>\n",
       "      <th>Unnamed: 0</th>\n",
       "      <th>full_name</th>\n",
       "      <th>file_name</th>\n",
       "      <th>true_label</th>\n",
       "      <th>pred_label_orig</th>\n",
       "      <th>pred_label</th>\n",
       "    </tr>\n",
       "  </thead>\n",
       "  <tbody>\n",
       "    <tr>\n",
       "      <th>0</th>\n",
       "      <td>0</td>\n",
       "      <td>443_RWF_train0.avi 0</td>\n",
       "      <td>443_RWF_train0.avi</td>\n",
       "      <td>0</td>\n",
       "      <td>[0.96707904 0.032921  ]</td>\n",
       "      <td>0</td>\n",
       "    </tr>\n",
       "    <tr>\n",
       "      <th>1</th>\n",
       "      <td>1</td>\n",
       "      <td>12_RWF_train0.avi 0</td>\n",
       "      <td>12_RWF_train0.avi</td>\n",
       "      <td>0</td>\n",
       "      <td>[0.8968731 0.103127 ]</td>\n",
       "      <td>0</td>\n",
       "    </tr>\n",
       "    <tr>\n",
       "      <th>2</th>\n",
       "      <td>2</td>\n",
       "      <td>637_RWF_train0.avi 0</td>\n",
       "      <td>637_RWF_train0.avi</td>\n",
       "      <td>0</td>\n",
       "      <td>[0.35807276 0.64192724]</td>\n",
       "      <td>1</td>\n",
       "    </tr>\n",
       "    <tr>\n",
       "      <th>3</th>\n",
       "      <td>3</td>\n",
       "      <td>339_RWF_train0.avi 0</td>\n",
       "      <td>339_RWF_train0.avi</td>\n",
       "      <td>0</td>\n",
       "      <td>[0.99721175 0.00278833]</td>\n",
       "      <td>0</td>\n",
       "    </tr>\n",
       "    <tr>\n",
       "      <th>4</th>\n",
       "      <td>4</td>\n",
       "      <td>546_RWF_train0.avi 0</td>\n",
       "      <td>546_RWF_train0.avi</td>\n",
       "      <td>0</td>\n",
       "      <td>[9.9987912e-01 1.2099106e-04]</td>\n",
       "      <td>0</td>\n",
       "    </tr>\n",
       "    <tr>\n",
       "      <th>...</th>\n",
       "      <td>...</td>\n",
       "      <td>...</td>\n",
       "      <td>...</td>\n",
       "      <td>...</td>\n",
       "      <td>...</td>\n",
       "      <td>...</td>\n",
       "    </tr>\n",
       "    <tr>\n",
       "      <th>525</th>\n",
       "      <td>525</td>\n",
       "      <td>391_VioKag_1.mp4 1</td>\n",
       "      <td>391_VioKag_1.mp4</td>\n",
       "      <td>1</td>\n",
       "      <td>[0.00905073 0.9909493 ]</td>\n",
       "      <td>1</td>\n",
       "    </tr>\n",
       "    <tr>\n",
       "      <th>526</th>\n",
       "      <td>526</td>\n",
       "      <td>763_VioKag_1.mp4 1</td>\n",
       "      <td>763_VioKag_1.mp4</td>\n",
       "      <td>1</td>\n",
       "      <td>[6.280549e-06 9.999938e-01]</td>\n",
       "      <td>1</td>\n",
       "    </tr>\n",
       "    <tr>\n",
       "      <th>527</th>\n",
       "      <td>527</td>\n",
       "      <td>105_VioKag_1.mp4 1</td>\n",
       "      <td>105_VioKag_1.mp4</td>\n",
       "      <td>1</td>\n",
       "      <td>[3.2022583e-06 9.9999690e-01]</td>\n",
       "      <td>1</td>\n",
       "    </tr>\n",
       "    <tr>\n",
       "      <th>528</th>\n",
       "      <td>528</td>\n",
       "      <td>151_VioKag_1.mp4 1</td>\n",
       "      <td>151_VioKag_1.mp4</td>\n",
       "      <td>1</td>\n",
       "      <td>[5.6866505e-05 9.9994314e-01]</td>\n",
       "      <td>1</td>\n",
       "    </tr>\n",
       "    <tr>\n",
       "      <th>529</th>\n",
       "      <td>529</td>\n",
       "      <td>846_VioKag_1.mp4 1</td>\n",
       "      <td>846_VioKag_1.mp4</td>\n",
       "      <td>1</td>\n",
       "      <td>[2.3914245e-06 9.9999762e-01]</td>\n",
       "      <td>1</td>\n",
       "    </tr>\n",
       "  </tbody>\n",
       "</table>\n",
       "<p>530 rows × 6 columns</p>\n",
       "</div>"
      ],
      "text/plain": [
       "     Unnamed: 0             full_name           file_name  true_label  \\\n",
       "0             0  443_RWF_train0.avi 0  443_RWF_train0.avi           0   \n",
       "1             1   12_RWF_train0.avi 0   12_RWF_train0.avi           0   \n",
       "2             2  637_RWF_train0.avi 0  637_RWF_train0.avi           0   \n",
       "3             3  339_RWF_train0.avi 0  339_RWF_train0.avi           0   \n",
       "4             4  546_RWF_train0.avi 0  546_RWF_train0.avi           0   \n",
       "..          ...                   ...                 ...         ...   \n",
       "525         525    391_VioKag_1.mp4 1    391_VioKag_1.mp4           1   \n",
       "526         526    763_VioKag_1.mp4 1    763_VioKag_1.mp4           1   \n",
       "527         527    105_VioKag_1.mp4 1    105_VioKag_1.mp4           1   \n",
       "528         528    151_VioKag_1.mp4 1    151_VioKag_1.mp4           1   \n",
       "529         529    846_VioKag_1.mp4 1    846_VioKag_1.mp4           1   \n",
       "\n",
       "                   pred_label_orig  pred_label  \n",
       "0          [0.96707904 0.032921  ]           0  \n",
       "1            [0.8968731 0.103127 ]           0  \n",
       "2          [0.35807276 0.64192724]           1  \n",
       "3          [0.99721175 0.00278833]           0  \n",
       "4    [9.9987912e-01 1.2099106e-04]           0  \n",
       "..                             ...         ...  \n",
       "525        [0.00905073 0.9909493 ]           1  \n",
       "526    [6.280549e-06 9.999938e-01]           1  \n",
       "527  [3.2022583e-06 9.9999690e-01]           1  \n",
       "528  [5.6866505e-05 9.9994314e-01]           1  \n",
       "529  [2.3914245e-06 9.9999762e-01]           1  \n",
       "\n",
       "[530 rows x 6 columns]"
      ]
     },
     "execution_count": 29,
     "metadata": {},
     "output_type": "execute_result"
    }
   ],
   "source": [
    "df_ds3_v2 = pd.read_csv('dataset3_test_pred_v2.csv')\n",
    "df_ds3_v2"
   ]
  },
  {
   "cell_type": "code",
   "execution_count": 30,
   "metadata": {},
   "outputs": [
    {
     "data": {
      "text/plain": [
       "530"
      ]
     },
     "execution_count": 30,
     "metadata": {},
     "output_type": "execute_result"
    }
   ],
   "source": [
    "true_label_ds3_v2 = df_ds3_v2['true_label'].tolist()\n",
    "pred_label_ds3_v2 = df_ds3_v2['pred_label'].tolist()\n",
    "len(true_label_ds3_v2)"
   ]
  },
  {
   "cell_type": "code",
   "execution_count": 31,
   "metadata": {},
   "outputs": [
    {
     "data": {
      "text/plain": [
       "array([[266,  10],\n",
       "       [ 18, 236]])"
      ]
     },
     "execution_count": 31,
     "metadata": {},
     "output_type": "execute_result"
    }
   ],
   "source": [
    "cm_ds3_v2 = confusion_matrix(true_label_ds3_v2, pred_label_ds3_v2)\n",
    "cm_ds3_v2"
   ]
  },
  {
   "cell_type": "code",
   "execution_count": 49,
   "metadata": {},
   "outputs": [
    {
     "data": {
      "text/plain": [
       "(0.947984655902897, 0.9464509871048727, 0.9470000000000001, None)"
      ]
     },
     "execution_count": 49,
     "metadata": {},
     "output_type": "execute_result"
    }
   ],
   "source": [
    "precision_recall_fscore_support(true_label_ds3_v2, pred_label_ds3_v2, average='macro')"
   ]
  },
  {
   "cell_type": "code",
   "execution_count": 51,
   "metadata": {},
   "outputs": [
    {
     "data": {
      "text/plain": [
       "0.9440000000000001"
      ]
     },
     "execution_count": 51,
     "metadata": {},
     "output_type": "execute_result"
    }
   ],
   "source": [
    "f1_score(true_label_ds3_v2, pred_label_ds3_v2)"
   ]
  },
  {
   "cell_type": "code",
   "execution_count": 33,
   "metadata": {},
   "outputs": [
    {
     "name": "stdout",
     "output_type": "stream",
     "text": [
      "Confusion matrix, without normalization\n",
      "[[266  10]\n",
      " [ 18 236]]\n"
     ]
    },
    {
     "data": {
      "image/png": "[encoded data removed]",
      "text/plain": [
       "<Figure size 432x288 with 2 Axes>"
      ]
     },
     "metadata": {
      "needs_background": "light"
     },
     "output_type": "display_data"
    }
   ],
   "source": [
    "plot_confusion_matrix(cm_ds3_v2, labels)"
   ]
  },
  {
   "cell_type": "markdown",
   "metadata": {},
   "source": [
    "# Sefl-test data with dataset3-v2 model"
   ]
  },
  {
   "cell_type": "code",
   "execution_count": 10,
   "metadata": {},
   "outputs": [
    {
     "data": {
      "text/plain": [
       "<bound method NDFrame.head of     Unnamed: 0        full_name      file_name  true_label  \\\n",
       "0            0  14_self_0.mp4 0  14_self_0.mp4           0   \n",
       "1            1  29_self_0.mp4 0  29_self_0.mp4           0   \n",
       "2            2  10_self_0.mp4 0  10_self_0.mp4           0   \n",
       "3            3   4_self_0.mp4 0   4_self_0.mp4           0   \n",
       "4            4  19_self_0.mp4 0  19_self_0.mp4           0   \n",
       "5            5   8_self_0.mp4 0   8_self_0.mp4           0   \n",
       "6            6   1_self_0.mp4 0   1_self_0.mp4           0   \n",
       "7            7  26_self_0.mp4 0  26_self_0.mp4           0   \n",
       "8            8  18_self_0.mp4 0  18_self_0.mp4           0   \n",
       "9            9  28_self_0.mp4 0  28_self_0.mp4           0   \n",
       "10          10   2_self_0.mp4 0   2_self_0.mp4           0   \n",
       "11          11   9_self_0.mp4 0   9_self_0.mp4           0   \n",
       "12          12  30_self_0.mp4 0  30_self_0.mp4           0   \n",
       "13          13  15_self_0.mp4 0  15_self_0.mp4           0   \n",
       "14          14  17_self_0.mp4 0  17_self_0.mp4           0   \n",
       "15          15  16_self_0.mp4 0  16_self_0.mp4           0   \n",
       "16          16  20_self_0.mp4 0  20_self_0.mp4           0   \n",
       "17          17  23_self_0.mp4 0  23_self_0.mp4           0   \n",
       "18          18  27_self_0.mp4 0  27_self_0.mp4           0   \n",
       "19          19   5_self_0.mp4 0   5_self_0.mp4           0   \n",
       "20          20  11_self_0.mp4 0  11_self_0.mp4           0   \n",
       "21          21  25_self_0.mp4 0  25_self_0.mp4           0   \n",
       "22          22   7_self_0.mp4 0   7_self_0.mp4           0   \n",
       "23          23   0_self_0.mp4 0   0_self_0.mp4           0   \n",
       "24          24   3_self_0.mp4 0   3_self_0.mp4           0   \n",
       "25          25  21_self_0.mp4 0  21_self_0.mp4           0   \n",
       "26          26  22_self_0.mp4 0  22_self_0.mp4           0   \n",
       "27          27  13_self_0.mp4 0  13_self_0.mp4           0   \n",
       "28          28  24_self_0.mp4 0  24_self_0.mp4           0   \n",
       "29          29   6_self_0.mp4 0   6_self_0.mp4           0   \n",
       "30          30  12_self_0.mp4 0  12_self_0.mp4           0   \n",
       "31          31  22_self_1.mp4 1  22_self_1.mp4           1   \n",
       "32          32   2_self_1.mp4 1   2_self_1.mp4           1   \n",
       "33          33   6_self_1.mp4 1   6_self_1.mp4           1   \n",
       "34          34  15_self_1.mp4 1  15_self_1.mp4           1   \n",
       "35          35  19_self_1.mp4 1  19_self_1.mp4           1   \n",
       "36          36  14_self_1.mp4 1  14_self_1.mp4           1   \n",
       "37          37  12_self_1.mp4 1  12_self_1.mp4           1   \n",
       "38          38   4_self_1.mp4 1   4_self_1.mp4           1   \n",
       "39          39   1_self_1.mp4 1   1_self_1.mp4           1   \n",
       "40          40  11_self_1.mp4 1  11_self_1.mp4           1   \n",
       "41          41   7_self_1.mp4 1   7_self_1.mp4           1   \n",
       "42          42  24_self_1.mp4 1  24_self_1.mp4           1   \n",
       "43          43  25_self_1.mp4 1  25_self_1.mp4           1   \n",
       "44          44  20_self_1.mp4 1  20_self_1.mp4           1   \n",
       "45          45  21_self_1.mp4 1  21_self_1.mp4           1   \n",
       "46          46  13_self_1.mp4 1  13_self_1.mp4           1   \n",
       "47          47  26_self_1.mp4 1  26_self_1.mp4           1   \n",
       "48          48   0_self_1.mp4 1   0_self_1.mp4           1   \n",
       "49          49  10_self_1.mp4 1  10_self_1.mp4           1   \n",
       "50          50   9_self_1.mp4 1   9_self_1.mp4           1   \n",
       "51          51   5_self_1.mp4 1   5_self_1.mp4           1   \n",
       "52          52  16_self_1.mp4 1  16_self_1.mp4           1   \n",
       "53          53   3_self_1.mp4 1   3_self_1.mp4           1   \n",
       "54          54  23_self_1.mp4 1  23_self_1.mp4           1   \n",
       "55          55  18_self_1.mp4 1  18_self_1.mp4           1   \n",
       "56          56   8_self_1.mp4 1   8_self_1.mp4           1   \n",
       "57          57  17_self_1.mp4 1  17_self_1.mp4           1   \n",
       "58          58  27_self_1.mp4 1  27_self_1.mp4           1   \n",
       "\n",
       "                  pred_label_orig  pred_label  \n",
       "0           [0.9260898 0.0739102]           0  \n",
       "1         [0.9045635  0.09543657]           0  \n",
       "2         [0.71768993 0.28231   ]           0  \n",
       "3         [0.37903464 0.6209654 ]           1  \n",
       "4         [0.9984422  0.00155784]           0  \n",
       "5         [0.99775827 0.00224177]           0  \n",
       "6         [0.9238476  0.07615244]           0  \n",
       "7         [0.8296162  0.17038381]           0  \n",
       "8         [0.86279595 0.13720411]           0  \n",
       "9         [0.51131797 0.48868206]           0  \n",
       "10        [0.9890843  0.01091575]           0  \n",
       "11        [0.8186192  0.18138094]           0  \n",
       "12        [0.8677938  0.13220617]           0  \n",
       "13        [0.9675371  0.03246295]           0  \n",
       "14        [0.9068446  0.09315545]           0  \n",
       "15        [0.9853178  0.01468221]           0  \n",
       "16        [0.9056074  0.09439269]           0  \n",
       "17        [0.9447461  0.05525398]           0  \n",
       "18        [0.92356205 0.07643804]           0  \n",
       "19  [9.9924654e-01 7.5354573e-04]           0  \n",
       "20        [0.94115067 0.05884935]           0  \n",
       "21        [0.9638352  0.03616486]           0  \n",
       "22          [0.8570013 0.1429988]           0  \n",
       "23        [0.7902073  0.20979266]           0  \n",
       "24  [9.9991024e-01 8.9829809e-05]           0  \n",
       "25          [0.6803454 0.3196546]           0  \n",
       "26          [0.9920877 0.0079124]           0  \n",
       "27        [0.98432297 0.01567712]           0  \n",
       "28        [0.98220426 0.01779581]           0  \n",
       "29        [0.98797613 0.01202391]           0  \n",
       "30        [0.92485154 0.07514852]           0  \n",
       "31        [0.23496464 0.76503545]           1  \n",
       "32        [0.20523566 0.79476434]           1  \n",
       "33        [0.7532014  0.24679865]           0  \n",
       "34        [0.6634686  0.33653146]           0  \n",
       "35            [0.222915 0.777085]           1  \n",
       "36        [0.7650609  0.23493914]           0  \n",
       "37          [0.332034  0.6679661]           1  \n",
       "38        [0.18808816 0.81191194]           1  \n",
       "39          [0.3967867 0.6032134]           1  \n",
       "40          [0.4754117 0.5245883]           1  \n",
       "41        [0.18314256 0.8168575 ]           1  \n",
       "42        [0.14853929 0.85146075]           1  \n",
       "43        [0.13562998 0.86437005]           1  \n",
       "44        [0.313145   0.68685496]           1  \n",
       "45          [0.3603995 0.6396005]           1  \n",
       "46        [0.40381142 0.59618866]           1  \n",
       "47        [0.89047134 0.10952868]           0  \n",
       "48        [0.18844265 0.8115574 ]           1  \n",
       "49        [0.77605695 0.22394304]           0  \n",
       "50        [0.7775195  0.22248049]           0  \n",
       "51        [0.84362507 0.15637499]           0  \n",
       "52        [0.10604633 0.8939537 ]           1  \n",
       "53        [0.00932351 0.9906765 ]           1  \n",
       "54          [0.2628614 0.7371387]           1  \n",
       "55        [0.16280529 0.8371948 ]           1  \n",
       "56          [0.1801063 0.8198937]           1  \n",
       "57        [0.12782826 0.8721718 ]           1  \n",
       "58        [0.11635331 0.8836468 ]           1  >"
      ]
     },
     "execution_count": 10,
     "metadata": {},
     "output_type": "execute_result"
    }
   ],
   "source": [
    "df_self = pd.read_csv('self_test_pred_v2.csv')\n",
    "df_self.head"
   ]
  },
  {
   "cell_type": "code",
   "execution_count": 39,
   "metadata": {},
   "outputs": [
    {
     "data": {
      "text/plain": [
       "59"
      ]
     },
     "execution_count": 39,
     "metadata": {},
     "output_type": "execute_result"
    }
   ],
   "source": [
    "true_label_self = df_self['true_label'].tolist()\n",
    "pred_label_self = df_self['pred_label'].tolist()\n",
    "len(true_label_self)"
   ]
  },
  {
   "cell_type": "code",
   "execution_count": 40,
   "metadata": {},
   "outputs": [
    {
     "data": {
      "text/plain": [
       "array([[30,  1],\n",
       "       [ 7, 21]])"
      ]
     },
     "execution_count": 40,
     "metadata": {},
     "output_type": "execute_result"
    }
   ],
   "source": [
    "cm_self = confusion_matrix(true_label_self, pred_label_self)\n",
    "cm_self"
   ]
  },
  {
   "cell_type": "code",
   "execution_count": 42,
   "metadata": {},
   "outputs": [
    {
     "name": "stdout",
     "output_type": "stream",
     "text": [
      "Confusion matrix, without normalization\n",
      "[[30  1]\n",
      " [ 7 21]]\n"
     ]
    },
    {
     "data": {
      "image/png": "[encoded data removed]",
      "text/plain": [
       "<Figure size 432x288 with 2 Axes>"
      ]
     },
     "metadata": {
      "needs_background": "light"
     },
     "output_type": "display_data"
    }
   ],
   "source": [
    "plot_confusion_matrix(cm_self, labels)"
   ]
  },
  {
   "cell_type": "markdown",
   "metadata": {},
   "source": [
    "# Violence Test"
   ]
  },
  {
   "cell_type": "code",
   "execution_count": 5,
   "metadata": {},
   "outputs": [
    {
     "data": {
      "text/html": [
       "<div>\n",
       "<style scoped>\n",
       "    .dataframe tbody tr th:only-of-type {\n",
       "        vertical-align: middle;\n",
       "    }\n",
       "\n",
       "    .dataframe tbody tr th {\n",
       "        vertical-align: top;\n",
       "    }\n",
       "\n",
       "    .dataframe thead th {\n",
       "        text-align: right;\n",
       "    }\n",
       "</style>\n",
       "<table border=\"1\" class=\"dataframe\">\n",
       "  <thead>\n",
       "    <tr style=\"text-align: right;\">\n",
       "      <th></th>\n",
       "      <th>Unnamed: 0</th>\n",
       "      <th>full_name</th>\n",
       "      <th>file_name</th>\n",
       "      <th>true_label</th>\n",
       "      <th>pred_label_orig</th>\n",
       "      <th>pred_label</th>\n",
       "    </tr>\n",
       "  </thead>\n",
       "  <tbody>\n",
       "    <tr>\n",
       "      <th>0</th>\n",
       "      <td>0</td>\n",
       "      <td>317_VioTest_0.mp4 0</td>\n",
       "      <td>317_VioTest_0.mp4</td>\n",
       "      <td>0</td>\n",
       "      <td>[9.9999547e-01 4.6048208e-06]</td>\n",
       "      <td>0</td>\n",
       "    </tr>\n",
       "    <tr>\n",
       "      <th>1</th>\n",
       "      <td>1</td>\n",
       "      <td>309_VioTest_0.mp4 0</td>\n",
       "      <td>309_VioTest_0.mp4</td>\n",
       "      <td>0</td>\n",
       "      <td>[0.95740825 0.0425918 ]</td>\n",
       "      <td>0</td>\n",
       "    </tr>\n",
       "    <tr>\n",
       "      <th>2</th>\n",
       "      <td>2</td>\n",
       "      <td>228_VioTest_0.mp4 0</td>\n",
       "      <td>228_VioTest_0.mp4</td>\n",
       "      <td>0</td>\n",
       "      <td>[9.9999762e-01 2.4033172e-06]</td>\n",
       "      <td>0</td>\n",
       "    </tr>\n",
       "    <tr>\n",
       "      <th>3</th>\n",
       "      <td>3</td>\n",
       "      <td>199_VioTest_0.mp4 0</td>\n",
       "      <td>199_VioTest_0.mp4</td>\n",
       "      <td>0</td>\n",
       "      <td>[0.99857694 0.00142312]</td>\n",
       "      <td>0</td>\n",
       "    </tr>\n",
       "    <tr>\n",
       "      <th>4</th>\n",
       "      <td>4</td>\n",
       "      <td>169_VioTest_0.mp4 0</td>\n",
       "      <td>169_VioTest_0.mp4</td>\n",
       "      <td>0</td>\n",
       "      <td>[9.9954545e-01 4.5453309e-04]</td>\n",
       "      <td>0</td>\n",
       "    </tr>\n",
       "    <tr>\n",
       "      <th>...</th>\n",
       "      <td>...</td>\n",
       "      <td>...</td>\n",
       "      <td>...</td>\n",
       "      <td>...</td>\n",
       "      <td>...</td>\n",
       "      <td>...</td>\n",
       "    </tr>\n",
       "    <tr>\n",
       "      <th>568</th>\n",
       "      <td>568</td>\n",
       "      <td>135_VioTest_1.mp4 1</td>\n",
       "      <td>135_VioTest_1.mp4</td>\n",
       "      <td>1</td>\n",
       "      <td>[0.00269905 0.99730104]</td>\n",
       "      <td>1</td>\n",
       "    </tr>\n",
       "    <tr>\n",
       "      <th>569</th>\n",
       "      <td>569</td>\n",
       "      <td>112_VioTest_1.mp4 1</td>\n",
       "      <td>112_VioTest_1.mp4</td>\n",
       "      <td>1</td>\n",
       "      <td>[0.67015904 0.32984096]</td>\n",
       "      <td>0</td>\n",
       "    </tr>\n",
       "    <tr>\n",
       "      <th>570</th>\n",
       "      <td>570</td>\n",
       "      <td>5_VioTest_1.mp4 1</td>\n",
       "      <td>5_VioTest_1.mp4</td>\n",
       "      <td>1</td>\n",
       "      <td>[0.04200997 0.95799005]</td>\n",
       "      <td>1</td>\n",
       "    </tr>\n",
       "    <tr>\n",
       "      <th>571</th>\n",
       "      <td>571</td>\n",
       "      <td>101_VioTest_1.mp4 1</td>\n",
       "      <td>101_VioTest_1.mp4</td>\n",
       "      <td>1</td>\n",
       "      <td>[0.27359635 0.72640365]</td>\n",
       "      <td>1</td>\n",
       "    </tr>\n",
       "    <tr>\n",
       "      <th>572</th>\n",
       "      <td>572</td>\n",
       "      <td>6_VioTest_1.mp4 1</td>\n",
       "      <td>6_VioTest_1.mp4</td>\n",
       "      <td>1</td>\n",
       "      <td>[0.05978395 0.9402161 ]</td>\n",
       "      <td>1</td>\n",
       "    </tr>\n",
       "  </tbody>\n",
       "</table>\n",
       "<p>573 rows × 6 columns</p>\n",
       "</div>"
      ],
      "text/plain": [
       "     Unnamed: 0            full_name          file_name  true_label  \\\n",
       "0             0  317_VioTest_0.mp4 0  317_VioTest_0.mp4           0   \n",
       "1             1  309_VioTest_0.mp4 0  309_VioTest_0.mp4           0   \n",
       "2             2  228_VioTest_0.mp4 0  228_VioTest_0.mp4           0   \n",
       "3             3  199_VioTest_0.mp4 0  199_VioTest_0.mp4           0   \n",
       "4             4  169_VioTest_0.mp4 0  169_VioTest_0.mp4           0   \n",
       "..          ...                  ...                ...         ...   \n",
       "568         568  135_VioTest_1.mp4 1  135_VioTest_1.mp4           1   \n",
       "569         569  112_VioTest_1.mp4 1  112_VioTest_1.mp4           1   \n",
       "570         570    5_VioTest_1.mp4 1    5_VioTest_1.mp4           1   \n",
       "571         571  101_VioTest_1.mp4 1  101_VioTest_1.mp4           1   \n",
       "572         572    6_VioTest_1.mp4 1    6_VioTest_1.mp4           1   \n",
       "\n",
       "                   pred_label_orig  pred_label  \n",
       "0    [9.9999547e-01 4.6048208e-06]           0  \n",
       "1          [0.95740825 0.0425918 ]           0  \n",
       "2    [9.9999762e-01 2.4033172e-06]           0  \n",
       "3          [0.99857694 0.00142312]           0  \n",
       "4    [9.9954545e-01 4.5453309e-04]           0  \n",
       "..                             ...         ...  \n",
       "568        [0.00269905 0.99730104]           1  \n",
       "569        [0.67015904 0.32984096]           0  \n",
       "570        [0.04200997 0.95799005]           1  \n",
       "571        [0.27359635 0.72640365]           1  \n",
       "572        [0.05978395 0.9402161 ]           1  \n",
       "\n",
       "[573 rows x 6 columns]"
      ]
     },
     "execution_count": 5,
     "metadata": {},
     "output_type": "execute_result"
    }
   ],
   "source": [
    "df_violence = pd.read_csv('violence_test_pred_v2.csv')\n",
    "df_violence"
   ]
  },
  {
   "cell_type": "code",
   "execution_count": 6,
   "metadata": {},
   "outputs": [
    {
     "data": {
      "text/plain": [
       "573"
      ]
     },
     "execution_count": 6,
     "metadata": {},
     "output_type": "execute_result"
    }
   ],
   "source": [
    "true_label_vio = df_violence['true_label'].tolist()\n",
    "pred_label_vio = df_violence['pred_label'].tolist()\n",
    "len(true_label_vio)"
   ]
  },
  {
   "cell_type": "code",
   "execution_count": 7,
   "metadata": {},
   "outputs": [],
   "source": [
    "cm_vio = confusion_matrix(true_label_vio, pred_label_vio)"
   ]
  },
  {
   "cell_type": "code",
   "execution_count": 8,
   "metadata": {},
   "outputs": [
    {
     "name": "stdout",
     "output_type": "stream",
     "text": [
      "Confusion matrix, without normalization\n",
      "[[319  44]\n",
      " [ 14 196]]\n"
     ]
    },
    {
     "data": {
      "image/png": "[encoded data removed]",
      "text/plain": [
       "<Figure size 432x288 with 2 Axes>"
      ]
     },
     "metadata": {
      "needs_background": "light"
     },
     "output_type": "display_data"
    }
   ],
   "source": [
    "plot_confusion_matrix(cm_vio, labels)"
   ]
  },
  {
   "cell_type": "code",
   "execution_count": 9,
   "metadata": {},
   "outputs": [
    {
     "data": {
      "text/plain": [
       "(0.8873123123123123, 0.906060606060606, 0.893888888888889, None)"
      ]
     },
     "execution_count": 9,
     "metadata": {},
     "output_type": "execute_result"
    }
   ],
   "source": [
    "precision_recall_fscore_support(true_label_vio, pred_label_vio, average='macro')"
   ]
  },
  {
   "cell_type": "markdown",
   "metadata": {},
   "source": [
    "# NTU datasets"
   ]
  },
  {
   "cell_type": "code",
   "execution_count": 4,
   "metadata": {},
   "outputs": [
    {
     "data": {
      "text/html": [
       "<div>\n",
       "<style scoped>\n",
       "    .dataframe tbody tr th:only-of-type {\n",
       "        vertical-align: middle;\n",
       "    }\n",
       "\n",
       "    .dataframe tbody tr th {\n",
       "        vertical-align: top;\n",
       "    }\n",
       "\n",
       "    .dataframe thead th {\n",
       "        text-align: right;\n",
       "    }\n",
       "</style>\n",
       "<table border=\"1\" class=\"dataframe\">\n",
       "  <thead>\n",
       "    <tr style=\"text-align: right;\">\n",
       "      <th></th>\n",
       "      <th>Unnamed: 0</th>\n",
       "      <th>full_name</th>\n",
       "      <th>file_name</th>\n",
       "      <th>true_label</th>\n",
       "      <th>pred_label_orig</th>\n",
       "      <th>pred_label</th>\n",
       "    </tr>\n",
       "  </thead>\n",
       "  <tbody>\n",
       "    <tr>\n",
       "      <th>0</th>\n",
       "      <td>0</td>\n",
       "      <td>253_VioNTU_0.mp4 0</td>\n",
       "      <td>253_VioNTU_0.mp4</td>\n",
       "      <td>0</td>\n",
       "      <td>[0.81285137 0.18714872]</td>\n",
       "      <td>0</td>\n",
       "    </tr>\n",
       "    <tr>\n",
       "      <th>1</th>\n",
       "      <td>1</td>\n",
       "      <td>18_VioNTU_0.mp4 0</td>\n",
       "      <td>18_VioNTU_0.mp4</td>\n",
       "      <td>0</td>\n",
       "      <td>[0.99856555 0.00143448]</td>\n",
       "      <td>0</td>\n",
       "    </tr>\n",
       "    <tr>\n",
       "      <th>2</th>\n",
       "      <td>2</td>\n",
       "      <td>65_VioNTU_0.mp4 0</td>\n",
       "      <td>65_VioNTU_0.mp4</td>\n",
       "      <td>0</td>\n",
       "      <td>[0.8527208  0.14727923]</td>\n",
       "      <td>0</td>\n",
       "    </tr>\n",
       "    <tr>\n",
       "      <th>3</th>\n",
       "      <td>3</td>\n",
       "      <td>194_VioNTU_0.mp4 0</td>\n",
       "      <td>194_VioNTU_0.mp4</td>\n",
       "      <td>0</td>\n",
       "      <td>[0.9968397  0.00316032]</td>\n",
       "      <td>0</td>\n",
       "    </tr>\n",
       "    <tr>\n",
       "      <th>4</th>\n",
       "      <td>4</td>\n",
       "      <td>71_VioNTU_0.mp4 0</td>\n",
       "      <td>71_VioNTU_0.mp4</td>\n",
       "      <td>0</td>\n",
       "      <td>[0.5071335  0.49286655]</td>\n",
       "      <td>0</td>\n",
       "    </tr>\n",
       "    <tr>\n",
       "      <th>...</th>\n",
       "      <td>...</td>\n",
       "      <td>...</td>\n",
       "      <td>...</td>\n",
       "      <td>...</td>\n",
       "      <td>...</td>\n",
       "      <td>...</td>\n",
       "    </tr>\n",
       "    <tr>\n",
       "      <th>618</th>\n",
       "      <td>618</td>\n",
       "      <td>49_VioNTU_1.mp4 1</td>\n",
       "      <td>49_VioNTU_1.mp4</td>\n",
       "      <td>1</td>\n",
       "      <td>[0.00195339 0.99804664]</td>\n",
       "      <td>1</td>\n",
       "    </tr>\n",
       "    <tr>\n",
       "      <th>619</th>\n",
       "      <td>619</td>\n",
       "      <td>180_VioNTU_1.mp4 1</td>\n",
       "      <td>180_VioNTU_1.mp4</td>\n",
       "      <td>1</td>\n",
       "      <td>[1.0234017e-04 9.9989772e-01]</td>\n",
       "      <td>1</td>\n",
       "    </tr>\n",
       "    <tr>\n",
       "      <th>620</th>\n",
       "      <td>620</td>\n",
       "      <td>77_VioNTU_1.mp4 1</td>\n",
       "      <td>77_VioNTU_1.mp4</td>\n",
       "      <td>1</td>\n",
       "      <td>[0.16263144 0.8373686 ]</td>\n",
       "      <td>1</td>\n",
       "    </tr>\n",
       "    <tr>\n",
       "      <th>621</th>\n",
       "      <td>621</td>\n",
       "      <td>266_VioNTU_1.mp4 1</td>\n",
       "      <td>266_VioNTU_1.mp4</td>\n",
       "      <td>1</td>\n",
       "      <td>[0.11356984 0.8864302 ]</td>\n",
       "      <td>1</td>\n",
       "    </tr>\n",
       "    <tr>\n",
       "      <th>622</th>\n",
       "      <td>622</td>\n",
       "      <td>21_VioNTU_1.mp4 1</td>\n",
       "      <td>21_VioNTU_1.mp4</td>\n",
       "      <td>1</td>\n",
       "      <td>[0.22701804 0.77298206]</td>\n",
       "      <td>1</td>\n",
       "    </tr>\n",
       "  </tbody>\n",
       "</table>\n",
       "<p>623 rows × 6 columns</p>\n",
       "</div>"
      ],
      "text/plain": [
       "     Unnamed: 0           full_name         file_name  true_label  \\\n",
       "0             0  253_VioNTU_0.mp4 0  253_VioNTU_0.mp4           0   \n",
       "1             1   18_VioNTU_0.mp4 0   18_VioNTU_0.mp4           0   \n",
       "2             2   65_VioNTU_0.mp4 0   65_VioNTU_0.mp4           0   \n",
       "3             3  194_VioNTU_0.mp4 0  194_VioNTU_0.mp4           0   \n",
       "4             4   71_VioNTU_0.mp4 0   71_VioNTU_0.mp4           0   \n",
       "..          ...                 ...               ...         ...   \n",
       "618         618   49_VioNTU_1.mp4 1   49_VioNTU_1.mp4           1   \n",
       "619         619  180_VioNTU_1.mp4 1  180_VioNTU_1.mp4           1   \n",
       "620         620   77_VioNTU_1.mp4 1   77_VioNTU_1.mp4           1   \n",
       "621         621  266_VioNTU_1.mp4 1  266_VioNTU_1.mp4           1   \n",
       "622         622   21_VioNTU_1.mp4 1   21_VioNTU_1.mp4           1   \n",
       "\n",
       "                   pred_label_orig  pred_label  \n",
       "0          [0.81285137 0.18714872]           0  \n",
       "1          [0.99856555 0.00143448]           0  \n",
       "2          [0.8527208  0.14727923]           0  \n",
       "3          [0.9968397  0.00316032]           0  \n",
       "4          [0.5071335  0.49286655]           0  \n",
       "..                             ...         ...  \n",
       "618        [0.00195339 0.99804664]           1  \n",
       "619  [1.0234017e-04 9.9989772e-01]           1  \n",
       "620        [0.16263144 0.8373686 ]           1  \n",
       "621        [0.11356984 0.8864302 ]           1  \n",
       "622        [0.22701804 0.77298206]           1  \n",
       "\n",
       "[623 rows x 6 columns]"
      ]
     },
     "execution_count": 4,
     "metadata": {},
     "output_type": "execute_result"
    }
   ],
   "source": [
    "df_ntu = pd.read_csv('ntu_violence_test_pred_v2.csv')\n",
    "df_ntu"
   ]
  },
  {
   "cell_type": "code",
   "execution_count": 5,
   "metadata": {},
   "outputs": [
    {
     "data": {
      "text/plain": [
       "623"
      ]
     },
     "execution_count": 5,
     "metadata": {},
     "output_type": "execute_result"
    }
   ],
   "source": [
    "true_label_ntu = df_ntu['true_label'].tolist()\n",
    "pred_label_ntu = df_ntu['pred_label'].tolist()\n",
    "len(true_label_ntu)"
   ]
  },
  {
   "cell_type": "code",
   "execution_count": 6,
   "metadata": {},
   "outputs": [],
   "source": [
    "cm_ntu = confusion_matrix(true_label_ntu, pred_label_ntu)"
   ]
  },
  {
   "cell_type": "code",
   "execution_count": 7,
   "metadata": {},
   "outputs": [
    {
     "name": "stdout",
     "output_type": "stream",
     "text": [
      "Confusion matrix, without normalization\n",
      "[[234  61]\n",
      " [ 54 274]]\n"
     ]
    },
    {
     "data": {
      "image/png": "[encoded data removed]",
      "text/plain": [
       "<Figure size 432x288 with 2 Axes>"
      ]
     },
     "metadata": {
      "needs_background": "light"
     },
     "output_type": "display_data"
    }
   ],
   "source": [
    "plot_confusion_matrix(cm_ntu, labels)"
   ]
  },
  {
   "cell_type": "code",
   "execution_count": 8,
   "metadata": {},
   "outputs": [
    {
     "data": {
      "text/plain": [
       "(0.815205223880597, 0.8142930963207937, 0.8146452142012631, None)"
      ]
     },
     "execution_count": 8,
     "metadata": {},
     "output_type": "execute_result"
    }
   ],
   "source": [
    "precision_recall_fscore_support(true_label_ntu, pred_label_ntu, average='macro')"
   ]
  },
  {
   "cell_type": "markdown",
   "metadata": {},
   "source": [
    "# Github datasets"
   ]
  },
  {
   "cell_type": "code",
   "execution_count": 16,
   "metadata": {},
   "outputs": [
    {
     "data": {
      "text/html": [
       "<div>\n",
       "<style scoped>\n",
       "    .dataframe tbody tr th:only-of-type {\n",
       "        vertical-align: middle;\n",
       "    }\n",
       "\n",
       "    .dataframe tbody tr th {\n",
       "        vertical-align: top;\n",
       "    }\n",
       "\n",
       "    .dataframe thead th {\n",
       "        text-align: right;\n",
       "    }\n",
       "</style>\n",
       "<table border=\"1\" class=\"dataframe\">\n",
       "  <thead>\n",
       "    <tr style=\"text-align: right;\">\n",
       "      <th></th>\n",
       "      <th>Unnamed: 0</th>\n",
       "      <th>full_name</th>\n",
       "      <th>file_name</th>\n",
       "      <th>true_label</th>\n",
       "      <th>pred_label_orig</th>\n",
       "      <th>pred_label</th>\n",
       "    </tr>\n",
       "  </thead>\n",
       "  <tbody>\n",
       "    <tr>\n",
       "      <th>0</th>\n",
       "      <td>0</td>\n",
       "      <td>119_VioGit_0.mp4 0</td>\n",
       "      <td>119_VioGit_0.mp4</td>\n",
       "      <td>0</td>\n",
       "      <td>[0.981458   0.01854202]</td>\n",
       "      <td>0</td>\n",
       "    </tr>\n",
       "    <tr>\n",
       "      <th>1</th>\n",
       "      <td>1</td>\n",
       "      <td>64_VioGit_0.mp4 0</td>\n",
       "      <td>64_VioGit_0.mp4</td>\n",
       "      <td>0</td>\n",
       "      <td>[8.791503e-04 9.991209e-01]</td>\n",
       "      <td>1</td>\n",
       "    </tr>\n",
       "    <tr>\n",
       "      <th>2</th>\n",
       "      <td>2</td>\n",
       "      <td>5_VioGit_0.mp4 0</td>\n",
       "      <td>5_VioGit_0.mp4</td>\n",
       "      <td>0</td>\n",
       "      <td>[0.92057884 0.07942112]</td>\n",
       "      <td>0</td>\n",
       "    </tr>\n",
       "    <tr>\n",
       "      <th>3</th>\n",
       "      <td>3</td>\n",
       "      <td>24_VioGit_0.mp4 0</td>\n",
       "      <td>24_VioGit_0.mp4</td>\n",
       "      <td>0</td>\n",
       "      <td>[0.0226584  0.97734165]</td>\n",
       "      <td>1</td>\n",
       "    </tr>\n",
       "    <tr>\n",
       "      <th>4</th>\n",
       "      <td>4</td>\n",
       "      <td>82_VioGit_0.mp4 0</td>\n",
       "      <td>82_VioGit_0.mp4</td>\n",
       "      <td>0</td>\n",
       "      <td>[0.957425 0.042575]</td>\n",
       "      <td>0</td>\n",
       "    </tr>\n",
       "    <tr>\n",
       "      <th>...</th>\n",
       "      <td>...</td>\n",
       "      <td>...</td>\n",
       "      <td>...</td>\n",
       "      <td>...</td>\n",
       "      <td>...</td>\n",
       "      <td>...</td>\n",
       "    </tr>\n",
       "    <tr>\n",
       "      <th>291</th>\n",
       "      <td>291</td>\n",
       "      <td>40_VioGit_1.mp4 1</td>\n",
       "      <td>40_VioGit_1.mp4</td>\n",
       "      <td>1</td>\n",
       "      <td>[0.27533156 0.7246685 ]</td>\n",
       "      <td>1</td>\n",
       "    </tr>\n",
       "    <tr>\n",
       "      <th>292</th>\n",
       "      <td>292</td>\n",
       "      <td>123_VioGit_1.mp4 1</td>\n",
       "      <td>123_VioGit_1.mp4</td>\n",
       "      <td>1</td>\n",
       "      <td>[0.00245764 0.9975424 ]</td>\n",
       "      <td>1</td>\n",
       "    </tr>\n",
       "    <tr>\n",
       "      <th>293</th>\n",
       "      <td>293</td>\n",
       "      <td>25_VioGit_1.mp4 1</td>\n",
       "      <td>25_VioGit_1.mp4</td>\n",
       "      <td>1</td>\n",
       "      <td>[0.20024294 0.79975706]</td>\n",
       "      <td>1</td>\n",
       "    </tr>\n",
       "    <tr>\n",
       "      <th>294</th>\n",
       "      <td>294</td>\n",
       "      <td>35_VioGit_1.mp4 1</td>\n",
       "      <td>35_VioGit_1.mp4</td>\n",
       "      <td>1</td>\n",
       "      <td>[9.985197e-04 9.990015e-01]</td>\n",
       "      <td>1</td>\n",
       "    </tr>\n",
       "    <tr>\n",
       "      <th>295</th>\n",
       "      <td>295</td>\n",
       "      <td>87_VioGit_1.mp4 1</td>\n",
       "      <td>87_VioGit_1.mp4</td>\n",
       "      <td>1</td>\n",
       "      <td>[1.5271709e-05 9.9998486e-01]</td>\n",
       "      <td>1</td>\n",
       "    </tr>\n",
       "  </tbody>\n",
       "</table>\n",
       "<p>296 rows × 6 columns</p>\n",
       "</div>"
      ],
      "text/plain": [
       "     Unnamed: 0           full_name         file_name  true_label  \\\n",
       "0             0  119_VioGit_0.mp4 0  119_VioGit_0.mp4           0   \n",
       "1             1   64_VioGit_0.mp4 0   64_VioGit_0.mp4           0   \n",
       "2             2    5_VioGit_0.mp4 0    5_VioGit_0.mp4           0   \n",
       "3             3   24_VioGit_0.mp4 0   24_VioGit_0.mp4           0   \n",
       "4             4   82_VioGit_0.mp4 0   82_VioGit_0.mp4           0   \n",
       "..          ...                 ...               ...         ...   \n",
       "291         291   40_VioGit_1.mp4 1   40_VioGit_1.mp4           1   \n",
       "292         292  123_VioGit_1.mp4 1  123_VioGit_1.mp4           1   \n",
       "293         293   25_VioGit_1.mp4 1   25_VioGit_1.mp4           1   \n",
       "294         294   35_VioGit_1.mp4 1   35_VioGit_1.mp4           1   \n",
       "295         295   87_VioGit_1.mp4 1   87_VioGit_1.mp4           1   \n",
       "\n",
       "                   pred_label_orig  pred_label  \n",
       "0          [0.981458   0.01854202]           0  \n",
       "1      [8.791503e-04 9.991209e-01]           1  \n",
       "2          [0.92057884 0.07942112]           0  \n",
       "3          [0.0226584  0.97734165]           1  \n",
       "4              [0.957425 0.042575]           0  \n",
       "..                             ...         ...  \n",
       "291        [0.27533156 0.7246685 ]           1  \n",
       "292        [0.00245764 0.9975424 ]           1  \n",
       "293        [0.20024294 0.79975706]           1  \n",
       "294    [9.985197e-04 9.990015e-01]           1  \n",
       "295  [1.5271709e-05 9.9998486e-01]           1  \n",
       "\n",
       "[296 rows x 6 columns]"
      ]
     },
     "execution_count": 16,
     "metadata": {},
     "output_type": "execute_result"
    }
   ],
   "source": [
    "df_git = pd.read_csv('github_violence_test_pred_v2.csv')\n",
    "df_git"
   ]
  },
  {
   "cell_type": "code",
   "execution_count": 17,
   "metadata": {},
   "outputs": [
    {
     "data": {
      "text/plain": [
       "296"
      ]
     },
     "execution_count": 17,
     "metadata": {},
     "output_type": "execute_result"
    }
   ],
   "source": [
    "true_label_git = df_git['true_label'].tolist()\n",
    "pred_label_git = df_git['pred_label'].tolist()\n",
    "len(true_label_git)"
   ]
  },
  {
   "cell_type": "code",
   "execution_count": 18,
   "metadata": {},
   "outputs": [
    {
     "name": "stdout",
     "output_type": "stream",
     "text": [
      "Confusion matrix, without normalization\n",
      "[[ 85  64]\n",
      " [ 10 137]]\n"
     ]
    },
    {
     "data": {
      "image/png": "[encoded data removed]",
      "text/plain": [
       "<Figure size 432x288 with 2 Axes>"
      ]
     },
     "metadata": {
      "needs_background": "light"
     },
     "output_type": "display_data"
    }
   ],
   "source": [
    "cm_git = confusion_matrix(true_label_git, pred_label_git)\n",
    "plot_confusion_matrix(cm_git, labels)"
   ]
  },
  {
   "cell_type": "code",
   "execution_count": 19,
   "metadata": {},
   "outputs": [
    {
     "data": {
      "text/plain": [
       "(0.7881644409531291, 0.7512212938866822, 0.7420388166572451, None)"
      ]
     },
     "execution_count": 19,
     "metadata": {},
     "output_type": "execute_result"
    }
   ],
   "source": [
    "precision_recall_fscore_support(true_label_git, pred_label_git, average='macro')"
   ]
  },
  {
   "cell_type": "markdown",
   "metadata": {},
   "source": [
    "# NTU_TEST"
   ]
  },
  {
   "cell_type": "code",
   "execution_count": 10,
   "metadata": {},
   "outputs": [
    {
     "data": {
      "text/html": [
       "<div>\n",
       "<style scoped>\n",
       "    .dataframe tbody tr th:only-of-type {\n",
       "        vertical-align: middle;\n",
       "    }\n",
       "\n",
       "    .dataframe tbody tr th {\n",
       "        vertical-align: top;\n",
       "    }\n",
       "\n",
       "    .dataframe thead th {\n",
       "        text-align: right;\n",
       "    }\n",
       "</style>\n",
       "<table border=\"1\" class=\"dataframe\">\n",
       "  <thead>\n",
       "    <tr style=\"text-align: right;\">\n",
       "      <th></th>\n",
       "      <th>Unnamed: 0</th>\n",
       "      <th>full_name</th>\n",
       "      <th>file_name</th>\n",
       "      <th>true_label</th>\n",
       "      <th>pred_label_orig</th>\n",
       "      <th>pred_label</th>\n",
       "    </tr>\n",
       "  </thead>\n",
       "  <tbody>\n",
       "    <tr>\n",
       "      <th>0</th>\n",
       "      <td>0</td>\n",
       "      <td>103_VioNTU_0.mp4 0</td>\n",
       "      <td>103_VioNTU_0.mp4</td>\n",
       "      <td>0</td>\n",
       "      <td>[0.657687   0.34231302]</td>\n",
       "      <td>0</td>\n",
       "    </tr>\n",
       "    <tr>\n",
       "      <th>1</th>\n",
       "      <td>1</td>\n",
       "      <td>39_VioNTU_0.mp4 0</td>\n",
       "      <td>39_VioNTU_0.mp4</td>\n",
       "      <td>0</td>\n",
       "      <td>[0.9942181  0.00578196]</td>\n",
       "      <td>0</td>\n",
       "    </tr>\n",
       "    <tr>\n",
       "      <th>2</th>\n",
       "      <td>2</td>\n",
       "      <td>77_VioNTU_0.mp4 0</td>\n",
       "      <td>77_VioNTU_0.mp4</td>\n",
       "      <td>0</td>\n",
       "      <td>[0.99212915 0.00787099]</td>\n",
       "      <td>0</td>\n",
       "    </tr>\n",
       "    <tr>\n",
       "      <th>3</th>\n",
       "      <td>3</td>\n",
       "      <td>169_VioNTU_0.mp4 0</td>\n",
       "      <td>169_VioNTU_0.mp4</td>\n",
       "      <td>0</td>\n",
       "      <td>[0.6260614  0.37393862]</td>\n",
       "      <td>0</td>\n",
       "    </tr>\n",
       "    <tr>\n",
       "      <th>4</th>\n",
       "      <td>4</td>\n",
       "      <td>281_VioNTU_0.mp4 0</td>\n",
       "      <td>281_VioNTU_0.mp4</td>\n",
       "      <td>0</td>\n",
       "      <td>[0.42545316 0.574547  ]</td>\n",
       "      <td>1</td>\n",
       "    </tr>\n",
       "  </tbody>\n",
       "</table>\n",
       "</div>"
      ],
      "text/plain": [
       "   Unnamed: 0           full_name         file_name  true_label  \\\n",
       "0           0  103_VioNTU_0.mp4 0  103_VioNTU_0.mp4           0   \n",
       "1           1   39_VioNTU_0.mp4 0   39_VioNTU_0.mp4           0   \n",
       "2           2   77_VioNTU_0.mp4 0   77_VioNTU_0.mp4           0   \n",
       "3           3  169_VioNTU_0.mp4 0  169_VioNTU_0.mp4           0   \n",
       "4           4  281_VioNTU_0.mp4 0  281_VioNTU_0.mp4           0   \n",
       "\n",
       "           pred_label_orig  pred_label  \n",
       "0  [0.657687   0.34231302]           0  \n",
       "1  [0.9942181  0.00578196]           0  \n",
       "2  [0.99212915 0.00787099]           0  \n",
       "3  [0.6260614  0.37393862]           0  \n",
       "4  [0.42545316 0.574547  ]           1  "
      ]
     },
     "execution_count": 10,
     "metadata": {},
     "output_type": "execute_result"
    }
   ],
   "source": [
    "df_ntu_test = pd.read_csv('ntu_violence_test_pred_mdoel4.csv')\n",
    "df_ntu_test.head(5)"
   ]
  },
  {
   "cell_type": "code",
   "execution_count": 11,
   "metadata": {},
   "outputs": [
    {
     "data": {
      "text/plain": [
       "57"
      ]
     },
     "execution_count": 11,
     "metadata": {},
     "output_type": "execute_result"
    }
   ],
   "source": [
    "true_label_ntu_test = df_ntu_test['true_label'].tolist()\n",
    "pred_label_ntu_test = df_ntu_test['pred_label'].tolist()\n",
    "len(true_label_ntu_test)"
   ]
  },
  {
   "cell_type": "code",
   "execution_count": 13,
   "metadata": {},
   "outputs": [
    {
     "name": "stdout",
     "output_type": "stream",
     "text": [
      "Confusion matrix, without normalization\n",
      "[[24  3]\n",
      " [ 4 26]]\n"
     ]
    },
    {
     "data": {
      "text/plain": [
       "(0.8768472906403941, 0.8777777777777778, 0.8770416024653314, None)"
      ]
     },
     "execution_count": 13,
     "metadata": {},
     "output_type": "execute_result"
    },
    {
     "data": {
      "image/png": "[encoded data removed]",
      "text/plain": [
       "<Figure size 432x288 with 2 Axes>"
      ]
     },
     "metadata": {
      "needs_background": "light"
     },
     "output_type": "display_data"
    }
   ],
   "source": [
    "cm_ntu_test = confusion_matrix(true_label_ntu_test, pred_label_ntu_test)\n",
    "plot_confusion_matrix(cm_ntu_test, labels)\n",
    "precision_recall_fscore_support(true_label_ntu_test, pred_label_ntu_test, average='macro')"
   ]
  },
  {
   "cell_type": "markdown",
   "metadata": {},
   "source": [
    "# Github dataset with model 4"
   ]
  },
  {
   "cell_type": "code",
   "execution_count": 14,
   "metadata": {},
   "outputs": [
    {
     "data": {
      "text/html": [
       "<div>\n",
       "<style scoped>\n",
       "    .dataframe tbody tr th:only-of-type {\n",
       "        vertical-align: middle;\n",
       "    }\n",
       "\n",
       "    .dataframe tbody tr th {\n",
       "        vertical-align: top;\n",
       "    }\n",
       "\n",
       "    .dataframe thead th {\n",
       "        text-align: right;\n",
       "    }\n",
       "</style>\n",
       "<table border=\"1\" class=\"dataframe\">\n",
       "  <thead>\n",
       "    <tr style=\"text-align: right;\">\n",
       "      <th></th>\n",
       "      <th>Unnamed: 0</th>\n",
       "      <th>full_name</th>\n",
       "      <th>file_name</th>\n",
       "      <th>true_label</th>\n",
       "      <th>pred_label_orig</th>\n",
       "      <th>pred_label</th>\n",
       "    </tr>\n",
       "  </thead>\n",
       "  <tbody>\n",
       "    <tr>\n",
       "      <th>0</th>\n",
       "      <td>0</td>\n",
       "      <td>119_VioGit_0.mp4 0</td>\n",
       "      <td>119_VioGit_0.mp4</td>\n",
       "      <td>0</td>\n",
       "      <td>[0.9248165  0.07518356]</td>\n",
       "      <td>0</td>\n",
       "    </tr>\n",
       "    <tr>\n",
       "      <th>1</th>\n",
       "      <td>1</td>\n",
       "      <td>64_VioGit_0.mp4 0</td>\n",
       "      <td>64_VioGit_0.mp4</td>\n",
       "      <td>0</td>\n",
       "      <td>[0.0573304 0.9426696]</td>\n",
       "      <td>1</td>\n",
       "    </tr>\n",
       "    <tr>\n",
       "      <th>2</th>\n",
       "      <td>2</td>\n",
       "      <td>5_VioGit_0.mp4 0</td>\n",
       "      <td>5_VioGit_0.mp4</td>\n",
       "      <td>0</td>\n",
       "      <td>[0.8129601  0.18703988]</td>\n",
       "      <td>0</td>\n",
       "    </tr>\n",
       "    <tr>\n",
       "      <th>3</th>\n",
       "      <td>3</td>\n",
       "      <td>24_VioGit_0.mp4 0</td>\n",
       "      <td>24_VioGit_0.mp4</td>\n",
       "      <td>0</td>\n",
       "      <td>[0.9451953  0.05480472]</td>\n",
       "      <td>0</td>\n",
       "    </tr>\n",
       "    <tr>\n",
       "      <th>4</th>\n",
       "      <td>4</td>\n",
       "      <td>82_VioGit_0.mp4 0</td>\n",
       "      <td>82_VioGit_0.mp4</td>\n",
       "      <td>0</td>\n",
       "      <td>[0.76965874 0.23034132]</td>\n",
       "      <td>0</td>\n",
       "    </tr>\n",
       "  </tbody>\n",
       "</table>\n",
       "</div>"
      ],
      "text/plain": [
       "   Unnamed: 0           full_name         file_name  true_label  \\\n",
       "0           0  119_VioGit_0.mp4 0  119_VioGit_0.mp4           0   \n",
       "1           1   64_VioGit_0.mp4 0   64_VioGit_0.mp4           0   \n",
       "2           2    5_VioGit_0.mp4 0    5_VioGit_0.mp4           0   \n",
       "3           3   24_VioGit_0.mp4 0   24_VioGit_0.mp4           0   \n",
       "4           4   82_VioGit_0.mp4 0   82_VioGit_0.mp4           0   \n",
       "\n",
       "           pred_label_orig  pred_label  \n",
       "0  [0.9248165  0.07518356]           0  \n",
       "1    [0.0573304 0.9426696]           1  \n",
       "2  [0.8129601  0.18703988]           0  \n",
       "3  [0.9451953  0.05480472]           0  \n",
       "4  [0.76965874 0.23034132]           0  "
      ]
     },
     "execution_count": 14,
     "metadata": {},
     "output_type": "execute_result"
    }
   ],
   "source": [
    "df_git_model4 = pd.read_csv('github_violence_test_pred_mdoel4.csv')\n",
    "df_git_model4.head()"
   ]
  },
  {
   "cell_type": "code",
   "execution_count": 15,
   "metadata": {},
   "outputs": [
    {
     "data": {
      "text/plain": [
       "57"
      ]
     },
     "execution_count": 15,
     "metadata": {},
     "output_type": "execute_result"
    }
   ],
   "source": [
    "true_label_git_model4 = df_git_model4['true_label'].tolist()\n",
    "pred_label_git_model4 = df_git_model4['pred_label'].tolist()\n",
    "len(true_label_ntu_test)"
   ]
  },
  {
   "cell_type": "code",
   "execution_count": 16,
   "metadata": {},
   "outputs": [
    {
     "name": "stdout",
     "output_type": "stream",
     "text": [
      "Confusion matrix, without normalization\n",
      "[[ 94  55]\n",
      " [ 10 137]]\n"
     ]
    },
    {
     "data": {
      "text/plain": [
       "(0.8086939102564102, 0.7814226361685614, 0.775671295486609, None)"
      ]
     },
     "execution_count": 16,
     "metadata": {},
     "output_type": "execute_result"
    },
    {
     "data": {
      "image/png": "[encoded data removed]",
      "text/plain": [
       "<Figure size 432x288 with 2 Axes>"
      ]
     },
     "metadata": {
      "needs_background": "light"
     },
     "output_type": "display_data"
    }
   ],
   "source": [
    "cm_git_model4 = confusion_matrix(true_label_git_model4, pred_label_git_model4)\n",
    "plot_confusion_matrix(cm_git_model4, labels)\n",
    "precision_recall_fscore_support(true_label_git_model4, pred_label_git_model4, average='macro')"
   ]
  },
  {
   "cell_type": "markdown",
   "metadata": {},
   "source": [
    "# Violence test dataset (a. Tri) with model 4"
   ]
  },
  {
   "cell_type": "code",
   "execution_count": 18,
   "metadata": {},
   "outputs": [
    {
     "data": {
      "text/html": [
       "<div>\n",
       "<style scoped>\n",
       "    .dataframe tbody tr th:only-of-type {\n",
       "        vertical-align: middle;\n",
       "    }\n",
       "\n",
       "    .dataframe tbody tr th {\n",
       "        vertical-align: top;\n",
       "    }\n",
       "\n",
       "    .dataframe thead th {\n",
       "        text-align: right;\n",
       "    }\n",
       "</style>\n",
       "<table border=\"1\" class=\"dataframe\">\n",
       "  <thead>\n",
       "    <tr style=\"text-align: right;\">\n",
       "      <th></th>\n",
       "      <th>Unnamed: 0</th>\n",
       "      <th>full_name</th>\n",
       "      <th>file_name</th>\n",
       "      <th>true_label</th>\n",
       "      <th>pred_label_orig</th>\n",
       "      <th>pred_label</th>\n",
       "    </tr>\n",
       "  </thead>\n",
       "  <tbody>\n",
       "    <tr>\n",
       "      <th>0</th>\n",
       "      <td>0</td>\n",
       "      <td>317_VioTest_0.mp4 0</td>\n",
       "      <td>317_VioTest_0.mp4</td>\n",
       "      <td>0</td>\n",
       "      <td>[9.9979496e-01 2.0509788e-04]</td>\n",
       "      <td>0</td>\n",
       "    </tr>\n",
       "    <tr>\n",
       "      <th>1</th>\n",
       "      <td>1</td>\n",
       "      <td>309_VioTest_0.mp4 0</td>\n",
       "      <td>309_VioTest_0.mp4</td>\n",
       "      <td>0</td>\n",
       "      <td>[0.96531665 0.03468335]</td>\n",
       "      <td>0</td>\n",
       "    </tr>\n",
       "    <tr>\n",
       "      <th>2</th>\n",
       "      <td>2</td>\n",
       "      <td>228_VioTest_0.mp4 0</td>\n",
       "      <td>228_VioTest_0.mp4</td>\n",
       "      <td>0</td>\n",
       "      <td>[9.9965608e-01 3.4393126e-04]</td>\n",
       "      <td>0</td>\n",
       "    </tr>\n",
       "    <tr>\n",
       "      <th>3</th>\n",
       "      <td>3</td>\n",
       "      <td>199_VioTest_0.mp4 0</td>\n",
       "      <td>199_VioTest_0.mp4</td>\n",
       "      <td>0</td>\n",
       "      <td>[0.95499116 0.04500891]</td>\n",
       "      <td>0</td>\n",
       "    </tr>\n",
       "    <tr>\n",
       "      <th>4</th>\n",
       "      <td>4</td>\n",
       "      <td>169_VioTest_0.mp4 0</td>\n",
       "      <td>169_VioTest_0.mp4</td>\n",
       "      <td>0</td>\n",
       "      <td>[0.9922756  0.00772446]</td>\n",
       "      <td>0</td>\n",
       "    </tr>\n",
       "    <tr>\n",
       "      <th>...</th>\n",
       "      <td>...</td>\n",
       "      <td>...</td>\n",
       "      <td>...</td>\n",
       "      <td>...</td>\n",
       "      <td>...</td>\n",
       "      <td>...</td>\n",
       "    </tr>\n",
       "    <tr>\n",
       "      <th>568</th>\n",
       "      <td>568</td>\n",
       "      <td>135_VioTest_1.mp4 1</td>\n",
       "      <td>135_VioTest_1.mp4</td>\n",
       "      <td>1</td>\n",
       "      <td>[1.4238474e-04 9.9985766e-01]</td>\n",
       "      <td>1</td>\n",
       "    </tr>\n",
       "    <tr>\n",
       "      <th>569</th>\n",
       "      <td>569</td>\n",
       "      <td>112_VioTest_1.mp4 1</td>\n",
       "      <td>112_VioTest_1.mp4</td>\n",
       "      <td>1</td>\n",
       "      <td>[0.9241918  0.07580827]</td>\n",
       "      <td>0</td>\n",
       "    </tr>\n",
       "    <tr>\n",
       "      <th>570</th>\n",
       "      <td>570</td>\n",
       "      <td>5_VioTest_1.mp4 1</td>\n",
       "      <td>5_VioTest_1.mp4</td>\n",
       "      <td>1</td>\n",
       "      <td>[0.05764918 0.94235086]</td>\n",
       "      <td>1</td>\n",
       "    </tr>\n",
       "    <tr>\n",
       "      <th>571</th>\n",
       "      <td>571</td>\n",
       "      <td>101_VioTest_1.mp4 1</td>\n",
       "      <td>101_VioTest_1.mp4</td>\n",
       "      <td>1</td>\n",
       "      <td>[0.18198663 0.8180134 ]</td>\n",
       "      <td>1</td>\n",
       "    </tr>\n",
       "    <tr>\n",
       "      <th>572</th>\n",
       "      <td>572</td>\n",
       "      <td>6_VioTest_1.mp4 1</td>\n",
       "      <td>6_VioTest_1.mp4</td>\n",
       "      <td>1</td>\n",
       "      <td>[3.5752519e-04 9.9964255e-01]</td>\n",
       "      <td>1</td>\n",
       "    </tr>\n",
       "  </tbody>\n",
       "</table>\n",
       "<p>573 rows × 6 columns</p>\n",
       "</div>"
      ],
      "text/plain": [
       "     Unnamed: 0            full_name          file_name  true_label  \\\n",
       "0             0  317_VioTest_0.mp4 0  317_VioTest_0.mp4           0   \n",
       "1             1  309_VioTest_0.mp4 0  309_VioTest_0.mp4           0   \n",
       "2             2  228_VioTest_0.mp4 0  228_VioTest_0.mp4           0   \n",
       "3             3  199_VioTest_0.mp4 0  199_VioTest_0.mp4           0   \n",
       "4             4  169_VioTest_0.mp4 0  169_VioTest_0.mp4           0   \n",
       "..          ...                  ...                ...         ...   \n",
       "568         568  135_VioTest_1.mp4 1  135_VioTest_1.mp4           1   \n",
       "569         569  112_VioTest_1.mp4 1  112_VioTest_1.mp4           1   \n",
       "570         570    5_VioTest_1.mp4 1    5_VioTest_1.mp4           1   \n",
       "571         571  101_VioTest_1.mp4 1  101_VioTest_1.mp4           1   \n",
       "572         572    6_VioTest_1.mp4 1    6_VioTest_1.mp4           1   \n",
       "\n",
       "                   pred_label_orig  pred_label  \n",
       "0    [9.9979496e-01 2.0509788e-04]           0  \n",
       "1          [0.96531665 0.03468335]           0  \n",
       "2    [9.9965608e-01 3.4393126e-04]           0  \n",
       "3          [0.95499116 0.04500891]           0  \n",
       "4          [0.9922756  0.00772446]           0  \n",
       "..                             ...         ...  \n",
       "568  [1.4238474e-04 9.9985766e-01]           1  \n",
       "569        [0.9241918  0.07580827]           0  \n",
       "570        [0.05764918 0.94235086]           1  \n",
       "571        [0.18198663 0.8180134 ]           1  \n",
       "572  [3.5752519e-04 9.9964255e-01]           1  \n",
       "\n",
       "[573 rows x 6 columns]"
      ]
     },
     "execution_count": 18,
     "metadata": {},
     "output_type": "execute_result"
    }
   ],
   "source": [
    "vio_test_model_4_df = pd.read_csv('violence_test_tri_pred_mdoel4.csv')\n",
    "vio_test_model_4_df"
   ]
  },
  {
   "cell_type": "code",
   "execution_count": 19,
   "metadata": {},
   "outputs": [
    {
     "data": {
      "text/plain": [
       "573"
      ]
     },
     "execution_count": 19,
     "metadata": {},
     "output_type": "execute_result"
    }
   ],
   "source": [
    "true_label_vio_test_model4 = vio_test_model_4_df['true_label'].tolist()\n",
    "pred_label_vio_test_model4 = vio_test_model_4_df['pred_label'].tolist()\n",
    "len(true_label_vio_test_model4)"
   ]
  },
  {
   "cell_type": "code",
   "execution_count": 20,
   "metadata": {},
   "outputs": [
    {
     "name": "stdout",
     "output_type": "stream",
     "text": [
      "Confusion matrix, without normalization\n",
      "[[312  51]\n",
      " [ 29 181]]\n"
     ]
    },
    {
     "data": {
      "text/plain": [
       "(0.8475642127616543, 0.8607044470680835, 0.8526840806252571, None)"
      ]
     },
     "execution_count": 20,
     "metadata": {},
     "output_type": "execute_result"
    },
    {
     "data": {
      "image/png": "[encoded data removed]",
      "text/plain": [
       "<Figure size 432x288 with 2 Axes>"
      ]
     },
     "metadata": {
      "needs_background": "light"
     },
     "output_type": "display_data"
    }
   ],
   "source": [
    "cm_vio_test_model4 = confusion_matrix(true_label_vio_test_model4, pred_label_vio_test_model4)\n",
    "plot_confusion_matrix(cm_vio_test_model4, labels)\n",
    "precision_recall_fscore_support(true_label_vio_test_model4, pred_label_vio_test_model4, average='macro')"
   ]
  },
  {
   "cell_type": "markdown",
   "metadata": {},
   "source": [
    "# Dataset_3 test with model 4"
   ]
  },
  {
   "cell_type": "code",
   "execution_count": 21,
   "metadata": {},
   "outputs": [
    {
     "data": {
      "text/html": [
       "<div>\n",
       "<style scoped>\n",
       "    .dataframe tbody tr th:only-of-type {\n",
       "        vertical-align: middle;\n",
       "    }\n",
       "\n",
       "    .dataframe tbody tr th {\n",
       "        vertical-align: top;\n",
       "    }\n",
       "\n",
       "    .dataframe thead th {\n",
       "        text-align: right;\n",
       "    }\n",
       "</style>\n",
       "<table border=\"1\" class=\"dataframe\">\n",
       "  <thead>\n",
       "    <tr style=\"text-align: right;\">\n",
       "      <th></th>\n",
       "      <th>Unnamed: 0</th>\n",
       "      <th>full_name</th>\n",
       "      <th>file_name</th>\n",
       "      <th>true_label</th>\n",
       "      <th>pred_label_orig</th>\n",
       "      <th>pred_label</th>\n",
       "    </tr>\n",
       "  </thead>\n",
       "  <tbody>\n",
       "    <tr>\n",
       "      <th>0</th>\n",
       "      <td>0</td>\n",
       "      <td>443_RWF_train0.avi 0</td>\n",
       "      <td>443_RWF_train0.avi</td>\n",
       "      <td>0</td>\n",
       "      <td>[0.71320605 0.28679392]</td>\n",
       "      <td>0</td>\n",
       "    </tr>\n",
       "    <tr>\n",
       "      <th>1</th>\n",
       "      <td>1</td>\n",
       "      <td>12_RWF_train0.avi 0</td>\n",
       "      <td>12_RWF_train0.avi</td>\n",
       "      <td>0</td>\n",
       "      <td>[0.9349007 0.0650993]</td>\n",
       "      <td>0</td>\n",
       "    </tr>\n",
       "    <tr>\n",
       "      <th>2</th>\n",
       "      <td>2</td>\n",
       "      <td>637_RWF_train0.avi 0</td>\n",
       "      <td>637_RWF_train0.avi</td>\n",
       "      <td>0</td>\n",
       "      <td>[0.75167656 0.2483235 ]</td>\n",
       "      <td>0</td>\n",
       "    </tr>\n",
       "    <tr>\n",
       "      <th>3</th>\n",
       "      <td>3</td>\n",
       "      <td>339_RWF_train0.avi 0</td>\n",
       "      <td>339_RWF_train0.avi</td>\n",
       "      <td>0</td>\n",
       "      <td>[0.4439725 0.5560276]</td>\n",
       "      <td>1</td>\n",
       "    </tr>\n",
       "    <tr>\n",
       "      <th>4</th>\n",
       "      <td>4</td>\n",
       "      <td>546_RWF_train0.avi 0</td>\n",
       "      <td>546_RWF_train0.avi</td>\n",
       "      <td>0</td>\n",
       "      <td>[0.8993201  0.10067993]</td>\n",
       "      <td>0</td>\n",
       "    </tr>\n",
       "    <tr>\n",
       "      <th>...</th>\n",
       "      <td>...</td>\n",
       "      <td>...</td>\n",
       "      <td>...</td>\n",
       "      <td>...</td>\n",
       "      <td>...</td>\n",
       "      <td>...</td>\n",
       "    </tr>\n",
       "    <tr>\n",
       "      <th>525</th>\n",
       "      <td>525</td>\n",
       "      <td>391_VioKag_1.mp4 1</td>\n",
       "      <td>391_VioKag_1.mp4</td>\n",
       "      <td>1</td>\n",
       "      <td>[0.05103603 0.94896406]</td>\n",
       "      <td>1</td>\n",
       "    </tr>\n",
       "    <tr>\n",
       "      <th>526</th>\n",
       "      <td>526</td>\n",
       "      <td>763_VioKag_1.mp4 1</td>\n",
       "      <td>763_VioKag_1.mp4</td>\n",
       "      <td>1</td>\n",
       "      <td>[5.3888303e-04 9.9946117e-01]</td>\n",
       "      <td>1</td>\n",
       "    </tr>\n",
       "    <tr>\n",
       "      <th>527</th>\n",
       "      <td>527</td>\n",
       "      <td>105_VioKag_1.mp4 1</td>\n",
       "      <td>105_VioKag_1.mp4</td>\n",
       "      <td>1</td>\n",
       "      <td>[0.005426   0.99457407]</td>\n",
       "      <td>1</td>\n",
       "    </tr>\n",
       "    <tr>\n",
       "      <th>528</th>\n",
       "      <td>528</td>\n",
       "      <td>151_VioKag_1.mp4 1</td>\n",
       "      <td>151_VioKag_1.mp4</td>\n",
       "      <td>1</td>\n",
       "      <td>[0.17237942 0.8276207 ]</td>\n",
       "      <td>1</td>\n",
       "    </tr>\n",
       "    <tr>\n",
       "      <th>529</th>\n",
       "      <td>529</td>\n",
       "      <td>846_VioKag_1.mp4 1</td>\n",
       "      <td>846_VioKag_1.mp4</td>\n",
       "      <td>1</td>\n",
       "      <td>[0.00741051 0.99258953]</td>\n",
       "      <td>1</td>\n",
       "    </tr>\n",
       "  </tbody>\n",
       "</table>\n",
       "<p>530 rows × 6 columns</p>\n",
       "</div>"
      ],
      "text/plain": [
       "     Unnamed: 0             full_name           file_name  true_label  \\\n",
       "0             0  443_RWF_train0.avi 0  443_RWF_train0.avi           0   \n",
       "1             1   12_RWF_train0.avi 0   12_RWF_train0.avi           0   \n",
       "2             2  637_RWF_train0.avi 0  637_RWF_train0.avi           0   \n",
       "3             3  339_RWF_train0.avi 0  339_RWF_train0.avi           0   \n",
       "4             4  546_RWF_train0.avi 0  546_RWF_train0.avi           0   \n",
       "..          ...                   ...                 ...         ...   \n",
       "525         525    391_VioKag_1.mp4 1    391_VioKag_1.mp4           1   \n",
       "526         526    763_VioKag_1.mp4 1    763_VioKag_1.mp4           1   \n",
       "527         527    105_VioKag_1.mp4 1    105_VioKag_1.mp4           1   \n",
       "528         528    151_VioKag_1.mp4 1    151_VioKag_1.mp4           1   \n",
       "529         529    846_VioKag_1.mp4 1    846_VioKag_1.mp4           1   \n",
       "\n",
       "                   pred_label_orig  pred_label  \n",
       "0          [0.71320605 0.28679392]           0  \n",
       "1            [0.9349007 0.0650993]           0  \n",
       "2          [0.75167656 0.2483235 ]           0  \n",
       "3            [0.4439725 0.5560276]           1  \n",
       "4          [0.8993201  0.10067993]           0  \n",
       "..                             ...         ...  \n",
       "525        [0.05103603 0.94896406]           1  \n",
       "526  [5.3888303e-04 9.9946117e-01]           1  \n",
       "527        [0.005426   0.99457407]           1  \n",
       "528        [0.17237942 0.8276207 ]           1  \n",
       "529        [0.00741051 0.99258953]           1  \n",
       "\n",
       "[530 rows x 6 columns]"
      ]
     },
     "execution_count": 21,
     "metadata": {},
     "output_type": "execute_result"
    }
   ],
   "source": [
    "dataset3_test_model4_df = pd.read_csv('dataset3_test_pred_model4.csv')\n",
    "dataset3_test_model4_df"
   ]
  },
  {
   "cell_type": "code",
   "execution_count": 22,
   "metadata": {},
   "outputs": [
    {
     "data": {
      "text/plain": [
       "530"
      ]
     },
     "execution_count": 22,
     "metadata": {},
     "output_type": "execute_result"
    }
   ],
   "source": [
    "true_label_ds3_test_model4 = dataset3_test_model4_df['true_label'].tolist()\n",
    "pred_label_ds3_test_model4 = dataset3_test_model4_df['pred_label'].tolist()\n",
    "len(true_label_ds3_test_model4)"
   ]
  },
  {
   "cell_type": "code",
   "execution_count": 23,
   "metadata": {},
   "outputs": [
    {
     "name": "stdout",
     "output_type": "stream",
     "text": [
      "Confusion matrix, without normalization\n",
      "[[260  16]\n",
      " [ 27 227]]\n"
     ]
    },
    {
     "data": {
      "text/plain": [
       "(0.9200398617742791, 0.9178648864544106, 0.9185521655689017, None)"
      ]
     },
     "execution_count": 23,
     "metadata": {},
     "output_type": "execute_result"
    },
    {
     "data": {
      "image/png": "[encoded data removed]",
      "text/plain": [
       "<Figure size 432x288 with 2 Axes>"
      ]
     },
     "metadata": {
      "needs_background": "light"
     },
     "output_type": "display_data"
    }
   ],
   "source": [
    "cm_ds3_test_model4 = confusion_matrix(true_label_ds3_test_model4, pred_label_ds3_test_model4)\n",
    "plot_confusion_matrix(cm_ds3_test_model4, labels)\n",
    "precision_recall_fscore_support(true_label_ds3_test_model4, pred_label_ds3_test_model4, average='macro')"
   ]
  },
  {
   "cell_type": "markdown",
   "metadata": {},
   "source": [
    "# Dataset_5 test with model 5"
   ]
  },
  {
   "cell_type": "code",
   "execution_count": 26,
   "metadata": {},
   "outputs": [
    {
     "data": {
      "text/html": [
       "<div>\n",
       "<style scoped>\n",
       "    .dataframe tbody tr th:only-of-type {\n",
       "        vertical-align: middle;\n",
       "    }\n",
       "\n",
       "    .dataframe tbody tr th {\n",
       "        vertical-align: top;\n",
       "    }\n",
       "\n",
       "    .dataframe thead th {\n",
       "        text-align: right;\n",
       "    }\n",
       "</style>\n",
       "<table border=\"1\" class=\"dataframe\">\n",
       "  <thead>\n",
       "    <tr style=\"text-align: right;\">\n",
       "      <th></th>\n",
       "      <th>Unnamed: 0</th>\n",
       "      <th>full_name</th>\n",
       "      <th>file_name</th>\n",
       "      <th>true_label</th>\n",
       "      <th>pred_label_score</th>\n",
       "      <th>pred_label</th>\n",
       "    </tr>\n",
       "  </thead>\n",
       "  <tbody>\n",
       "    <tr>\n",
       "      <th>0</th>\n",
       "      <td>0</td>\n",
       "      <td>75_VioNTU_0.mp4 0</td>\n",
       "      <td>75_VioNTU_0.mp4</td>\n",
       "      <td>0</td>\n",
       "      <td>[0.9977975  0.00220246]</td>\n",
       "      <td>0</td>\n",
       "    </tr>\n",
       "    <tr>\n",
       "      <th>1</th>\n",
       "      <td>1</td>\n",
       "      <td>81_VioNTU_0.mp4 0</td>\n",
       "      <td>81_VioNTU_0.mp4</td>\n",
       "      <td>0</td>\n",
       "      <td>[0.88512105 0.11487897]</td>\n",
       "      <td>0</td>\n",
       "    </tr>\n",
       "    <tr>\n",
       "      <th>2</th>\n",
       "      <td>2</td>\n",
       "      <td>17_VioNTU_0.mp4 0</td>\n",
       "      <td>17_VioNTU_0.mp4</td>\n",
       "      <td>0</td>\n",
       "      <td>[0.9984032  0.00159686]</td>\n",
       "      <td>0</td>\n",
       "    </tr>\n",
       "    <tr>\n",
       "      <th>3</th>\n",
       "      <td>3</td>\n",
       "      <td>204_VioNTU_0.mp4 0</td>\n",
       "      <td>204_VioNTU_0.mp4</td>\n",
       "      <td>0</td>\n",
       "      <td>[0.9856846  0.01431554]</td>\n",
       "      <td>0</td>\n",
       "    </tr>\n",
       "    <tr>\n",
       "      <th>4</th>\n",
       "      <td>4</td>\n",
       "      <td>66_VioNTU_0.mp4 0</td>\n",
       "      <td>66_VioNTU_0.mp4</td>\n",
       "      <td>0</td>\n",
       "      <td>[0.94281125 0.0571888 ]</td>\n",
       "      <td>0</td>\n",
       "    </tr>\n",
       "    <tr>\n",
       "      <th>...</th>\n",
       "      <td>...</td>\n",
       "      <td>...</td>\n",
       "      <td>...</td>\n",
       "      <td>...</td>\n",
       "      <td>...</td>\n",
       "      <td>...</td>\n",
       "    </tr>\n",
       "    <tr>\n",
       "      <th>543</th>\n",
       "      <td>543</td>\n",
       "      <td>390_Kag_1.mp4 1</td>\n",
       "      <td>390_Kag_1.mp4</td>\n",
       "      <td>1</td>\n",
       "      <td>[0.08610115 0.9138989 ]</td>\n",
       "      <td>1</td>\n",
       "    </tr>\n",
       "    <tr>\n",
       "      <th>544</th>\n",
       "      <td>544</td>\n",
       "      <td>190_Kag_1.mp4 1</td>\n",
       "      <td>190_Kag_1.mp4</td>\n",
       "      <td>1</td>\n",
       "      <td>[2.8179009e-05 9.9997187e-01]</td>\n",
       "      <td>1</td>\n",
       "    </tr>\n",
       "    <tr>\n",
       "      <th>545</th>\n",
       "      <td>545</td>\n",
       "      <td>113_Kag_1.mp4 1</td>\n",
       "      <td>113_Kag_1.mp4</td>\n",
       "      <td>1</td>\n",
       "      <td>[0.00301286 0.9969872 ]</td>\n",
       "      <td>1</td>\n",
       "    </tr>\n",
       "    <tr>\n",
       "      <th>546</th>\n",
       "      <td>546</td>\n",
       "      <td>23_Kag_1.mp4 1</td>\n",
       "      <td>23_Kag_1.mp4</td>\n",
       "      <td>1</td>\n",
       "      <td>[0.00680486 0.9931953 ]</td>\n",
       "      <td>1</td>\n",
       "    </tr>\n",
       "    <tr>\n",
       "      <th>547</th>\n",
       "      <td>547</td>\n",
       "      <td>141_Kag_1.mp4 1</td>\n",
       "      <td>141_Kag_1.mp4</td>\n",
       "      <td>1</td>\n",
       "      <td>[5.4153218e-04 9.9945855e-01]</td>\n",
       "      <td>1</td>\n",
       "    </tr>\n",
       "  </tbody>\n",
       "</table>\n",
       "<p>548 rows × 6 columns</p>\n",
       "</div>"
      ],
      "text/plain": [
       "     Unnamed: 0           full_name         file_name  true_label  \\\n",
       "0             0   75_VioNTU_0.mp4 0   75_VioNTU_0.mp4           0   \n",
       "1             1   81_VioNTU_0.mp4 0   81_VioNTU_0.mp4           0   \n",
       "2             2   17_VioNTU_0.mp4 0   17_VioNTU_0.mp4           0   \n",
       "3             3  204_VioNTU_0.mp4 0  204_VioNTU_0.mp4           0   \n",
       "4             4   66_VioNTU_0.mp4 0   66_VioNTU_0.mp4           0   \n",
       "..          ...                 ...               ...         ...   \n",
       "543         543     390_Kag_1.mp4 1     390_Kag_1.mp4           1   \n",
       "544         544     190_Kag_1.mp4 1     190_Kag_1.mp4           1   \n",
       "545         545     113_Kag_1.mp4 1     113_Kag_1.mp4           1   \n",
       "546         546      23_Kag_1.mp4 1      23_Kag_1.mp4           1   \n",
       "547         547     141_Kag_1.mp4 1     141_Kag_1.mp4           1   \n",
       "\n",
       "                  pred_label_score  pred_label  \n",
       "0          [0.9977975  0.00220246]           0  \n",
       "1          [0.88512105 0.11487897]           0  \n",
       "2          [0.9984032  0.00159686]           0  \n",
       "3          [0.9856846  0.01431554]           0  \n",
       "4          [0.94281125 0.0571888 ]           0  \n",
       "..                             ...         ...  \n",
       "543        [0.08610115 0.9138989 ]           1  \n",
       "544  [2.8179009e-05 9.9997187e-01]           1  \n",
       "545        [0.00301286 0.9969872 ]           1  \n",
       "546        [0.00680486 0.9931953 ]           1  \n",
       "547  [5.4153218e-04 9.9945855e-01]           1  \n",
       "\n",
       "[548 rows x 6 columns]"
      ]
     },
     "execution_count": 26,
     "metadata": {},
     "output_type": "execute_result"
    }
   ],
   "source": [
    "dataset5_test_model5_df = pd.read_csv('dataset5_test_pred_model5.csv')\n",
    "dataset5_test_model5_df"
   ]
  },
  {
   "cell_type": "code",
   "execution_count": 27,
   "metadata": {},
   "outputs": [
    {
     "data": {
      "text/plain": [
       "548"
      ]
     },
     "execution_count": 27,
     "metadata": {},
     "output_type": "execute_result"
    }
   ],
   "source": [
    "true_label_ds5_test_model5 = dataset5_test_model5_df['true_label'].tolist()\n",
    "pred_label_ds5_test_model5 = dataset5_test_model5_df['pred_label'].tolist()\n",
    "len(true_label_ds5_test_model5)"
   ]
  },
  {
   "cell_type": "code",
   "execution_count": 28,
   "metadata": {},
   "outputs": [
    {
     "name": "stdout",
     "output_type": "stream",
     "text": [
      "Confusion matrix, without normalization\n",
      "[[256  16]\n",
      " [ 21 255]]\n"
     ]
    },
    {
     "data": {
      "text/plain": [
       "(0.9325735676129325, 0.9325447570332481, 0.9324815269910725, None)"
      ]
     },
     "execution_count": 28,
     "metadata": {},
     "output_type": "execute_result"
    },
    {
     "data": {
      "image/png": "[encoded data removed]",
      "text/plain": [
       "<Figure size 432x288 with 2 Axes>"
      ]
     },
     "metadata": {
      "needs_background": "light"
     },
     "output_type": "display_data"
    }
   ],
   "source": [
    "cm_ds5_test_model5 = confusion_matrix(true_label_ds5_test_model5, pred_label_ds5_test_model5)\n",
    "plot_confusion_matrix(cm_ds5_test_model5, labels)\n",
    "precision_recall_fscore_support(true_label_ds5_test_model5, pred_label_ds5_test_model5, average='macro')"
   ]
  },
  {
   "cell_type": "markdown",
   "metadata": {},
   "source": [
    "# Private test with model 5"
   ]
  },
  {
   "cell_type": "code",
   "execution_count": 29,
   "metadata": {},
   "outputs": [
    {
     "data": {
      "text/html": [
       "<div>\n",
       "<style scoped>\n",
       "    .dataframe tbody tr th:only-of-type {\n",
       "        vertical-align: middle;\n",
       "    }\n",
       "\n",
       "    .dataframe tbody tr th {\n",
       "        vertical-align: top;\n",
       "    }\n",
       "\n",
       "    .dataframe thead th {\n",
       "        text-align: right;\n",
       "    }\n",
       "</style>\n",
       "<table border=\"1\" class=\"dataframe\">\n",
       "  <thead>\n",
       "    <tr style=\"text-align: right;\">\n",
       "      <th></th>\n",
       "      <th>Unnamed: 0</th>\n",
       "      <th>full_name</th>\n",
       "      <th>file_name</th>\n",
       "      <th>true_label</th>\n",
       "      <th>pred_label_score</th>\n",
       "      <th>pred_label</th>\n",
       "    </tr>\n",
       "  </thead>\n",
       "  <tbody>\n",
       "    <tr>\n",
       "      <th>0</th>\n",
       "      <td>0</td>\n",
       "      <td>131_Test_0.mp4 0</td>\n",
       "      <td>131_Test_0.mp4</td>\n",
       "      <td>0</td>\n",
       "      <td>[0.9516083  0.04839181]</td>\n",
       "      <td>0</td>\n",
       "    </tr>\n",
       "    <tr>\n",
       "      <th>1</th>\n",
       "      <td>1</td>\n",
       "      <td>60_Test_0.mp4 0</td>\n",
       "      <td>60_Test_0.mp4</td>\n",
       "      <td>0</td>\n",
       "      <td>[0.75653005 0.24347001]</td>\n",
       "      <td>0</td>\n",
       "    </tr>\n",
       "    <tr>\n",
       "      <th>2</th>\n",
       "      <td>2</td>\n",
       "      <td>155_Test_0.mp4 0</td>\n",
       "      <td>155_Test_0.mp4</td>\n",
       "      <td>0</td>\n",
       "      <td>[9.999746e-01 2.547617e-05]</td>\n",
       "      <td>0</td>\n",
       "    </tr>\n",
       "    <tr>\n",
       "      <th>3</th>\n",
       "      <td>3</td>\n",
       "      <td>29_Test_0.mp4 0</td>\n",
       "      <td>29_Test_0.mp4</td>\n",
       "      <td>0</td>\n",
       "      <td>[0.6470407  0.35295933]</td>\n",
       "      <td>0</td>\n",
       "    </tr>\n",
       "    <tr>\n",
       "      <th>4</th>\n",
       "      <td>4</td>\n",
       "      <td>135_Test_0.mp4 0</td>\n",
       "      <td>135_Test_0.mp4</td>\n",
       "      <td>0</td>\n",
       "      <td>[9.999919e-01 8.140355e-06]</td>\n",
       "      <td>0</td>\n",
       "    </tr>\n",
       "    <tr>\n",
       "      <th>...</th>\n",
       "      <td>...</td>\n",
       "      <td>...</td>\n",
       "      <td>...</td>\n",
       "      <td>...</td>\n",
       "      <td>...</td>\n",
       "      <td>...</td>\n",
       "    </tr>\n",
       "    <tr>\n",
       "      <th>413</th>\n",
       "      <td>413</td>\n",
       "      <td>114_Test_1.mp4 1</td>\n",
       "      <td>114_Test_1.mp4</td>\n",
       "      <td>1</td>\n",
       "      <td>[0.00800967 0.9919904 ]</td>\n",
       "      <td>1</td>\n",
       "    </tr>\n",
       "    <tr>\n",
       "      <th>414</th>\n",
       "      <td>414</td>\n",
       "      <td>17_Test_1.mp4 1</td>\n",
       "      <td>17_Test_1.mp4</td>\n",
       "      <td>1</td>\n",
       "      <td>[0.39050147 0.60949856]</td>\n",
       "      <td>1</td>\n",
       "    </tr>\n",
       "    <tr>\n",
       "      <th>415</th>\n",
       "      <td>415</td>\n",
       "      <td>69_Test_1.mp4 1</td>\n",
       "      <td>69_Test_1.mp4</td>\n",
       "      <td>1</td>\n",
       "      <td>[0.04990226 0.95009786]</td>\n",
       "      <td>1</td>\n",
       "    </tr>\n",
       "    <tr>\n",
       "      <th>416</th>\n",
       "      <td>416</td>\n",
       "      <td>130_Test_1.mp4 1</td>\n",
       "      <td>130_Test_1.mp4</td>\n",
       "      <td>1</td>\n",
       "      <td>[0.04092239 0.95907766]</td>\n",
       "      <td>1</td>\n",
       "    </tr>\n",
       "    <tr>\n",
       "      <th>417</th>\n",
       "      <td>417</td>\n",
       "      <td>124_Test_1.mp4 1</td>\n",
       "      <td>124_Test_1.mp4</td>\n",
       "      <td>1</td>\n",
       "      <td>[0.03093994 0.9690601 ]</td>\n",
       "      <td>1</td>\n",
       "    </tr>\n",
       "  </tbody>\n",
       "</table>\n",
       "<p>418 rows × 6 columns</p>\n",
       "</div>"
      ],
      "text/plain": [
       "     Unnamed: 0         full_name       file_name  true_label  \\\n",
       "0             0  131_Test_0.mp4 0  131_Test_0.mp4           0   \n",
       "1             1   60_Test_0.mp4 0   60_Test_0.mp4           0   \n",
       "2             2  155_Test_0.mp4 0  155_Test_0.mp4           0   \n",
       "3             3   29_Test_0.mp4 0   29_Test_0.mp4           0   \n",
       "4             4  135_Test_0.mp4 0  135_Test_0.mp4           0   \n",
       "..          ...               ...             ...         ...   \n",
       "413         413  114_Test_1.mp4 1  114_Test_1.mp4           1   \n",
       "414         414   17_Test_1.mp4 1   17_Test_1.mp4           1   \n",
       "415         415   69_Test_1.mp4 1   69_Test_1.mp4           1   \n",
       "416         416  130_Test_1.mp4 1  130_Test_1.mp4           1   \n",
       "417         417  124_Test_1.mp4 1  124_Test_1.mp4           1   \n",
       "\n",
       "                pred_label_score  pred_label  \n",
       "0        [0.9516083  0.04839181]           0  \n",
       "1        [0.75653005 0.24347001]           0  \n",
       "2    [9.999746e-01 2.547617e-05]           0  \n",
       "3        [0.6470407  0.35295933]           0  \n",
       "4    [9.999919e-01 8.140355e-06]           0  \n",
       "..                           ...         ...  \n",
       "413      [0.00800967 0.9919904 ]           1  \n",
       "414      [0.39050147 0.60949856]           1  \n",
       "415      [0.04990226 0.95009786]           1  \n",
       "416      [0.04092239 0.95907766]           1  \n",
       "417      [0.03093994 0.9690601 ]           1  \n",
       "\n",
       "[418 rows x 6 columns]"
      ]
     },
     "execution_count": 29,
     "metadata": {},
     "output_type": "execute_result"
    }
   ],
   "source": [
    "private_test_model5_df = pd.read_csv('private_test_pred_model5.csv')\n",
    "private_test_model5_df"
   ]
  },
  {
   "cell_type": "code",
   "execution_count": 30,
   "metadata": {},
   "outputs": [
    {
     "data": {
      "text/plain": [
       "418"
      ]
     },
     "execution_count": 30,
     "metadata": {},
     "output_type": "execute_result"
    }
   ],
   "source": [
    "true_label_private_test_model5 = private_test_model5_df['true_label'].tolist()\n",
    "pred_label_private_test_model5 = private_test_model5_df['pred_label'].tolist()\n",
    "len(true_label_private_test_model5)"
   ]
  },
  {
   "cell_type": "code",
   "execution_count": 31,
   "metadata": {},
   "outputs": [
    {
     "name": "stdout",
     "output_type": "stream",
     "text": [
      "Confusion matrix, without normalization\n",
      "[[262   9]\n",
      " [  8 139]]\n"
     ]
    },
    {
     "data": {
      "text/plain": [
       "(0.9547797797797797, 0.9561839495945981, 0.9554747955763024, None)"
      ]
     },
     "execution_count": 31,
     "metadata": {},
     "output_type": "execute_result"
    },
    {
     "data": {
      "image/png": "[encoded data removed]",
      "text/plain": [
       "<Figure size 432x288 with 2 Axes>"
      ]
     },
     "metadata": {
      "needs_background": "light"
     },
     "output_type": "display_data"
    }
   ],
   "source": [
    "cm_private_test_model5 = confusion_matrix(true_label_private_test_model5, pred_label_private_test_model5)\n",
    "plot_confusion_matrix(cm_private_test_model5, labels)\n",
    "precision_recall_fscore_support(true_label_private_test_model5, pred_label_private_test_model5, average='macro')"
   ]
  },
  {
   "cell_type": "markdown",
   "metadata": {},
   "source": [
    "# Github dataset with model 5"
   ]
  },
  {
   "cell_type": "code",
   "execution_count": 32,
   "metadata": {},
   "outputs": [
    {
     "data": {
      "text/html": [
       "<div>\n",
       "<style scoped>\n",
       "    .dataframe tbody tr th:only-of-type {\n",
       "        vertical-align: middle;\n",
       "    }\n",
       "\n",
       "    .dataframe tbody tr th {\n",
       "        vertical-align: top;\n",
       "    }\n",
       "\n",
       "    .dataframe thead th {\n",
       "        text-align: right;\n",
       "    }\n",
       "</style>\n",
       "<table border=\"1\" class=\"dataframe\">\n",
       "  <thead>\n",
       "    <tr style=\"text-align: right;\">\n",
       "      <th></th>\n",
       "      <th>Unnamed: 0</th>\n",
       "      <th>full_name</th>\n",
       "      <th>file_name</th>\n",
       "      <th>true_label</th>\n",
       "      <th>pred_label_score</th>\n",
       "      <th>pred_label</th>\n",
       "    </tr>\n",
       "  </thead>\n",
       "  <tbody>\n",
       "    <tr>\n",
       "      <th>0</th>\n",
       "      <td>0</td>\n",
       "      <td>119_VioGit_0.mp4 0</td>\n",
       "      <td>119_VioGit_0.mp4</td>\n",
       "      <td>0</td>\n",
       "      <td>[0.9921495  0.00785066]</td>\n",
       "      <td>0</td>\n",
       "    </tr>\n",
       "    <tr>\n",
       "      <th>1</th>\n",
       "      <td>1</td>\n",
       "      <td>64_VioGit_0.mp4 0</td>\n",
       "      <td>64_VioGit_0.mp4</td>\n",
       "      <td>0</td>\n",
       "      <td>[0.14499445 0.8550055 ]</td>\n",
       "      <td>1</td>\n",
       "    </tr>\n",
       "    <tr>\n",
       "      <th>2</th>\n",
       "      <td>2</td>\n",
       "      <td>5_VioGit_0.mp4 0</td>\n",
       "      <td>5_VioGit_0.mp4</td>\n",
       "      <td>0</td>\n",
       "      <td>[0.99705875 0.00294132]</td>\n",
       "      <td>0</td>\n",
       "    </tr>\n",
       "    <tr>\n",
       "      <th>3</th>\n",
       "      <td>3</td>\n",
       "      <td>24_VioGit_0.mp4 0</td>\n",
       "      <td>24_VioGit_0.mp4</td>\n",
       "      <td>0</td>\n",
       "      <td>[0.29311273 0.70688736]</td>\n",
       "      <td>1</td>\n",
       "    </tr>\n",
       "    <tr>\n",
       "      <th>4</th>\n",
       "      <td>4</td>\n",
       "      <td>82_VioGit_0.mp4 0</td>\n",
       "      <td>82_VioGit_0.mp4</td>\n",
       "      <td>0</td>\n",
       "      <td>[0.82513356 0.1748665 ]</td>\n",
       "      <td>0</td>\n",
       "    </tr>\n",
       "    <tr>\n",
       "      <th>...</th>\n",
       "      <td>...</td>\n",
       "      <td>...</td>\n",
       "      <td>...</td>\n",
       "      <td>...</td>\n",
       "      <td>...</td>\n",
       "      <td>...</td>\n",
       "    </tr>\n",
       "    <tr>\n",
       "      <th>291</th>\n",
       "      <td>291</td>\n",
       "      <td>40_VioGit_1.mp4 1</td>\n",
       "      <td>40_VioGit_1.mp4</td>\n",
       "      <td>1</td>\n",
       "      <td>[0.1239536  0.87604654]</td>\n",
       "      <td>1</td>\n",
       "    </tr>\n",
       "    <tr>\n",
       "      <th>292</th>\n",
       "      <td>292</td>\n",
       "      <td>123_VioGit_1.mp4 1</td>\n",
       "      <td>123_VioGit_1.mp4</td>\n",
       "      <td>1</td>\n",
       "      <td>[0.02386612 0.9761339 ]</td>\n",
       "      <td>1</td>\n",
       "    </tr>\n",
       "    <tr>\n",
       "      <th>293</th>\n",
       "      <td>293</td>\n",
       "      <td>25_VioGit_1.mp4 1</td>\n",
       "      <td>25_VioGit_1.mp4</td>\n",
       "      <td>1</td>\n",
       "      <td>[0.48853385 0.51146626]</td>\n",
       "      <td>1</td>\n",
       "    </tr>\n",
       "    <tr>\n",
       "      <th>294</th>\n",
       "      <td>294</td>\n",
       "      <td>35_VioGit_1.mp4 1</td>\n",
       "      <td>35_VioGit_1.mp4</td>\n",
       "      <td>1</td>\n",
       "      <td>[4.169314e-06 9.999958e-01]</td>\n",
       "      <td>1</td>\n",
       "    </tr>\n",
       "    <tr>\n",
       "      <th>295</th>\n",
       "      <td>295</td>\n",
       "      <td>87_VioGit_1.mp4 1</td>\n",
       "      <td>87_VioGit_1.mp4</td>\n",
       "      <td>1</td>\n",
       "      <td>[1.11870875e-04 9.99888062e-01]</td>\n",
       "      <td>1</td>\n",
       "    </tr>\n",
       "  </tbody>\n",
       "</table>\n",
       "<p>296 rows × 6 columns</p>\n",
       "</div>"
      ],
      "text/plain": [
       "     Unnamed: 0           full_name         file_name  true_label  \\\n",
       "0             0  119_VioGit_0.mp4 0  119_VioGit_0.mp4           0   \n",
       "1             1   64_VioGit_0.mp4 0   64_VioGit_0.mp4           0   \n",
       "2             2    5_VioGit_0.mp4 0    5_VioGit_0.mp4           0   \n",
       "3             3   24_VioGit_0.mp4 0   24_VioGit_0.mp4           0   \n",
       "4             4   82_VioGit_0.mp4 0   82_VioGit_0.mp4           0   \n",
       "..          ...                 ...               ...         ...   \n",
       "291         291   40_VioGit_1.mp4 1   40_VioGit_1.mp4           1   \n",
       "292         292  123_VioGit_1.mp4 1  123_VioGit_1.mp4           1   \n",
       "293         293   25_VioGit_1.mp4 1   25_VioGit_1.mp4           1   \n",
       "294         294   35_VioGit_1.mp4 1   35_VioGit_1.mp4           1   \n",
       "295         295   87_VioGit_1.mp4 1   87_VioGit_1.mp4           1   \n",
       "\n",
       "                    pred_label_score  pred_label  \n",
       "0            [0.9921495  0.00785066]           0  \n",
       "1            [0.14499445 0.8550055 ]           1  \n",
       "2            [0.99705875 0.00294132]           0  \n",
       "3            [0.29311273 0.70688736]           1  \n",
       "4            [0.82513356 0.1748665 ]           0  \n",
       "..                               ...         ...  \n",
       "291          [0.1239536  0.87604654]           1  \n",
       "292          [0.02386612 0.9761339 ]           1  \n",
       "293          [0.48853385 0.51146626]           1  \n",
       "294      [4.169314e-06 9.999958e-01]           1  \n",
       "295  [1.11870875e-04 9.99888062e-01]           1  \n",
       "\n",
       "[296 rows x 6 columns]"
      ]
     },
     "execution_count": 32,
     "metadata": {},
     "output_type": "execute_result"
    }
   ],
   "source": [
    "github_test_model5_df = pd.read_csv('github_pred_model5.csv')\n",
    "github_test_model5_df"
   ]
  },
  {
   "cell_type": "code",
   "execution_count": 34,
   "metadata": {},
   "outputs": [
    {
     "data": {
      "text/plain": [
       "296"
      ]
     },
     "execution_count": 34,
     "metadata": {},
     "output_type": "execute_result"
    }
   ],
   "source": [
    "true_label_github_test_model5 = github_test_model5_df['true_label'].tolist()\n",
    "pred_label_github_test_model5 = github_test_model5_df['pred_label'].tolist()\n",
    "len(true_label_github_test_model5)"
   ]
  },
  {
   "cell_type": "code",
   "execution_count": 35,
   "metadata": {},
   "outputs": [
    {
     "name": "stdout",
     "output_type": "stream",
     "text": [
      "Confusion matrix, without normalization\n",
      "[[111  38]\n",
      " [  8 139]]\n"
     ]
    },
    {
     "data": {
      "text/plain": [
       "(0.8590419218534872, 0.8452723371227686, 0.8431914501566244, None)"
      ]
     },
     "execution_count": 35,
     "metadata": {},
     "output_type": "execute_result"
    },
    {
     "data": {
      "image/png": "[encoded data removed]",
      "text/plain": [
       "<Figure size 432x288 with 2 Axes>"
      ]
     },
     "metadata": {
      "needs_background": "light"
     },
     "output_type": "display_data"
    }
   ],
   "source": [
    "cm_private_test_model5 = confusion_matrix(true_label_github_test_model5, pred_label_github_test_model5)\n",
    "plot_confusion_matrix(cm_private_test_model5, labels)\n",
    "precision_recall_fscore_support(true_label_github_test_model5, pred_label_github_test_model5, average='macro')"
   ]
  },
  {
   "cell_type": "code",
   "execution_count": null,
   "metadata": {},
   "outputs": [],
   "source": []
  }
 ],
 "metadata": {
  "kernelspec": {
   "display_name": "mmaction",
   "language": "python",
   "name": "mmaction"
  },
  "language_info": {
   "codemirror_mode": {
    "name": "ipython",
    "version": 3
   },
   "file_extension": ".py",
   "mimetype": "text/x-python",
   "name": "python",
   "nbconvert_exporter": "python",
   "pygments_lexer": "ipython3",
   "version": "3.7.7"
  }
 },
 "nbformat": 4,
 "nbformat_minor": 4
}
