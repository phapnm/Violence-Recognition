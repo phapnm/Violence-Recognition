{
 "cells": [
  {
   "cell_type": "code",
   "execution_count": 22,
   "metadata": {},
   "outputs": [],
   "source": [
    "import pandas as pd\n",
    "import numpy as np\n",
    "\n",
    "from sklearn.metrics import confusion_matrix\n",
    "from sklearn.metrics import plot_confusion_matrix\n",
    "import matplotlib.pyplot as plt\n",
    "import itertools"
   ]
  },
  {
   "cell_type": "code",
   "execution_count": 7,
   "metadata": {},
   "outputs": [
    {
     "data": {
      "text/html": [
       "<div>\n",
       "<style scoped>\n",
       "    .dataframe tbody tr th:only-of-type {\n",
       "        vertical-align: middle;\n",
       "    }\n",
       "\n",
       "    .dataframe tbody tr th {\n",
       "        vertical-align: top;\n",
       "    }\n",
       "\n",
       "    .dataframe thead th {\n",
       "        text-align: right;\n",
       "    }\n",
       "</style>\n",
       "<table border=\"1\" class=\"dataframe\">\n",
       "  <thead>\n",
       "    <tr style=\"text-align: right;\">\n",
       "      <th></th>\n",
       "      <th>Unnamed: 0</th>\n",
       "      <th>full_name</th>\n",
       "      <th>file_name</th>\n",
       "      <th>true_label</th>\n",
       "      <th>pred_label_orig</th>\n",
       "      <th>pred_label</th>\n",
       "    </tr>\n",
       "  </thead>\n",
       "  <tbody>\n",
       "    <tr>\n",
       "      <th>0</th>\n",
       "      <td>0</td>\n",
       "      <td>443_RWF_train0.avi 0</td>\n",
       "      <td>443_RWF_train0.avi</td>\n",
       "      <td>0</td>\n",
       "      <td>[0.9497355  0.05026454]</td>\n",
       "      <td>0</td>\n",
       "    </tr>\n",
       "    <tr>\n",
       "      <th>1</th>\n",
       "      <td>1</td>\n",
       "      <td>12_RWF_train0.avi 0</td>\n",
       "      <td>12_RWF_train0.avi</td>\n",
       "      <td>0</td>\n",
       "      <td>[0.98816484 0.01183521]</td>\n",
       "      <td>0</td>\n",
       "    </tr>\n",
       "    <tr>\n",
       "      <th>2</th>\n",
       "      <td>2</td>\n",
       "      <td>637_RWF_train0.avi 0</td>\n",
       "      <td>637_RWF_train0.avi</td>\n",
       "      <td>0</td>\n",
       "      <td>[0.32105327 0.6789468 ]</td>\n",
       "      <td>1</td>\n",
       "    </tr>\n",
       "    <tr>\n",
       "      <th>3</th>\n",
       "      <td>3</td>\n",
       "      <td>339_RWF_train0.avi 0</td>\n",
       "      <td>339_RWF_train0.avi</td>\n",
       "      <td>0</td>\n",
       "      <td>[0.9183778 0.0816223]</td>\n",
       "      <td>0</td>\n",
       "    </tr>\n",
       "    <tr>\n",
       "      <th>4</th>\n",
       "      <td>4</td>\n",
       "      <td>546_RWF_train0.avi 0</td>\n",
       "      <td>546_RWF_train0.avi</td>\n",
       "      <td>0</td>\n",
       "      <td>[0.99766046 0.00233963]</td>\n",
       "      <td>0</td>\n",
       "    </tr>\n",
       "    <tr>\n",
       "      <th>...</th>\n",
       "      <td>...</td>\n",
       "      <td>...</td>\n",
       "      <td>...</td>\n",
       "      <td>...</td>\n",
       "      <td>...</td>\n",
       "      <td>...</td>\n",
       "    </tr>\n",
       "    <tr>\n",
       "      <th>195</th>\n",
       "      <td>195</td>\n",
       "      <td>687_RWF_train1.avi 1</td>\n",
       "      <td>687_RWF_train1.avi</td>\n",
       "      <td>1</td>\n",
       "      <td>[0.0309114 0.9690887]</td>\n",
       "      <td>1</td>\n",
       "    </tr>\n",
       "    <tr>\n",
       "      <th>196</th>\n",
       "      <td>196</td>\n",
       "      <td>435_RWF_train1.avi 1</td>\n",
       "      <td>435_RWF_train1.avi</td>\n",
       "      <td>1</td>\n",
       "      <td>[0.9973768  0.00262317]</td>\n",
       "      <td>0</td>\n",
       "    </tr>\n",
       "    <tr>\n",
       "      <th>197</th>\n",
       "      <td>197</td>\n",
       "      <td>273_RWF_train1.avi 1</td>\n",
       "      <td>273_RWF_train1.avi</td>\n",
       "      <td>1</td>\n",
       "      <td>[7.1250106e-05 9.9992877e-01]</td>\n",
       "      <td>1</td>\n",
       "    </tr>\n",
       "    <tr>\n",
       "      <th>198</th>\n",
       "      <td>198</td>\n",
       "      <td>248_RWF_train1.avi 1</td>\n",
       "      <td>248_RWF_train1.avi</td>\n",
       "      <td>1</td>\n",
       "      <td>[9.1588503e-04 9.9908423e-01]</td>\n",
       "      <td>1</td>\n",
       "    </tr>\n",
       "    <tr>\n",
       "      <th>199</th>\n",
       "      <td>199</td>\n",
       "      <td>688_RWF_train1.avi 1</td>\n",
       "      <td>688_RWF_train1.avi</td>\n",
       "      <td>1</td>\n",
       "      <td>[0.0263124 0.9736876]</td>\n",
       "      <td>1</td>\n",
       "    </tr>\n",
       "  </tbody>\n",
       "</table>\n",
       "<p>200 rows × 6 columns</p>\n",
       "</div>"
      ],
      "text/plain": [
       "     Unnamed: 0             full_name           file_name  true_label  \\\n",
       "0             0  443_RWF_train0.avi 0  443_RWF_train0.avi           0   \n",
       "1             1   12_RWF_train0.avi 0   12_RWF_train0.avi           0   \n",
       "2             2  637_RWF_train0.avi 0  637_RWF_train0.avi           0   \n",
       "3             3  339_RWF_train0.avi 0  339_RWF_train0.avi           0   \n",
       "4             4  546_RWF_train0.avi 0  546_RWF_train0.avi           0   \n",
       "..          ...                   ...                 ...         ...   \n",
       "195         195  687_RWF_train1.avi 1  687_RWF_train1.avi           1   \n",
       "196         196  435_RWF_train1.avi 1  435_RWF_train1.avi           1   \n",
       "197         197  273_RWF_train1.avi 1  273_RWF_train1.avi           1   \n",
       "198         198  248_RWF_train1.avi 1  248_RWF_train1.avi           1   \n",
       "199         199  688_RWF_train1.avi 1  688_RWF_train1.avi           1   \n",
       "\n",
       "                   pred_label_orig  pred_label  \n",
       "0          [0.9497355  0.05026454]           0  \n",
       "1          [0.98816484 0.01183521]           0  \n",
       "2          [0.32105327 0.6789468 ]           1  \n",
       "3            [0.9183778 0.0816223]           0  \n",
       "4          [0.99766046 0.00233963]           0  \n",
       "..                             ...         ...  \n",
       "195          [0.0309114 0.9690887]           1  \n",
       "196        [0.9973768  0.00262317]           0  \n",
       "197  [7.1250106e-05 9.9992877e-01]           1  \n",
       "198  [9.1588503e-04 9.9908423e-01]           1  \n",
       "199          [0.0263124 0.9736876]           1  \n",
       "\n",
       "[200 rows x 6 columns]"
      ]
     },
     "execution_count": 7,
     "metadata": {},
     "output_type": "execute_result"
    }
   ],
   "source": [
    "df = pd.read_csv('./test_pred.csv')\n",
    "df"
   ]
  },
  {
   "cell_type": "code",
   "execution_count": 27,
   "metadata": {},
   "outputs": [],
   "source": [
    "true_label = df['true_label'].tolist()\n",
    "pred_label = df['pred_label'].tolist()"
   ]
  },
  {
   "cell_type": "code",
   "execution_count": 31,
   "metadata": {},
   "outputs": [],
   "source": [
    "cm = confusion_matrix(true_label, pred_label)\n",
    "labels = ['Non Violence', 'Violence']"
   ]
  },
  {
   "cell_type": "code",
   "execution_count": 29,
   "metadata": {},
   "outputs": [],
   "source": [
    "def plot_confusion_matrix(cm, classes, normalize=False, title='Confusion matrix', cmap=plt.cm.Blues):\n",
    "    if normalize:\n",
    "        cm = cm.astype('float') / cm.sum(axis=1)[:, np.newaxis]\n",
    "        print(\"Normalized confusion matrix\")\n",
    "    else:\n",
    "        print('Confusion matrix, without normalization')\n",
    "\n",
    "    print(cm)\n",
    "    plt.imshow(cm, interpolation='nearest', cmap=cmap)\n",
    "    plt.title(title)\n",
    "    plt.colorbar()\n",
    "    tick_marks = np.arange(len(classes))\n",
    "    plt.xticks(tick_marks, classes, rotation=45)\n",
    "    plt.yticks(tick_marks, classes)\n",
    "\n",
    "    fmt = '.2f' if normalize else 'd'\n",
    "    thresh = cm.max() / 2.\n",
    "    for i, j in itertools.product(range(cm.shape[0]), range(cm.shape[1])):\n",
    "        plt.text(j, i, format(cm[i, j], fmt), horizontalalignment=\"center\", color=\"white\" if cm[i, j] > thresh else \"black\")\n",
    "\n",
    "    plt.tight_layout()\n",
    "    plt.ylabel('True label')\n",
    "    plt.xlabel('Predicted label')"
   ]
  },
  {
   "cell_type": "code",
   "execution_count": 30,
   "metadata": {},
   "outputs": [
    {
     "name": "stdout",
     "output_type": "stream",
     "text": [
      "Confusion matrix, without normalization\n",
      "[[91  9]\n",
      " [15 85]]\n"
     ]
    },
    {
     "data": {
      "image/png": "[encoded data removed]",
      "text/plain": [
       "<Figure size 432x288 with 2 Axes>"
      ]
     },
     "metadata": {
      "needs_background": "light"
     },
     "output_type": "display_data"
    }
   ],
   "source": [
    "plot_confusion_matrix(cm=cm, classes=labels)"
   ]
  },
  {
   "cell_type": "code",
   "execution_count": null,
   "metadata": {},
   "outputs": [],
   "source": []
  }
 ],
 "metadata": {
  "kernelspec": {
   "display_name": "mmaction",
   "language": "python",
   "name": "mmaction"
  },
  "language_info": {
   "codemirror_mode": {
    "name": "ipython",
    "version": 3
   },
   "file_extension": ".py",
   "mimetype": "text/x-python",
   "name": "python",
   "nbconvert_exporter": "python",
   "pygments_lexer": "ipython3",
   "version": "3.7.7"
  }
 },
 "nbformat": 4,
 "nbformat_minor": 4
}
