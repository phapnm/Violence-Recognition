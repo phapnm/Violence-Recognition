{
 "cells": [
  {
   "cell_type": "code",
   "execution_count": 3,
   "metadata": {
    "pycharm": {
     "is_executing": false
    }
   },
   "outputs": [
    {
     "name": "stderr",
     "output_type": "stream",
     "text": [
      "/home/run/anaconda3/envs/mmaction/lib/python3.7/site-packages/setuptools/distutils_patch.py:26: UserWarning: Distutils was imported before Setuptools. This usage is discouraged and may exhibit undesirable behaviors or errors. Please use Setuptools' objects directly or at least import Setuptools first.\n",
      "  \"Distutils was imported before Setuptools. This usage is discouraged \"\n"
     ]
    }
   ],
   "source": [
    "from mmaction.apis import init_recognizer, inference_recognizer"
   ]
  },
  {
   "cell_type": "code",
   "execution_count": 4,
   "metadata": {
    "pycharm": {
     "is_executing": false
    }
   },
   "outputs": [],
   "source": [
    "config_file_tsn = '../configs/recognition/tsn/tsn_r50_video_inference_1x1x3_100e_kinetics400_rgb.py'\n",
    "config_file_sf = '../configs/recognition/slowfast/slowfast_r50_video_inference_4x16x1_256e_kinetics400_rgb.py'\n",
    "\n",
    "# download the checkpoint from model zoo and put it in `checkpoints/`\n",
    "checkpoint_file_tsn = '../checkpoints/tsn_r50_1x1x3_100e_kinetics400_rgb_20200614-e508be42.pth'\n",
    "checkpoint_file_sf = '../checkpoints/slowfast_r50_4x16x1_256e_kinetics400_rgb_20200704-bcde7ed7.pth'"
   ]
  },
  {
   "cell_type": "code",
   "execution_count": 5,
   "metadata": {
    "pycharm": {
     "is_executing": false
    }
   },
   "outputs": [],
   "source": [
    "# build the model from a config file and a checkpoint file\n",
    "model_tsn = init_recognizer(config_file_tsn, checkpoint_file_tsn, device='cuda:0')\n"
   ]
  },
  {
   "cell_type": "code",
   "execution_count": 22,
   "metadata": {},
   "outputs": [],
   "source": [
    "model_sf = init_recognizer(config_file_sf, checkpoint_file_sf, device='cpu')"
   ]
  },
  {
   "cell_type": "code",
   "execution_count": 23,
   "metadata": {
    "pycharm": {
     "is_executing": false
    }
   },
   "outputs": [],
   "source": [
    "# test a single video and show the result:\n",
    "video = 'data.mp4'\n",
    "label = 'label_map.txt'\n"
   ]
  },
  {
   "cell_type": "code",
   "execution_count": 25,
   "metadata": {},
   "outputs": [],
   "source": [
    "#results_tsn = inference_recognizer(model_tsn, video, label)\n",
    "results_sf = inference_recognizer(model_sf, video, label)"
   ]
  },
  {
   "cell_type": "code",
   "execution_count": 18,
   "metadata": {
    "collapsed": false,
    "jupyter": {
     "outputs_hidden": false
    },
    "pycharm": {
     "is_executing": false,
     "name": "#%%\n"
    }
   },
   "outputs": [
    {
     "name": "stdout",
     "output_type": "stream",
     "text": [
      "blowing glass:  12.581466\n",
      "archery:  8.316591\n",
      "contact juggling:  7.1402903\n",
      "bending metal:  6.2094\n",
      "balloon blowing:  5.986574\n"
     ]
    }
   ],
   "source": [
    "# show the results\n",
    "for result in results_tsn:\n",
    "    print(f'{result[0]}: ', result[1])"
   ]
  },
  {
   "cell_type": "code",
   "execution_count": 27,
   "metadata": {},
   "outputs": [
    {
     "name": "stdout",
     "output_type": "stream",
     "text": [
      "pumping gas:  9.42935\n",
      "driving car:  7.062298\n",
      "news anchoring:  6.9394813\n",
      "motorcycling:  6.676215\n",
      "pushing car:  6.4524174\n"
     ]
    }
   ],
   "source": [
    "# show the results\n",
    "for result in results_sf:\n",
    "    print(f'{result[0]}: ', result[1])"
   ]
  },
  {
   "cell_type": "code",
   "execution_count": 11,
   "metadata": {},
   "outputs": [],
   "source": [
    "from moviepy.editor import (ImageSequenceClip, TextClip, VideoFileClip,\n",
    "                                    CompositeVideoClip)"
   ]
  },
  {
   "cell_type": "code",
   "execution_count": 12,
   "metadata": {},
   "outputs": [],
   "source": [
    "import os.path as osp"
   ]
  },
  {
   "cell_type": "code",
   "execution_count": 13,
   "metadata": {},
   "outputs": [],
   "source": [
    "video_clips = VideoFileClip(\n",
    "            video, resize_algorithm='bicubic')"
   ]
  },
  {
   "cell_type": "code",
   "execution_count": 14,
   "metadata": {},
   "outputs": [
    {
     "name": "stdout",
     "output_type": "stream",
     "text": [
      "blowing glass:  10.086767\n"
     ]
    }
   ],
   "source": [
    "print(f'{results_sf[0][0]}: ', results_sf[0][1])\n"
   ]
  },
  {
   "cell_type": "code",
   "execution_count": 15,
   "metadata": {},
   "outputs": [],
   "source": [
    "text = results_sf[0][0] + f': {results_sf[0][1]}' + f'\\n{results_sf[1][0]}' + f': {results_sf[1][1]}'"
   ]
  },
  {
   "cell_type": "code",
   "execution_count": 16,
   "metadata": {},
   "outputs": [
    {
     "name": "stderr",
     "output_type": "stream",
     "text": [
      "t:  21%|██        | 48/226 [00:00<00:00, 437.65it/s, now=None]"
     ]
    },
    {
     "name": "stdout",
     "output_type": "stream",
     "text": [
      "Moviepy - Building video out1.mp4.\n",
      "Moviepy - Writing video out1.mp4\n",
      "\n"
     ]
    },
    {
     "name": "stderr",
     "output_type": "stream",
     "text": [
      "                                                               \r"
     ]
    },
    {
     "name": "stdout",
     "output_type": "stream",
     "text": [
      "Moviepy - Done !\n",
      "Moviepy - video ready out1.mp4\n"
     ]
    }
   ],
   "source": [
    "duration_video_clip = video_clips.duration\n",
    "text_clips = TextClip(text, fontsize=15, color='white')\n",
    "text_clips = (\n",
    "        text_clips.set_position(\n",
    "            ('right', 'bottom'),\n",
    "            relative=True).set_duration(duration_video_clip))\n",
    "\n",
    "video_clips = CompositeVideoClip([video_clips, text_clips])\n",
    "#video_clips2 = CompositeVideoClip([video_clips, text_clips, text_clips2])\n",
    "\n",
    "out_type = osp.splitext('out1.mp4')\n",
    "video_clips.write_videofile('out1.mp4', remove_temp=True, fps=24)"
   ]
  },
  {
   "cell_type": "code",
   "execution_count": null,
   "metadata": {},
   "outputs": [],
   "source": []
  }
 ],
 "metadata": {
  "kernelspec": {
   "display_name": "mmaction",
   "language": "python",
   "name": "mmaction"
  },
  "language_info": {
   "codemirror_mode": {
    "name": "ipython",
    "version": 3
   },
   "file_extension": ".py",
   "mimetype": "text/x-python",
   "name": "python",
   "nbconvert_exporter": "python",
   "pygments_lexer": "ipython3",
   "version": "3.7.7"
  },
  "pycharm": {
   "stem_cell": {
    "cell_type": "raw",
    "metadata": {
     "collapsed": false
    },
    "source": []
   }
  }
 },
 "nbformat": 4,
 "nbformat_minor": 4
}
